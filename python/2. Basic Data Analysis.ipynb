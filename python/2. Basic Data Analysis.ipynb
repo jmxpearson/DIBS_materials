{
 "cells": [
  {
   "cell_type": "markdown",
   "source": [
    "# Case Study 1: Diamonds"
   ],
   "metadata": {}
  },
  {
   "cell_type": "markdown",
   "source": [
    "In this lesson, we're going to do some basic data analyses on a set of diamond characteristics and prices. "
   ],
   "metadata": {}
  },
  {
   "cell_type": "code",
   "execution_count": null,
   "source": [
    "import os\n",
    "my_dir = os.getcwd() # get current working directory\n",
    "my_dir"
   ],
   "outputs": [],
   "metadata": {}
  },
  {
   "cell_type": "markdown",
   "source": [
    "You should see something like `'/home/user/work/DIBS_materials/python'`. Make sure it ends with `/DIBS_materials/python`."
   ],
   "metadata": {}
  },
  {
   "cell_type": "code",
   "execution_count": null,
   "source": [
    "!mkdir data # make directory called \"data\"\n",
    "target_dir = os.path.join(my_dir, 'data/')\n",
    "!wget -P \"$target_dir\" \"https://people.duke.edu/~jmp33/dibs/minerals.csv\" # download csv to data folder\n",
    "\n",
    "# if this doesn't work, manually download `minerals.csv` from https://people.duke.edu/~jmp33/dibs/ \n",
    "# to your local machine, and upload it to `data` folder"
   ],
   "outputs": [],
   "metadata": {}
  },
  {
   "cell_type": "markdown",
   "source": [
    "If you open the file in a text editor, you will see that it consists of a bunch of lines, each with a bunch of commas. This is a csv or \"comma-separated value\" file. Every row represents a record (like a row in a spreadsheet), with each cell separated by a comma. The first row has the same format, but the entries are the names of the columns."
   ],
   "metadata": {}
  },
  {
   "cell_type": "markdown",
   "source": [
    "# Loading the data"
   ],
   "metadata": {}
  },
  {
   "cell_type": "markdown",
   "source": [
    "We would like to load this data into Python. But to do so, we will need to tell Python that we want to get some tools ready. These tools are located in a library (the Python term is \"module\") called Pandas. So we do this:"
   ],
   "metadata": {}
  },
  {
   "cell_type": "code",
   "execution_count": 1,
   "source": [
    "import pandas as pd"
   ],
   "outputs": [],
   "metadata": {
    "collapsed": false
   }
  },
  {
   "cell_type": "markdown",
   "source": [
    "This tells Python to load the `pandas` module and nickname it `pd`. Then, whenever we want to use functionality from `pandas`, we do so by giving the address of the function we want. In this case, we want to load data from a csv file, so we call the function `read_csv`:"
   ],
   "metadata": {}
  },
  {
   "cell_type": "code",
   "execution_count": 2,
   "source": [
    "# we can include comments like this\n",
    "\n",
    "# note that for the following to work, you will need to be running the notebook from a folder\n",
    "# with a subdirectory called data that has the minerals.csv file inside\n",
    "data = pd.read_csv('data/minerals.csv')"
   ],
   "outputs": [],
   "metadata": {
    "collapsed": false
   }
  },
  {
   "cell_type": "markdown",
   "source": [
    "Let's read from the left:\n",
    "\n",
    "`data =` \n",
    "\n",
    "tells Python that we want to do something (on the right hand side of the equation) and assign its output to a variable called `data`. We could have called it `duck` or `shotput` or `harmony`, but we want to give our variables meaningful names, and in cases where we are only going to be exploring a single dataset, it's convenient to name it the obvious thing.\n",
    "\n",
    "On the right hand side, we're doing several things:\n",
    "- We're telling Python to look in the `pandas` module (nicknamed `pd`)\n",
    "- We telling Python to call a function named `read_csv` that's found there (we will find that looking up functions in modules is a lot like looking up files in directories)\n",
    "- We're giving the function the (local) path to the file in quotes\n",
    "\n",
    "We will see this pattern repeatedly in Python. We use names like `read_csv` to tell Python to perform actions. In parentheses, we will supply variables or pieces of information needed as inputs by Python to perform those actions. The actions are called functions (related to the idea of functions in math, which are objects that take inputs and produce an output), and the pieces of information inside parentheses are called \"arguments.\" Much more on all of this later."
   ],
   "metadata": {}
  },
  {
   "cell_type": "markdown",
   "source": [
    "# Examining the data"
   ],
   "metadata": {}
  },
  {
   "cell_type": "markdown",
   "source": [
    "So what did we accomplish?\n",
    "\n",
    "The easiest way to see is by asking Python to print the variable to the screen. We can do this with"
   ],
   "metadata": {}
  },
  {
   "cell_type": "code",
   "execution_count": 3,
   "source": [
    "print(data)"
   ],
   "outputs": [
    {
     "output_type": "stream",
     "name": "stdout",
     "text": [
      "        item shape  carat cut color clarity polish symmetry  depth  table  \\\n",
      "0          1    PS   0.28   F     F     SI2     VG        G   61.6   50.0   \n",
      "1          2    PS   0.23   G     F     SI1     VG        G   67.5   51.0   \n",
      "2          3    EC   0.34   G     I     VS2     VG       VG   71.6   65.0   \n",
      "3          4    MQ   0.34   G     J     VS1      G        G   68.2   55.0   \n",
      "4          5    PS   0.23   G     D     SI1     VG       VG   55.0   58.0   \n",
      "5          6    MQ   0.23   F     G     VS2     VG        G   71.6   55.0   \n",
      "6          7    RA   0.37   F     I     SI2      G        G   79.0   76.0   \n",
      "7          8    EC   0.24  VG     E     SI1     VG       VG   68.6   65.0   \n",
      "8          9    RD   0.24   I     G     SI2     VG       VG   62.0   59.0   \n",
      "9         10    MQ   0.33   G     H     SI2      G        G   66.7   61.0   \n",
      "10        11    RD   0.23  VG     E     SI2      G       VG   59.7   59.0   \n",
      "11        12    PS   0.35   F     H     SI2      G        G   50.0   55.0   \n",
      "12        13    PS   0.23  VG     D     SI1     EX       VG   65.8   61.0   \n",
      "13        14    RD   0.25   I     H     SI2     VG       EX   61.2   58.0   \n",
      "14        15    RD   0.25  VG     D     SI2     VG       VG   62.4   59.0   \n",
      "15        16    RA   0.33   G     J    VVS1     VG       VG   59.9   69.0   \n",
      "16        17    RD   0.27   I     H     SI2     VG       VG   61.7   56.0   \n",
      "17        18    CU   0.23   G     D     VS2     VG       VG   56.3   66.0   \n",
      "18        19    RA   0.23  VG     F     VS1     EX       VG   65.2   71.0   \n",
      "19        20    RA   0.23  VG     F     VS2     VG        G   68.6   74.0   \n",
      "20        21    PS   0.39   G     J     VS1      G        G   54.2   66.0   \n",
      "21        22    OV   0.23   F     F     VS1     EX        G   51.4   65.0   \n",
      "22        23    OV   0.33   F     I     SI2     VG       VG   52.4   53.0   \n",
      "23        24    RA   0.23   G     G    VVS2     VG       VG   59.4   71.0   \n",
      "24        25    EC   0.32  VG     I     SI1     EX       EX   67.8   60.0   \n",
      "25        26    CU   0.32  VG     I     VS2     EX       VG   63.8   61.0   \n",
      "26        27    MQ   0.36  VG     G     SI2      G        G   64.9   60.0   \n",
      "27        28    EC   0.23   G     G    VVS1     VG       VG   68.8   73.0   \n",
      "28        29    EC   0.31  VG     F     SI2     VG       VG   65.9   69.0   \n",
      "29        30    EC   0.31  VG     D     SI2     VG       VG   68.2   68.0   \n",
      "...      ...   ...    ...  ..   ...     ...    ...      ...    ...    ...   \n",
      "65346  65347    RD   6.08   I     F    VVS2     EX       EX   62.0   56.0   \n",
      "65347  65348    EC   5.00  VG     D      IF     VG        G   67.3   60.0   \n",
      "65348  65349    EC   8.01  VG     F    VVS2      G        G   68.7   61.0   \n",
      "65349  65350    PS  16.34   G     G    VVS2     VG        G   54.1   62.0   \n",
      "65350  65351    RD  12.33   I     J     VS1     EX       EX   60.4   58.0   \n",
      "65351  65352    OV   5.27  VG     D      IF     EX       EX   60.8   61.0   \n",
      "65352  65353    RD   8.75   I     G     VS1     EX       EX   62.1   57.0   \n",
      "65353  65354    PS   6.22   G     D      IF     VG       VG   56.0   54.0   \n",
      "65354  65355    EC  11.11  VG     H    VVS2     EX        G   60.9   64.0   \n",
      "65355  65356    RA  11.16  VG     D     VS2      G        G   66.2   68.0   \n",
      "65356  65357    RD   5.24   I     E      IF     EX       EX   59.7   59.0   \n",
      "65357  65358    RD   5.27   I     D    VVS1     EX       EX   61.8   56.0   \n",
      "65358  65359    RD   6.02  VG     D    VVS1     VG        G   61.1   59.0   \n",
      "65359  65360    RD   4.83   I     D      IF     EX       EX   61.9   55.0   \n",
      "65360  65361    RD   7.53   I     F    VVS2     EX       EX   62.7   54.0   \n",
      "65361  65362    EC  13.11  VG     H    VVS2     EX       EX   62.5   63.0   \n",
      "65362  65363    OV  11.15   G     F     VS2     VG       VG   65.3   58.0   \n",
      "65363  65364    RD   5.24   I     D      IF     VG       VG   62.6   54.0   \n",
      "65364  65365    EC   7.25   F     D      IF     VG       VG   69.4   53.0   \n",
      "65365  65366    RD   5.34   I     D      IF     EX       EX   61.6   57.0   \n",
      "65366  65367    RD   5.47   I     D      IF     EX       EX   62.4   54.0   \n",
      "65367  65368    RD   6.02   I     D      FL     EX       EX   62.8   57.0   \n",
      "65368  65369    RD   6.54  VG     D    VVS1     VG       VG   58.0   64.0   \n",
      "65369  65370    RD   9.56   I     F      FL     EX       EX   60.3   60.0   \n",
      "65370  65371    CU   8.40   G     D      IF     VG        G   57.9   59.0   \n",
      "65371  65372    RD  10.13   I     F      IF     EX       EX   60.3   58.0   \n",
      "65372  65373    RD  20.13   I     J     VS1     EX       EX   59.2   59.0   \n",
      "65373  65374    RD  12.35   I     G      IF     EX       EX   59.8   60.0   \n",
      "65374  65375    RD   9.19   I     E      IF     EX       EX   60.9   60.0   \n",
      "65375  65376    RD  10.13   I     D      FL     EX       EX   62.5   57.0   \n",
      "\n",
      "      fluorescence  price per carat           culet  length to width ratio  \\\n",
      "0            Faint              864            None                   1.65   \n",
      "1             None             1057            None                   1.46   \n",
      "2            Faint              812            None                   1.40   \n",
      "3            Faint              818            None                   1.52   \n",
      "4             None             1235            None                   1.42   \n",
      "5             None             1248            None                   1.95   \n",
      "6             None              781            None                   1.03   \n",
      "7            Faint             1204            None                   1.34   \n",
      "8             None             1204            None                   1.01   \n",
      "9           Medium              888            None                   2.02   \n",
      "10            None             1278            None                   1.01   \n",
      "11            None              860           Small                   1.35   \n",
      "12            None             1322            None                   1.52   \n",
      "13            None             1216            None                   1.00   \n",
      "14            None             1280            None                   1.01   \n",
      "15            None              976            None                   1.11   \n",
      "16            None             1193            None                   1.01   \n",
      "17           Faint             1426            None                   1.08   \n",
      "18            None             1443            None                   1.13   \n",
      "19            None             1452            None                   1.15   \n",
      "20            None              859  Slightly Large                   1.37   \n",
      "21            None             1461            None                   1.35   \n",
      "22           Faint             1018            None                   1.41   \n",
      "23            None             1474            None                   1.09   \n",
      "24            None             1059            None                   1.45   \n",
      "25            None             1059            None                   1.10   \n",
      "26            None              944           Small                   1.96   \n",
      "27            None             1496            None                   1.30   \n",
      "28            None             1110            None                   1.44   \n",
      "29            None             1113            None                   1.35   \n",
      "...            ...              ...             ...                    ...   \n",
      "65346         None           101250            None                   1.00   \n",
      "65347         None           123700           Small                   1.47   \n",
      "65348         None            77715           Small                   1.49   \n",
      "65349         None            38295            None                   1.59   \n",
      "65350        Faint            51862            None                   1.01   \n",
      "65351         None           121968            None                   1.47   \n",
      "65352         None            74829      Very Small                   1.01   \n",
      "65353         None           105450            None                   1.51   \n",
      "65354         None            59629      Very Small                   1.13   \n",
      "65355  Medium Blue            61372            None                   1.17   \n",
      "65356         None           133488            None                   1.01   \n",
      "65357         None           132894            None                   1.01   \n",
      "65358       Strong           122082      Very Small                   1.01   \n",
      "65359         None           155322            None                   1.00   \n",
      "65360         None           104247            None                   1.01   \n",
      "65361        Faint            60384           Small                   1.21   \n",
      "65362        Faint            80420      Very Small                   1.37   \n",
      "65363         None           173186            None                   1.01   \n",
      "65364         None           133200          Medium                   1.33   \n",
      "65365         None           185328            None                   1.00   \n",
      "65366         None           183475            None                   1.00   \n",
      "65367        Faint           168340            None                   1.01   \n",
      "65368         None           169873      Very Small                   1.01   \n",
      "65369         None           120336      Very Small                   1.01   \n",
      "65370         None           144300  Slightly Large                   1.20   \n",
      "65371         None           130112      Very Small                   1.01   \n",
      "65372         None            66420            None                   1.01   \n",
      "65373        Faint           110662            None                   1.01   \n",
      "65374         None           150621            None                   1.00   \n",
      "65375         None           256150            None                   1.00   \n",
      "\n",
      "             delivery date      price  \n",
      "0       \\r\\nJul&nbsp;8\\r\\n      242.0  \n",
      "1       \\r\\nJul&nbsp;8\\r\\n      243.0  \n",
      "2      \\r\\nJul&nbsp;12\\r\\n      276.0  \n",
      "3       \\r\\nJul&nbsp;8\\r\\n      278.0  \n",
      "4      \\r\\nJul&nbsp;14\\r\\n      284.0  \n",
      "5       \\r\\nJul&nbsp;8\\r\\n      287.0  \n",
      "6       \\r\\nJul&nbsp;8\\r\\n      289.0  \n",
      "7       \\r\\nJul&nbsp;8\\r\\n      289.0  \n",
      "8       \\r\\nJul&nbsp;8\\r\\n      289.0  \n",
      "9       \\r\\nJul&nbsp;8\\r\\n      293.0  \n",
      "10     \\r\\nJul&nbsp;14\\r\\n      294.0  \n",
      "11      \\r\\nJul&nbsp;8\\r\\n      301.0  \n",
      "12     \\r\\nJul&nbsp;14\\r\\n      304.0  \n",
      "13     \\r\\nJul&nbsp;14\\r\\n      304.0  \n",
      "14     \\r\\nJul&nbsp;14\\r\\n      320.0  \n",
      "15      \\r\\nJul&nbsp;8\\r\\n      322.0  \n",
      "16     \\r\\nJul&nbsp;14\\r\\n      322.0  \n",
      "17      \\r\\nJul&nbsp;8\\r\\n      328.0  \n",
      "18      \\r\\nJul&nbsp;8\\r\\n      332.0  \n",
      "19      \\r\\nJul&nbsp;8\\r\\n      334.0  \n",
      "20      \\r\\nJul&nbsp;8\\r\\n      335.0  \n",
      "21      \\r\\nJul&nbsp;8\\r\\n      336.0  \n",
      "22      \\r\\nJul&nbsp;8\\r\\n      336.0  \n",
      "23      \\r\\nJul&nbsp;8\\r\\n      339.0  \n",
      "24      \\r\\nJul&nbsp;8\\r\\n      339.0  \n",
      "25      \\r\\nJul&nbsp;8\\r\\n      339.0  \n",
      "26      \\r\\nJul&nbsp;8\\r\\n      340.0  \n",
      "27      \\r\\nJul&nbsp;8\\r\\n      344.0  \n",
      "28      \\r\\nJul&nbsp;8\\r\\n      344.0  \n",
      "29      \\r\\nJul&nbsp;8\\r\\n      345.0  \n",
      "...                    ...        ...  \n",
      "65346   \\r\\nJul&nbsp;8\\r\\n   615600.0  \n",
      "65347  \\r\\nJul&nbsp;12\\r\\n   618498.0  \n",
      "65348  \\r\\nJul&nbsp;12\\r\\n   622495.0  \n",
      "65349  \\r\\nJul&nbsp;14\\r\\n   625741.0  \n",
      "65350  \\r\\nJul&nbsp;13\\r\\n   639454.0  \n",
      "65351  \\r\\nJul&nbsp;12\\r\\n   642772.0  \n",
      "65352   \\r\\nJul&nbsp;8\\r\\n   654753.0  \n",
      "65353   \\r\\nJul&nbsp;8\\r\\n   655899.0  \n",
      "65354   \\r\\nJul&nbsp;8\\r\\n   662481.0  \n",
      "65355   \\r\\nJul&nbsp;8\\r\\n   684911.0  \n",
      "65356   \\r\\nJul&nbsp;8\\r\\n   699478.0  \n",
      "65357   \\r\\nJul&nbsp;8\\r\\n   700352.0  \n",
      "65358  \\r\\nJul&nbsp;12\\r\\n   734935.0  \n",
      "65359  \\r\\nJul&nbsp;18\\r\\n   750205.0  \n",
      "65360  \\r\\nJul&nbsp;12\\r\\n   784980.0  \n",
      "65361   \\r\\nJul&nbsp;8\\r\\n   791635.0  \n",
      "65362   \\r\\nJul&nbsp;8\\r\\n   896678.0  \n",
      "65363   \\r\\nJul&nbsp;8\\r\\n   907494.0  \n",
      "65364   \\r\\nJul&nbsp;8\\r\\n   965700.0  \n",
      "65365   \\r\\nJul&nbsp;8\\r\\n   989652.0  \n",
      "65366  \\r\\nJul&nbsp;12\\r\\n  1003607.0  \n",
      "65367  \\r\\nJul&nbsp;12\\r\\n  1013405.0  \n",
      "65368  \\r\\nJul&nbsp;13\\r\\n  1110971.0  \n",
      "65369   \\r\\nJul&nbsp;8\\r\\n  1150413.0  \n",
      "65370   \\r\\nJul&nbsp;8\\r\\n  1212120.0  \n",
      "65371   \\r\\nJul&nbsp;8\\r\\n  1318034.0  \n",
      "65372  \\r\\nJul&nbsp;14\\r\\n  1337035.0  \n",
      "65373  \\r\\nJul&nbsp;12\\r\\n  1366679.0  \n",
      "65374  \\r\\nJul&nbsp;13\\r\\n  1384207.0  \n",
      "65375  \\r\\nJul&nbsp;12\\r\\n  2594800.0  \n",
      "\n",
      "[65376 rows x 16 columns]\n"
     ]
    }
   ],
   "metadata": {
    "collapsed": false
   }
  },
  {
   "cell_type": "markdown",
   "source": [
    "You should be able to see that the data consists of a bunch of rows and columns, and that, at some point in the middle, Python puts a bunch of ...'s, indicating it's not printing all the information. That's good in this case, since the data are pretty big."
   ],
   "metadata": {}
  },
  {
   "cell_type": "markdown",
   "source": [
    "So how big are the data? We can find this out by typing"
   ],
   "metadata": {}
  },
  {
   "cell_type": "code",
   "execution_count": 4,
   "source": [
    "data.shape"
   ],
   "outputs": [
    {
     "output_type": "execute_result",
     "data": {
      "text/plain": [
       "(65376, 16)"
      ]
     },
     "metadata": {},
     "execution_count": 4
    }
   ],
   "metadata": {
    "collapsed": false
   }
  },
  {
   "cell_type": "markdown",
   "source": [
    "We could have gotten the same answer by typing\n",
    "\n",
    "```python\n",
    "print(data.shape)\n",
    "```\n",
    "but when we just type the variable name, Python assumes we mean `print`."
   ],
   "metadata": {}
  },
  {
   "cell_type": "markdown",
   "source": [
    "So what does this answer mean? It means that our data have something like 65,000 rows and 16 columns. Here, the convention is (rows, columns)."
   ],
   "metadata": {}
  },
  {
   "cell_type": "markdown",
   "source": [
    "Notice also that the way we got this piece of information was by typing the variable, followed by `.`, followed by the name of a property (called an \"attribute\"). Again, you can think of this variable as an object having both pieces of information (attributes) and pieces of behavior (functions or methods) tucked inside of it like a file system. The way we access those is by giving a path, except with `.` instead of `/`."
   ],
   "metadata": {}
  },
  {
   "cell_type": "markdown",
   "source": [
    "But there's an even friendlier way to look at our data that's special to the notebook. To look at the first few rows of our data, we can type"
   ],
   "metadata": {}
  },
  {
   "cell_type": "code",
   "execution_count": 5,
   "source": [
    "data.head()"
   ],
   "outputs": [
    {
     "output_type": "execute_result",
     "data": {
      "text/plain": [
       "   item shape  carat cut color clarity polish symmetry  depth  table  \\\n",
       "0     1    PS   0.28   F     F     SI2     VG        G   61.6   50.0   \n",
       "1     2    PS   0.23   G     F     SI1     VG        G   67.5   51.0   \n",
       "2     3    EC   0.34   G     I     VS2     VG       VG   71.6   65.0   \n",
       "3     4    MQ   0.34   G     J     VS1      G        G   68.2   55.0   \n",
       "4     5    PS   0.23   G     D     SI1     VG       VG   55.0   58.0   \n",
       "\n",
       "  fluorescence  price per carat culet  length to width ratio  \\\n",
       "0        Faint              864  None                   1.65   \n",
       "1         None             1057  None                   1.46   \n",
       "2        Faint              812  None                   1.40   \n",
       "3        Faint              818  None                   1.52   \n",
       "4         None             1235  None                   1.42   \n",
       "\n",
       "         delivery date  price  \n",
       "0   \\r\\nJul&nbsp;8\\r\\n  242.0  \n",
       "1   \\r\\nJul&nbsp;8\\r\\n  243.0  \n",
       "2  \\r\\nJul&nbsp;12\\r\\n  276.0  \n",
       "3   \\r\\nJul&nbsp;8\\r\\n  278.0  \n",
       "4  \\r\\nJul&nbsp;14\\r\\n  284.0  "
      ],
      "text/html": [
       "<div>\n",
       "<table border=\"1\" class=\"dataframe\">\n",
       "  <thead>\n",
       "    <tr style=\"text-align: right;\">\n",
       "      <th></th>\n",
       "      <th>item</th>\n",
       "      <th>shape</th>\n",
       "      <th>carat</th>\n",
       "      <th>cut</th>\n",
       "      <th>color</th>\n",
       "      <th>clarity</th>\n",
       "      <th>polish</th>\n",
       "      <th>symmetry</th>\n",
       "      <th>depth</th>\n",
       "      <th>table</th>\n",
       "      <th>fluorescence</th>\n",
       "      <th>price per carat</th>\n",
       "      <th>culet</th>\n",
       "      <th>length to width ratio</th>\n",
       "      <th>delivery date</th>\n",
       "      <th>price</th>\n",
       "    </tr>\n",
       "  </thead>\n",
       "  <tbody>\n",
       "    <tr>\n",
       "      <th>0</th>\n",
       "      <td>1</td>\n",
       "      <td>PS</td>\n",
       "      <td>0.28</td>\n",
       "      <td>F</td>\n",
       "      <td>F</td>\n",
       "      <td>SI2</td>\n",
       "      <td>VG</td>\n",
       "      <td>G</td>\n",
       "      <td>61.6</td>\n",
       "      <td>50.0</td>\n",
       "      <td>Faint</td>\n",
       "      <td>864</td>\n",
       "      <td>None</td>\n",
       "      <td>1.65</td>\n",
       "      <td>\\r\\nJul&amp;nbsp;8\\r\\n</td>\n",
       "      <td>242.0</td>\n",
       "    </tr>\n",
       "    <tr>\n",
       "      <th>1</th>\n",
       "      <td>2</td>\n",
       "      <td>PS</td>\n",
       "      <td>0.23</td>\n",
       "      <td>G</td>\n",
       "      <td>F</td>\n",
       "      <td>SI1</td>\n",
       "      <td>VG</td>\n",
       "      <td>G</td>\n",
       "      <td>67.5</td>\n",
       "      <td>51.0</td>\n",
       "      <td>None</td>\n",
       "      <td>1057</td>\n",
       "      <td>None</td>\n",
       "      <td>1.46</td>\n",
       "      <td>\\r\\nJul&amp;nbsp;8\\r\\n</td>\n",
       "      <td>243.0</td>\n",
       "    </tr>\n",
       "    <tr>\n",
       "      <th>2</th>\n",
       "      <td>3</td>\n",
       "      <td>EC</td>\n",
       "      <td>0.34</td>\n",
       "      <td>G</td>\n",
       "      <td>I</td>\n",
       "      <td>VS2</td>\n",
       "      <td>VG</td>\n",
       "      <td>VG</td>\n",
       "      <td>71.6</td>\n",
       "      <td>65.0</td>\n",
       "      <td>Faint</td>\n",
       "      <td>812</td>\n",
       "      <td>None</td>\n",
       "      <td>1.40</td>\n",
       "      <td>\\r\\nJul&amp;nbsp;12\\r\\n</td>\n",
       "      <td>276.0</td>\n",
       "    </tr>\n",
       "    <tr>\n",
       "      <th>3</th>\n",
       "      <td>4</td>\n",
       "      <td>MQ</td>\n",
       "      <td>0.34</td>\n",
       "      <td>G</td>\n",
       "      <td>J</td>\n",
       "      <td>VS1</td>\n",
       "      <td>G</td>\n",
       "      <td>G</td>\n",
       "      <td>68.2</td>\n",
       "      <td>55.0</td>\n",
       "      <td>Faint</td>\n",
       "      <td>818</td>\n",
       "      <td>None</td>\n",
       "      <td>1.52</td>\n",
       "      <td>\\r\\nJul&amp;nbsp;8\\r\\n</td>\n",
       "      <td>278.0</td>\n",
       "    </tr>\n",
       "    <tr>\n",
       "      <th>4</th>\n",
       "      <td>5</td>\n",
       "      <td>PS</td>\n",
       "      <td>0.23</td>\n",
       "      <td>G</td>\n",
       "      <td>D</td>\n",
       "      <td>SI1</td>\n",
       "      <td>VG</td>\n",
       "      <td>VG</td>\n",
       "      <td>55.0</td>\n",
       "      <td>58.0</td>\n",
       "      <td>None</td>\n",
       "      <td>1235</td>\n",
       "      <td>None</td>\n",
       "      <td>1.42</td>\n",
       "      <td>\\r\\nJul&amp;nbsp;14\\r\\n</td>\n",
       "      <td>284.0</td>\n",
       "    </tr>\n",
       "  </tbody>\n",
       "</table>\n",
       "</div>"
      ]
     },
     "metadata": {},
     "execution_count": 5
    }
   ],
   "metadata": {
    "collapsed": false
   }
  },
  {
   "cell_type": "markdown",
   "source": [
    "This gives 5 rows by default (**note that counting starts at 0!**), but we can easily ask Python for 10:"
   ],
   "metadata": {}
  },
  {
   "cell_type": "code",
   "execution_count": 6,
   "source": [
    "data.head(10)"
   ],
   "outputs": [
    {
     "output_type": "execute_result",
     "data": {
      "text/plain": [
       "   item shape  carat cut color clarity polish symmetry  depth  table  \\\n",
       "0     1    PS   0.28   F     F     SI2     VG        G   61.6   50.0   \n",
       "1     2    PS   0.23   G     F     SI1     VG        G   67.5   51.0   \n",
       "2     3    EC   0.34   G     I     VS2     VG       VG   71.6   65.0   \n",
       "3     4    MQ   0.34   G     J     VS1      G        G   68.2   55.0   \n",
       "4     5    PS   0.23   G     D     SI1     VG       VG   55.0   58.0   \n",
       "5     6    MQ   0.23   F     G     VS2     VG        G   71.6   55.0   \n",
       "6     7    RA   0.37   F     I     SI2      G        G   79.0   76.0   \n",
       "7     8    EC   0.24  VG     E     SI1     VG       VG   68.6   65.0   \n",
       "8     9    RD   0.24   I     G     SI2     VG       VG   62.0   59.0   \n",
       "9    10    MQ   0.33   G     H     SI2      G        G   66.7   61.0   \n",
       "\n",
       "  fluorescence  price per carat culet  length to width ratio  \\\n",
       "0        Faint              864  None                   1.65   \n",
       "1         None             1057  None                   1.46   \n",
       "2        Faint              812  None                   1.40   \n",
       "3        Faint              818  None                   1.52   \n",
       "4         None             1235  None                   1.42   \n",
       "5         None             1248  None                   1.95   \n",
       "6         None              781  None                   1.03   \n",
       "7        Faint             1204  None                   1.34   \n",
       "8         None             1204  None                   1.01   \n",
       "9       Medium              888  None                   2.02   \n",
       "\n",
       "         delivery date  price  \n",
       "0   \\r\\nJul&nbsp;8\\r\\n  242.0  \n",
       "1   \\r\\nJul&nbsp;8\\r\\n  243.0  \n",
       "2  \\r\\nJul&nbsp;12\\r\\n  276.0  \n",
       "3   \\r\\nJul&nbsp;8\\r\\n  278.0  \n",
       "4  \\r\\nJul&nbsp;14\\r\\n  284.0  \n",
       "5   \\r\\nJul&nbsp;8\\r\\n  287.0  \n",
       "6   \\r\\nJul&nbsp;8\\r\\n  289.0  \n",
       "7   \\r\\nJul&nbsp;8\\r\\n  289.0  \n",
       "8   \\r\\nJul&nbsp;8\\r\\n  289.0  \n",
       "9   \\r\\nJul&nbsp;8\\r\\n  293.0  "
      ],
      "text/html": [
       "<div>\n",
       "<table border=\"1\" class=\"dataframe\">\n",
       "  <thead>\n",
       "    <tr style=\"text-align: right;\">\n",
       "      <th></th>\n",
       "      <th>item</th>\n",
       "      <th>shape</th>\n",
       "      <th>carat</th>\n",
       "      <th>cut</th>\n",
       "      <th>color</th>\n",
       "      <th>clarity</th>\n",
       "      <th>polish</th>\n",
       "      <th>symmetry</th>\n",
       "      <th>depth</th>\n",
       "      <th>table</th>\n",
       "      <th>fluorescence</th>\n",
       "      <th>price per carat</th>\n",
       "      <th>culet</th>\n",
       "      <th>length to width ratio</th>\n",
       "      <th>delivery date</th>\n",
       "      <th>price</th>\n",
       "    </tr>\n",
       "  </thead>\n",
       "  <tbody>\n",
       "    <tr>\n",
       "      <th>0</th>\n",
       "      <td>1</td>\n",
       "      <td>PS</td>\n",
       "      <td>0.28</td>\n",
       "      <td>F</td>\n",
       "      <td>F</td>\n",
       "      <td>SI2</td>\n",
       "      <td>VG</td>\n",
       "      <td>G</td>\n",
       "      <td>61.6</td>\n",
       "      <td>50.0</td>\n",
       "      <td>Faint</td>\n",
       "      <td>864</td>\n",
       "      <td>None</td>\n",
       "      <td>1.65</td>\n",
       "      <td>\\r\\nJul&amp;nbsp;8\\r\\n</td>\n",
       "      <td>242.0</td>\n",
       "    </tr>\n",
       "    <tr>\n",
       "      <th>1</th>\n",
       "      <td>2</td>\n",
       "      <td>PS</td>\n",
       "      <td>0.23</td>\n",
       "      <td>G</td>\n",
       "      <td>F</td>\n",
       "      <td>SI1</td>\n",
       "      <td>VG</td>\n",
       "      <td>G</td>\n",
       "      <td>67.5</td>\n",
       "      <td>51.0</td>\n",
       "      <td>None</td>\n",
       "      <td>1057</td>\n",
       "      <td>None</td>\n",
       "      <td>1.46</td>\n",
       "      <td>\\r\\nJul&amp;nbsp;8\\r\\n</td>\n",
       "      <td>243.0</td>\n",
       "    </tr>\n",
       "    <tr>\n",
       "      <th>2</th>\n",
       "      <td>3</td>\n",
       "      <td>EC</td>\n",
       "      <td>0.34</td>\n",
       "      <td>G</td>\n",
       "      <td>I</td>\n",
       "      <td>VS2</td>\n",
       "      <td>VG</td>\n",
       "      <td>VG</td>\n",
       "      <td>71.6</td>\n",
       "      <td>65.0</td>\n",
       "      <td>Faint</td>\n",
       "      <td>812</td>\n",
       "      <td>None</td>\n",
       "      <td>1.40</td>\n",
       "      <td>\\r\\nJul&amp;nbsp;12\\r\\n</td>\n",
       "      <td>276.0</td>\n",
       "    </tr>\n",
       "    <tr>\n",
       "      <th>3</th>\n",
       "      <td>4</td>\n",
       "      <td>MQ</td>\n",
       "      <td>0.34</td>\n",
       "      <td>G</td>\n",
       "      <td>J</td>\n",
       "      <td>VS1</td>\n",
       "      <td>G</td>\n",
       "      <td>G</td>\n",
       "      <td>68.2</td>\n",
       "      <td>55.0</td>\n",
       "      <td>Faint</td>\n",
       "      <td>818</td>\n",
       "      <td>None</td>\n",
       "      <td>1.52</td>\n",
       "      <td>\\r\\nJul&amp;nbsp;8\\r\\n</td>\n",
       "      <td>278.0</td>\n",
       "    </tr>\n",
       "    <tr>\n",
       "      <th>4</th>\n",
       "      <td>5</td>\n",
       "      <td>PS</td>\n",
       "      <td>0.23</td>\n",
       "      <td>G</td>\n",
       "      <td>D</td>\n",
       "      <td>SI1</td>\n",
       "      <td>VG</td>\n",
       "      <td>VG</td>\n",
       "      <td>55.0</td>\n",
       "      <td>58.0</td>\n",
       "      <td>None</td>\n",
       "      <td>1235</td>\n",
       "      <td>None</td>\n",
       "      <td>1.42</td>\n",
       "      <td>\\r\\nJul&amp;nbsp;14\\r\\n</td>\n",
       "      <td>284.0</td>\n",
       "    </tr>\n",
       "    <tr>\n",
       "      <th>5</th>\n",
       "      <td>6</td>\n",
       "      <td>MQ</td>\n",
       "      <td>0.23</td>\n",
       "      <td>F</td>\n",
       "      <td>G</td>\n",
       "      <td>VS2</td>\n",
       "      <td>VG</td>\n",
       "      <td>G</td>\n",
       "      <td>71.6</td>\n",
       "      <td>55.0</td>\n",
       "      <td>None</td>\n",
       "      <td>1248</td>\n",
       "      <td>None</td>\n",
       "      <td>1.95</td>\n",
       "      <td>\\r\\nJul&amp;nbsp;8\\r\\n</td>\n",
       "      <td>287.0</td>\n",
       "    </tr>\n",
       "    <tr>\n",
       "      <th>6</th>\n",
       "      <td>7</td>\n",
       "      <td>RA</td>\n",
       "      <td>0.37</td>\n",
       "      <td>F</td>\n",
       "      <td>I</td>\n",
       "      <td>SI2</td>\n",
       "      <td>G</td>\n",
       "      <td>G</td>\n",
       "      <td>79.0</td>\n",
       "      <td>76.0</td>\n",
       "      <td>None</td>\n",
       "      <td>781</td>\n",
       "      <td>None</td>\n",
       "      <td>1.03</td>\n",
       "      <td>\\r\\nJul&amp;nbsp;8\\r\\n</td>\n",
       "      <td>289.0</td>\n",
       "    </tr>\n",
       "    <tr>\n",
       "      <th>7</th>\n",
       "      <td>8</td>\n",
       "      <td>EC</td>\n",
       "      <td>0.24</td>\n",
       "      <td>VG</td>\n",
       "      <td>E</td>\n",
       "      <td>SI1</td>\n",
       "      <td>VG</td>\n",
       "      <td>VG</td>\n",
       "      <td>68.6</td>\n",
       "      <td>65.0</td>\n",
       "      <td>Faint</td>\n",
       "      <td>1204</td>\n",
       "      <td>None</td>\n",
       "      <td>1.34</td>\n",
       "      <td>\\r\\nJul&amp;nbsp;8\\r\\n</td>\n",
       "      <td>289.0</td>\n",
       "    </tr>\n",
       "    <tr>\n",
       "      <th>8</th>\n",
       "      <td>9</td>\n",
       "      <td>RD</td>\n",
       "      <td>0.24</td>\n",
       "      <td>I</td>\n",
       "      <td>G</td>\n",
       "      <td>SI2</td>\n",
       "      <td>VG</td>\n",
       "      <td>VG</td>\n",
       "      <td>62.0</td>\n",
       "      <td>59.0</td>\n",
       "      <td>None</td>\n",
       "      <td>1204</td>\n",
       "      <td>None</td>\n",
       "      <td>1.01</td>\n",
       "      <td>\\r\\nJul&amp;nbsp;8\\r\\n</td>\n",
       "      <td>289.0</td>\n",
       "    </tr>\n",
       "    <tr>\n",
       "      <th>9</th>\n",
       "      <td>10</td>\n",
       "      <td>MQ</td>\n",
       "      <td>0.33</td>\n",
       "      <td>G</td>\n",
       "      <td>H</td>\n",
       "      <td>SI2</td>\n",
       "      <td>G</td>\n",
       "      <td>G</td>\n",
       "      <td>66.7</td>\n",
       "      <td>61.0</td>\n",
       "      <td>Medium</td>\n",
       "      <td>888</td>\n",
       "      <td>None</td>\n",
       "      <td>2.02</td>\n",
       "      <td>\\r\\nJul&amp;nbsp;8\\r\\n</td>\n",
       "      <td>293.0</td>\n",
       "    </tr>\n",
       "  </tbody>\n",
       "</table>\n",
       "</div>"
      ]
     },
     "metadata": {},
     "execution_count": 6
    }
   ],
   "metadata": {
    "collapsed": false
   }
  },
  {
   "cell_type": "markdown",
   "source": [
    "Here, `head` is a method of the variable `data` (meaning it's a function stored in the data object). In the second case, we explicitly told `head` how many rows we wanted, while in the first, the number defaulted to 5. "
   ],
   "metadata": {}
  },
  {
   "cell_type": "markdown",
   "source": [
    "Likewise, we can ask for the last few rows of the dataset with `tail`:"
   ],
   "metadata": {}
  },
  {
   "cell_type": "code",
   "execution_count": 7,
   "source": [
    "data.tail(7)"
   ],
   "outputs": [
    {
     "output_type": "execute_result",
     "data": {
      "text/plain": [
       "        item shape  carat cut color clarity polish symmetry  depth  table  \\\n",
       "65369  65370    RD   9.56   I     F      FL     EX       EX   60.3   60.0   \n",
       "65370  65371    CU   8.40   G     D      IF     VG        G   57.9   59.0   \n",
       "65371  65372    RD  10.13   I     F      IF     EX       EX   60.3   58.0   \n",
       "65372  65373    RD  20.13   I     J     VS1     EX       EX   59.2   59.0   \n",
       "65373  65374    RD  12.35   I     G      IF     EX       EX   59.8   60.0   \n",
       "65374  65375    RD   9.19   I     E      IF     EX       EX   60.9   60.0   \n",
       "65375  65376    RD  10.13   I     D      FL     EX       EX   62.5   57.0   \n",
       "\n",
       "      fluorescence  price per carat           culet  length to width ratio  \\\n",
       "65369         None           120336      Very Small                   1.01   \n",
       "65370         None           144300  Slightly Large                   1.20   \n",
       "65371         None           130112      Very Small                   1.01   \n",
       "65372         None            66420            None                   1.01   \n",
       "65373        Faint           110662            None                   1.01   \n",
       "65374         None           150621            None                   1.00   \n",
       "65375         None           256150            None                   1.00   \n",
       "\n",
       "             delivery date      price  \n",
       "65369   \\r\\nJul&nbsp;8\\r\\n  1150413.0  \n",
       "65370   \\r\\nJul&nbsp;8\\r\\n  1212120.0  \n",
       "65371   \\r\\nJul&nbsp;8\\r\\n  1318034.0  \n",
       "65372  \\r\\nJul&nbsp;14\\r\\n  1337035.0  \n",
       "65373  \\r\\nJul&nbsp;12\\r\\n  1366679.0  \n",
       "65374  \\r\\nJul&nbsp;13\\r\\n  1384207.0  \n",
       "65375  \\r\\nJul&nbsp;12\\r\\n  2594800.0  "
      ],
      "text/html": [
       "<div>\n",
       "<table border=\"1\" class=\"dataframe\">\n",
       "  <thead>\n",
       "    <tr style=\"text-align: right;\">\n",
       "      <th></th>\n",
       "      <th>item</th>\n",
       "      <th>shape</th>\n",
       "      <th>carat</th>\n",
       "      <th>cut</th>\n",
       "      <th>color</th>\n",
       "      <th>clarity</th>\n",
       "      <th>polish</th>\n",
       "      <th>symmetry</th>\n",
       "      <th>depth</th>\n",
       "      <th>table</th>\n",
       "      <th>fluorescence</th>\n",
       "      <th>price per carat</th>\n",
       "      <th>culet</th>\n",
       "      <th>length to width ratio</th>\n",
       "      <th>delivery date</th>\n",
       "      <th>price</th>\n",
       "    </tr>\n",
       "  </thead>\n",
       "  <tbody>\n",
       "    <tr>\n",
       "      <th>65369</th>\n",
       "      <td>65370</td>\n",
       "      <td>RD</td>\n",
       "      <td>9.56</td>\n",
       "      <td>I</td>\n",
       "      <td>F</td>\n",
       "      <td>FL</td>\n",
       "      <td>EX</td>\n",
       "      <td>EX</td>\n",
       "      <td>60.3</td>\n",
       "      <td>60.0</td>\n",
       "      <td>None</td>\n",
       "      <td>120336</td>\n",
       "      <td>Very Small</td>\n",
       "      <td>1.01</td>\n",
       "      <td>\\r\\nJul&amp;nbsp;8\\r\\n</td>\n",
       "      <td>1150413.0</td>\n",
       "    </tr>\n",
       "    <tr>\n",
       "      <th>65370</th>\n",
       "      <td>65371</td>\n",
       "      <td>CU</td>\n",
       "      <td>8.40</td>\n",
       "      <td>G</td>\n",
       "      <td>D</td>\n",
       "      <td>IF</td>\n",
       "      <td>VG</td>\n",
       "      <td>G</td>\n",
       "      <td>57.9</td>\n",
       "      <td>59.0</td>\n",
       "      <td>None</td>\n",
       "      <td>144300</td>\n",
       "      <td>Slightly Large</td>\n",
       "      <td>1.20</td>\n",
       "      <td>\\r\\nJul&amp;nbsp;8\\r\\n</td>\n",
       "      <td>1212120.0</td>\n",
       "    </tr>\n",
       "    <tr>\n",
       "      <th>65371</th>\n",
       "      <td>65372</td>\n",
       "      <td>RD</td>\n",
       "      <td>10.13</td>\n",
       "      <td>I</td>\n",
       "      <td>F</td>\n",
       "      <td>IF</td>\n",
       "      <td>EX</td>\n",
       "      <td>EX</td>\n",
       "      <td>60.3</td>\n",
       "      <td>58.0</td>\n",
       "      <td>None</td>\n",
       "      <td>130112</td>\n",
       "      <td>Very Small</td>\n",
       "      <td>1.01</td>\n",
       "      <td>\\r\\nJul&amp;nbsp;8\\r\\n</td>\n",
       "      <td>1318034.0</td>\n",
       "    </tr>\n",
       "    <tr>\n",
       "      <th>65372</th>\n",
       "      <td>65373</td>\n",
       "      <td>RD</td>\n",
       "      <td>20.13</td>\n",
       "      <td>I</td>\n",
       "      <td>J</td>\n",
       "      <td>VS1</td>\n",
       "      <td>EX</td>\n",
       "      <td>EX</td>\n",
       "      <td>59.2</td>\n",
       "      <td>59.0</td>\n",
       "      <td>None</td>\n",
       "      <td>66420</td>\n",
       "      <td>None</td>\n",
       "      <td>1.01</td>\n",
       "      <td>\\r\\nJul&amp;nbsp;14\\r\\n</td>\n",
       "      <td>1337035.0</td>\n",
       "    </tr>\n",
       "    <tr>\n",
       "      <th>65373</th>\n",
       "      <td>65374</td>\n",
       "      <td>RD</td>\n",
       "      <td>12.35</td>\n",
       "      <td>I</td>\n",
       "      <td>G</td>\n",
       "      <td>IF</td>\n",
       "      <td>EX</td>\n",
       "      <td>EX</td>\n",
       "      <td>59.8</td>\n",
       "      <td>60.0</td>\n",
       "      <td>Faint</td>\n",
       "      <td>110662</td>\n",
       "      <td>None</td>\n",
       "      <td>1.01</td>\n",
       "      <td>\\r\\nJul&amp;nbsp;12\\r\\n</td>\n",
       "      <td>1366679.0</td>\n",
       "    </tr>\n",
       "    <tr>\n",
       "      <th>65374</th>\n",
       "      <td>65375</td>\n",
       "      <td>RD</td>\n",
       "      <td>9.19</td>\n",
       "      <td>I</td>\n",
       "      <td>E</td>\n",
       "      <td>IF</td>\n",
       "      <td>EX</td>\n",
       "      <td>EX</td>\n",
       "      <td>60.9</td>\n",
       "      <td>60.0</td>\n",
       "      <td>None</td>\n",
       "      <td>150621</td>\n",
       "      <td>None</td>\n",
       "      <td>1.00</td>\n",
       "      <td>\\r\\nJul&amp;nbsp;13\\r\\n</td>\n",
       "      <td>1384207.0</td>\n",
       "    </tr>\n",
       "    <tr>\n",
       "      <th>65375</th>\n",
       "      <td>65376</td>\n",
       "      <td>RD</td>\n",
       "      <td>10.13</td>\n",
       "      <td>I</td>\n",
       "      <td>D</td>\n",
       "      <td>FL</td>\n",
       "      <td>EX</td>\n",
       "      <td>EX</td>\n",
       "      <td>62.5</td>\n",
       "      <td>57.0</td>\n",
       "      <td>None</td>\n",
       "      <td>256150</td>\n",
       "      <td>None</td>\n",
       "      <td>1.00</td>\n",
       "      <td>\\r\\nJul&amp;nbsp;12\\r\\n</td>\n",
       "      <td>2594800.0</td>\n",
       "    </tr>\n",
       "  </tbody>\n",
       "</table>\n",
       "</div>"
      ]
     },
     "metadata": {},
     "execution_count": 7
    }
   ],
   "metadata": {
    "collapsed": false
   }
  },
  {
   "cell_type": "markdown",
   "source": [
    "If you look carefully, you might notice that the rows seem to be sorted by the last item, price. The odd characters under delivery data are a result of the process used to download these data from the internet."
   ],
   "metadata": {}
  },
  {
   "cell_type": "markdown",
   "source": [
    "Finally, as a first, pass, we might just want to know some simple summary statistics of our data:"
   ],
   "metadata": {}
  },
  {
   "cell_type": "code",
   "execution_count": 8,
   "source": [
    "data.describe()"
   ],
   "outputs": [
    {
     "output_type": "execute_result",
     "data": {
      "text/plain": [
       "               item         carat         depth         table  \\\n",
       "count  65376.000000  65376.000000  65376.000000  65376.000000   \n",
       "mean   32688.500000      0.878652     63.245745     59.397770   \n",
       "std    18872.569936      0.783895      3.861799      4.868447   \n",
       "min        1.000000      0.230000      6.700000      6.000000   \n",
       "25%    16344.750000      0.400000     61.200000     57.000000   \n",
       "50%    32688.500000      0.700000     62.200000     58.000000   \n",
       "75%    49032.250000      1.020000     64.400000     61.000000   \n",
       "max    65376.000000     20.130000     80.000000    555.000000   \n",
       "\n",
       "       price per carat  length to width ratio         price  \n",
       "count     65376.000000           65376.000000  6.537600e+04  \n",
       "mean       6282.785365               1.111838  9.495346e+03  \n",
       "std        7198.173546               0.212317  3.394968e+04  \n",
       "min         781.000000               0.770000  2.420000e+02  \n",
       "25%        2967.000000               1.010000  1.121000e+03  \n",
       "50%        4150.000000               1.010000  2.899000e+03  \n",
       "75%        6769.000000               1.110000  6.752250e+03  \n",
       "max      256150.000000               3.120000  2.594800e+06  "
      ],
      "text/html": [
       "<div>\n",
       "<table border=\"1\" class=\"dataframe\">\n",
       "  <thead>\n",
       "    <tr style=\"text-align: right;\">\n",
       "      <th></th>\n",
       "      <th>item</th>\n",
       "      <th>carat</th>\n",
       "      <th>depth</th>\n",
       "      <th>table</th>\n",
       "      <th>price per carat</th>\n",
       "      <th>length to width ratio</th>\n",
       "      <th>price</th>\n",
       "    </tr>\n",
       "  </thead>\n",
       "  <tbody>\n",
       "    <tr>\n",
       "      <th>count</th>\n",
       "      <td>65376.000000</td>\n",
       "      <td>65376.000000</td>\n",
       "      <td>65376.000000</td>\n",
       "      <td>65376.000000</td>\n",
       "      <td>65376.000000</td>\n",
       "      <td>65376.000000</td>\n",
       "      <td>6.537600e+04</td>\n",
       "    </tr>\n",
       "    <tr>\n",
       "      <th>mean</th>\n",
       "      <td>32688.500000</td>\n",
       "      <td>0.878652</td>\n",
       "      <td>63.245745</td>\n",
       "      <td>59.397770</td>\n",
       "      <td>6282.785365</td>\n",
       "      <td>1.111838</td>\n",
       "      <td>9.495346e+03</td>\n",
       "    </tr>\n",
       "    <tr>\n",
       "      <th>std</th>\n",
       "      <td>18872.569936</td>\n",
       "      <td>0.783895</td>\n",
       "      <td>3.861799</td>\n",
       "      <td>4.868447</td>\n",
       "      <td>7198.173546</td>\n",
       "      <td>0.212317</td>\n",
       "      <td>3.394968e+04</td>\n",
       "    </tr>\n",
       "    <tr>\n",
       "      <th>min</th>\n",
       "      <td>1.000000</td>\n",
       "      <td>0.230000</td>\n",
       "      <td>6.700000</td>\n",
       "      <td>6.000000</td>\n",
       "      <td>781.000000</td>\n",
       "      <td>0.770000</td>\n",
       "      <td>2.420000e+02</td>\n",
       "    </tr>\n",
       "    <tr>\n",
       "      <th>25%</th>\n",
       "      <td>16344.750000</td>\n",
       "      <td>0.400000</td>\n",
       "      <td>61.200000</td>\n",
       "      <td>57.000000</td>\n",
       "      <td>2967.000000</td>\n",
       "      <td>1.010000</td>\n",
       "      <td>1.121000e+03</td>\n",
       "    </tr>\n",
       "    <tr>\n",
       "      <th>50%</th>\n",
       "      <td>32688.500000</td>\n",
       "      <td>0.700000</td>\n",
       "      <td>62.200000</td>\n",
       "      <td>58.000000</td>\n",
       "      <td>4150.000000</td>\n",
       "      <td>1.010000</td>\n",
       "      <td>2.899000e+03</td>\n",
       "    </tr>\n",
       "    <tr>\n",
       "      <th>75%</th>\n",
       "      <td>49032.250000</td>\n",
       "      <td>1.020000</td>\n",
       "      <td>64.400000</td>\n",
       "      <td>61.000000</td>\n",
       "      <td>6769.000000</td>\n",
       "      <td>1.110000</td>\n",
       "      <td>6.752250e+03</td>\n",
       "    </tr>\n",
       "    <tr>\n",
       "      <th>max</th>\n",
       "      <td>65376.000000</td>\n",
       "      <td>20.130000</td>\n",
       "      <td>80.000000</td>\n",
       "      <td>555.000000</td>\n",
       "      <td>256150.000000</td>\n",
       "      <td>3.120000</td>\n",
       "      <td>2.594800e+06</td>\n",
       "    </tr>\n",
       "  </tbody>\n",
       "</table>\n",
       "</div>"
      ]
     },
     "metadata": {},
     "execution_count": 8
    }
   ],
   "metadata": {
    "collapsed": false
   }
  },
  {
   "cell_type": "markdown",
   "source": [
    "# The fine art of looking things up"
   ],
   "metadata": {}
  },
  {
   "cell_type": "markdown",
   "source": [
    "The Python ecosystem is *huge*. Nobody knows all the functions for all the libraries. This means that when you start analyzing data in earnest, you will need to learn the parts important for solving your particular problem. Initially, this will be difficult; everything will be new to you. Eventually, though, you develop a conceptual base that will be easy to add to."
   ],
   "metadata": {}
  },
  {
   "cell_type": "markdown",
   "source": [
    "So what should you do in this case? How do we learn more about the functions we've used so far?\n",
    "\n",
    "First off, let's figure out what type of object `data` is. Every variable in Python is an object (meaning it has both information and behavior stored inside of it), and every object has a type. We can find this by using the `type` function:"
   ],
   "metadata": {}
  },
  {
   "cell_type": "code",
   "execution_count": 9,
   "source": [
    "type(1)"
   ],
   "outputs": [
    {
     "output_type": "execute_result",
     "data": {
      "text/plain": [
       "int"
      ]
     },
     "metadata": {},
     "execution_count": 9
    }
   ],
   "metadata": {
    "collapsed": false
   }
  },
  {
   "cell_type": "markdown",
   "source": [
    "Here, `int` means integer, a number with no decimal part."
   ],
   "metadata": {}
  },
  {
   "cell_type": "code",
   "execution_count": 10,
   "source": [
    "type(1.5)"
   ],
   "outputs": [
    {
     "output_type": "execute_result",
     "data": {
      "text/plain": [
       "float"
      ]
     },
     "metadata": {},
     "execution_count": 10
    }
   ],
   "metadata": {
    "collapsed": false
   }
  },
  {
   "cell_type": "markdown",
   "source": [
    "Float is anything with a decimal point. Be aware that the precision of `float` variables is limited, and there is the potential for roundoff errors in calculations if you ever start to do serious data crunching (though most of the time you'll be fine)."
   ],
   "metadata": {}
  },
  {
   "cell_type": "code",
   "execution_count": 11,
   "source": [
    "type(data)"
   ],
   "outputs": [
    {
     "output_type": "execute_result",
     "data": {
      "text/plain": [
       "pandas.core.frame.DataFrame"
      ]
     },
     "metadata": {},
     "execution_count": 11
    }
   ],
   "metadata": {
    "collapsed": false
   }
  },
  {
   "cell_type": "markdown",
   "source": [
    "So what in the world is this?\n",
    "\n",
    "Read it like so: the type of object `data` is is defined in the `pandas` module, in the `core` submodule, in the `frame` sub-submodule, and it is `DataFrame`. Again, using our filesystem analogy, the `data` variable has type `DataFrame`, and Python gives us the full path to its definition. As we will see, dataframes are a very convenient type of object in which to store our data, since this type of object carries with it very powerful behaviors (methods) that can be used to clean and analyze data. "
   ],
   "metadata": {}
  },
  {
   "cell_type": "markdown",
   "source": [
    "So if `type` tells us the type of object, how do we find out what's in it?\n",
    "\n",
    "We can do that with the `dir` command. `dir` is short for \"directory,\" and tells us the name of all the attributes (information) and methods (behaviors) associated with an object:"
   ],
   "metadata": {}
  },
  {
   "cell_type": "code",
   "execution_count": 12,
   "source": [
    "dir(data)"
   ],
   "outputs": [
    {
     "output_type": "execute_result",
     "data": {
      "text/plain": [
       "['T',\n",
       " '_AXIS_ALIASES',\n",
       " '_AXIS_IALIASES',\n",
       " '_AXIS_LEN',\n",
       " '_AXIS_NAMES',\n",
       " '_AXIS_NUMBERS',\n",
       " '_AXIS_ORDERS',\n",
       " '_AXIS_REVERSED',\n",
       " '_AXIS_SLICEMAP',\n",
       " '__abs__',\n",
       " '__add__',\n",
       " '__and__',\n",
       " '__array__',\n",
       " '__array_wrap__',\n",
       " '__bool__',\n",
       " '__bytes__',\n",
       " '__class__',\n",
       " '__contains__',\n",
       " '__delattr__',\n",
       " '__delitem__',\n",
       " '__dict__',\n",
       " '__dir__',\n",
       " '__div__',\n",
       " '__doc__',\n",
       " '__eq__',\n",
       " '__finalize__',\n",
       " '__floordiv__',\n",
       " '__format__',\n",
       " '__ge__',\n",
       " '__getattr__',\n",
       " '__getattribute__',\n",
       " '__getitem__',\n",
       " '__getstate__',\n",
       " '__gt__',\n",
       " '__hash__',\n",
       " '__iadd__',\n",
       " '__imul__',\n",
       " '__init__',\n",
       " '__invert__',\n",
       " '__ipow__',\n",
       " '__isub__',\n",
       " '__iter__',\n",
       " '__itruediv__',\n",
       " '__le__',\n",
       " '__len__',\n",
       " '__lt__',\n",
       " '__mod__',\n",
       " '__module__',\n",
       " '__mul__',\n",
       " '__ne__',\n",
       " '__neg__',\n",
       " '__new__',\n",
       " '__nonzero__',\n",
       " '__or__',\n",
       " '__pow__',\n",
       " '__radd__',\n",
       " '__rand__',\n",
       " '__rdiv__',\n",
       " '__reduce__',\n",
       " '__reduce_ex__',\n",
       " '__repr__',\n",
       " '__rfloordiv__',\n",
       " '__rmod__',\n",
       " '__rmul__',\n",
       " '__ror__',\n",
       " '__round__',\n",
       " '__rpow__',\n",
       " '__rsub__',\n",
       " '__rtruediv__',\n",
       " '__rxor__',\n",
       " '__setattr__',\n",
       " '__setitem__',\n",
       " '__setstate__',\n",
       " '__sizeof__',\n",
       " '__str__',\n",
       " '__sub__',\n",
       " '__subclasshook__',\n",
       " '__truediv__',\n",
       " '__unicode__',\n",
       " '__weakref__',\n",
       " '__xor__',\n",
       " '_accessors',\n",
       " '_add_numeric_operations',\n",
       " '_add_series_only_operations',\n",
       " '_add_series_or_dataframe_operations',\n",
       " '_agg_by_level',\n",
       " '_align_frame',\n",
       " '_align_series',\n",
       " '_apply_broadcast',\n",
       " '_apply_empty_result',\n",
       " '_apply_raw',\n",
       " '_apply_standard',\n",
       " '_at',\n",
       " '_box_col_values',\n",
       " '_box_item_values',\n",
       " '_check_inplace_setting',\n",
       " '_check_is_chained_assignment_possible',\n",
       " '_check_percentile',\n",
       " '_check_setitem_copy',\n",
       " '_clear_item_cache',\n",
       " '_combine_const',\n",
       " '_combine_frame',\n",
       " '_combine_match_columns',\n",
       " '_combine_match_index',\n",
       " '_combine_series',\n",
       " '_combine_series_infer',\n",
       " '_compare_frame',\n",
       " '_compare_frame_evaluate',\n",
       " '_consolidate_inplace',\n",
       " '_construct_axes_dict',\n",
       " '_construct_axes_dict_for_slice',\n",
       " '_construct_axes_dict_from',\n",
       " '_construct_axes_from_arguments',\n",
       " '_constructor',\n",
       " '_constructor_expanddim',\n",
       " '_constructor_sliced',\n",
       " '_convert',\n",
       " '_count_level',\n",
       " '_create_indexer',\n",
       " '_dir_additions',\n",
       " '_dir_deletions',\n",
       " '_ensure_valid_index',\n",
       " '_expand_axes',\n",
       " '_flex_compare_frame',\n",
       " '_from_arrays',\n",
       " '_from_axes',\n",
       " '_get_agg_axis',\n",
       " '_get_axis',\n",
       " '_get_axis_name',\n",
       " '_get_axis_number',\n",
       " '_get_axis_resolvers',\n",
       " '_get_block_manager_axis',\n",
       " '_get_bool_data',\n",
       " '_get_cacher',\n",
       " '_get_index_resolvers',\n",
       " '_get_item_cache',\n",
       " '_get_numeric_data',\n",
       " '_get_values',\n",
       " '_getitem_array',\n",
       " '_getitem_column',\n",
       " '_getitem_frame',\n",
       " '_getitem_multilevel',\n",
       " '_getitem_slice',\n",
       " '_iat',\n",
       " '_iget_item_cache',\n",
       " '_iloc',\n",
       " '_indexed_same',\n",
       " '_info_axis',\n",
       " '_info_axis_name',\n",
       " '_info_axis_number',\n",
       " '_info_repr',\n",
       " '_init_dict',\n",
       " '_init_mgr',\n",
       " '_init_ndarray',\n",
       " '_internal_names',\n",
       " '_internal_names_set',\n",
       " '_is_cached',\n",
       " '_is_datelike_mixed_type',\n",
       " '_is_mixed_type',\n",
       " '_is_numeric_mixed_type',\n",
       " '_is_view',\n",
       " '_ix',\n",
       " '_ixs',\n",
       " '_join_compat',\n",
       " '_loc',\n",
       " '_maybe_cache_changed',\n",
       " '_maybe_update_cacher',\n",
       " '_metadata',\n",
       " '_needs_reindex_multi',\n",
       " '_nsorted',\n",
       " '_protect_consolidate',\n",
       " '_reduce',\n",
       " '_reindex_axes',\n",
       " '_reindex_axis',\n",
       " '_reindex_columns',\n",
       " '_reindex_index',\n",
       " '_reindex_multi',\n",
       " '_reindex_with_indexers',\n",
       " '_repr_fits_horizontal_',\n",
       " '_repr_fits_vertical_',\n",
       " '_repr_html_',\n",
       " '_repr_latex_',\n",
       " '_reset_cache',\n",
       " '_reset_cacher',\n",
       " '_sanitize_column',\n",
       " '_series',\n",
       " '_set_as_cached',\n",
       " '_set_axis',\n",
       " '_set_axis_name',\n",
       " '_set_is_copy',\n",
       " '_set_item',\n",
       " '_setitem_array',\n",
       " '_setitem_frame',\n",
       " '_setitem_slice',\n",
       " '_setup_axes',\n",
       " '_slice',\n",
       " '_stat_axis',\n",
       " '_stat_axis_name',\n",
       " '_stat_axis_number',\n",
       " '_typ',\n",
       " '_unpickle_frame_compat',\n",
       " '_unpickle_matrix_compat',\n",
       " '_update_inplace',\n",
       " '_validate_dtype',\n",
       " '_values',\n",
       " '_xs',\n",
       " 'abs',\n",
       " 'add',\n",
       " 'add_prefix',\n",
       " 'add_suffix',\n",
       " 'align',\n",
       " 'all',\n",
       " 'any',\n",
       " 'append',\n",
       " 'apply',\n",
       " 'applymap',\n",
       " 'as_blocks',\n",
       " 'as_matrix',\n",
       " 'asfreq',\n",
       " 'assign',\n",
       " 'astype',\n",
       " 'at',\n",
       " 'at_time',\n",
       " 'axes',\n",
       " 'between_time',\n",
       " 'bfill',\n",
       " 'blocks',\n",
       " 'bool',\n",
       " 'boxplot',\n",
       " 'carat',\n",
       " 'clarity',\n",
       " 'clip',\n",
       " 'clip_lower',\n",
       " 'clip_upper',\n",
       " 'color',\n",
       " 'columns',\n",
       " 'combine',\n",
       " 'combineAdd',\n",
       " 'combineMult',\n",
       " 'combine_first',\n",
       " 'compound',\n",
       " 'consolidate',\n",
       " 'convert_objects',\n",
       " 'copy',\n",
       " 'corr',\n",
       " 'corrwith',\n",
       " 'count',\n",
       " 'cov',\n",
       " 'culet',\n",
       " 'cummax',\n",
       " 'cummin',\n",
       " 'cumprod',\n",
       " 'cumsum',\n",
       " 'cut',\n",
       " 'depth',\n",
       " 'describe',\n",
       " 'diff',\n",
       " 'div',\n",
       " 'divide',\n",
       " 'dot',\n",
       " 'drop',\n",
       " 'drop_duplicates',\n",
       " 'dropna',\n",
       " 'dtypes',\n",
       " 'duplicated',\n",
       " 'empty',\n",
       " 'eq',\n",
       " 'equals',\n",
       " 'eval',\n",
       " 'ewm',\n",
       " 'expanding',\n",
       " 'ffill',\n",
       " 'fillna',\n",
       " 'filter',\n",
       " 'first',\n",
       " 'first_valid_index',\n",
       " 'floordiv',\n",
       " 'fluorescence',\n",
       " 'from_csv',\n",
       " 'from_dict',\n",
       " 'from_items',\n",
       " 'from_records',\n",
       " 'ftypes',\n",
       " 'ge',\n",
       " 'get',\n",
       " 'get_dtype_counts',\n",
       " 'get_ftype_counts',\n",
       " 'get_value',\n",
       " 'get_values',\n",
       " 'groupby',\n",
       " 'gt',\n",
       " 'head',\n",
       " 'hist',\n",
       " 'iat',\n",
       " 'icol',\n",
       " 'idxmax',\n",
       " 'idxmin',\n",
       " 'iget_value',\n",
       " 'iloc',\n",
       " 'index',\n",
       " 'info',\n",
       " 'insert',\n",
       " 'interpolate',\n",
       " 'irow',\n",
       " 'is_copy',\n",
       " 'isin',\n",
       " 'isnull',\n",
       " 'item',\n",
       " 'items',\n",
       " 'iteritems',\n",
       " 'iterkv',\n",
       " 'iterrows',\n",
       " 'itertuples',\n",
       " 'ix',\n",
       " 'join',\n",
       " 'keys',\n",
       " 'kurt',\n",
       " 'kurtosis',\n",
       " 'last',\n",
       " 'last_valid_index',\n",
       " 'le',\n",
       " 'loc',\n",
       " 'lookup',\n",
       " 'lt',\n",
       " 'mad',\n",
       " 'mask',\n",
       " 'max',\n",
       " 'mean',\n",
       " 'median',\n",
       " 'memory_usage',\n",
       " 'merge',\n",
       " 'min',\n",
       " 'mod',\n",
       " 'mode',\n",
       " 'mul',\n",
       " 'multiply',\n",
       " 'ndim',\n",
       " 'ne',\n",
       " 'nlargest',\n",
       " 'notnull',\n",
       " 'nsmallest',\n",
       " 'pct_change',\n",
       " 'pipe',\n",
       " 'pivot',\n",
       " 'pivot_table',\n",
       " 'plot',\n",
       " 'polish',\n",
       " 'pop',\n",
       " 'pow',\n",
       " 'price',\n",
       " 'prod',\n",
       " 'product',\n",
       " 'quantile',\n",
       " 'query',\n",
       " 'radd',\n",
       " 'rank',\n",
       " 'rdiv',\n",
       " 'reindex',\n",
       " 'reindex_axis',\n",
       " 'reindex_like',\n",
       " 'rename',\n",
       " 'rename_axis',\n",
       " 'reorder_levels',\n",
       " 'replace',\n",
       " 'resample',\n",
       " 'reset_index',\n",
       " 'rfloordiv',\n",
       " 'rmod',\n",
       " 'rmul',\n",
       " 'rolling',\n",
       " 'round',\n",
       " 'rpow',\n",
       " 'rsub',\n",
       " 'rtruediv',\n",
       " 'sample',\n",
       " 'select',\n",
       " 'select_dtypes',\n",
       " 'sem',\n",
       " 'set_axis',\n",
       " 'set_index',\n",
       " 'set_value',\n",
       " 'shape',\n",
       " 'shift',\n",
       " 'size',\n",
       " 'skew',\n",
       " 'slice_shift',\n",
       " 'sort',\n",
       " 'sort_index',\n",
       " 'sort_values',\n",
       " 'sortlevel',\n",
       " 'squeeze',\n",
       " 'stack',\n",
       " 'std',\n",
       " 'style',\n",
       " 'sub',\n",
       " 'subtract',\n",
       " 'sum',\n",
       " 'swapaxes',\n",
       " 'swaplevel',\n",
       " 'symmetry',\n",
       " 'table',\n",
       " 'tail',\n",
       " 'take',\n",
       " 'to_clipboard',\n",
       " 'to_csv',\n",
       " 'to_dense',\n",
       " 'to_dict',\n",
       " 'to_excel',\n",
       " 'to_gbq',\n",
       " 'to_hdf',\n",
       " 'to_html',\n",
       " 'to_json',\n",
       " 'to_latex',\n",
       " 'to_msgpack',\n",
       " 'to_panel',\n",
       " 'to_period',\n",
       " 'to_pickle',\n",
       " 'to_records',\n",
       " 'to_sparse',\n",
       " 'to_sql',\n",
       " 'to_stata',\n",
       " 'to_string',\n",
       " 'to_timestamp',\n",
       " 'to_wide',\n",
       " 'to_xarray',\n",
       " 'transpose',\n",
       " 'truediv',\n",
       " 'truncate',\n",
       " 'tshift',\n",
       " 'tz_convert',\n",
       " 'tz_localize',\n",
       " 'unstack',\n",
       " 'update',\n",
       " 'values',\n",
       " 'var',\n",
       " 'where',\n",
       " 'xs']"
      ]
     },
     "metadata": {},
     "execution_count": 12
    }
   ],
   "metadata": {
    "collapsed": false
   }
  },
  {
   "cell_type": "markdown",
   "source": [
    "Whoa!\n",
    "\n",
    "Okay, keep in mind a few things:\n",
    "- One of the sayings in the Python credo is \"We're all adults here.\" Python trusts you as a programmer. Sometimes too much. This means that, in a case like this, you might get more info than you really need or can handle.\n",
    "- Any name in that list (and the output of this function is indeed a type of object called a list) that begins with `_` or `__` is a private variable (like files beginning with `.` in the shell). You can safely ignore these until you are much more experienced.\n",
    "- I don't know what half of these do, either. If I need to know, I look them up."
   ],
   "metadata": {}
  },
  {
   "cell_type": "markdown",
   "source": [
    "How do we do that?\n",
    "\n",
    "First, IPython has some pretty spiffy things that can help us right from the shell or notebook. For instance, if I want to learn about the `sort` item in the list, I can type"
   ],
   "metadata": {}
  },
  {
   "cell_type": "code",
   "execution_count": 13,
   "source": [
    "data.sort?"
   ],
   "outputs": [],
   "metadata": {
    "collapsed": false
   }
  },
  {
   "cell_type": "markdown",
   "source": [
    "And IPython will pop up a handy (or cryptic, as you might feel at first) documentation window for the function. At the very least, we are told at the top of the page that the type of `data.sort` is an instancemethod, meaning that it's a behavior and not a piece of information. The help then goes on to tell us what inputs the function takes and what outputs it gives."
   ],
   "metadata": {}
  },
  {
   "cell_type": "markdown",
   "source": [
    "More realistically, I would Google\n",
    "\n",
    "`DataFrame.sort python`\n",
    "\n",
    "(Remember, DataFrame is the type of the data object, and the internet doesn't know that `data` is a variable name for us. So I ask for the type.method and throw in the keyword \"python\" so Google knows what I'm talking about.)\n",
    "\n",
    "The first result that pops up should be [this](https://pandas.pydata.org/docs/reference/api/pandas.DataFrame.sort_values.html).\n",
    "\n",
    "Good news!\n",
    "- This page is much easier to read.\n",
    "- This page is located on the website for Pandas, the library we're using. Even if we don't understand this particular help page, there's probably a tutorial somewhere nearby that will get us started."
   ],
   "metadata": {}
  },
  {
   "cell_type": "markdown",
   "source": [
    "As a result of this, if we look carefully, we might be able to puzzle out that if we want to sort the dataset by price per carat, we can do"
   ],
   "metadata": {}
  },
  {
   "cell_type": "code",
   "execution_count": 14,
   "source": [
    "data_sorted = data.sort_values(by='price per carat')"
   ],
   "outputs": [],
   "metadata": {
    "collapsed": false
   }
  },
  {
   "cell_type": "markdown",
   "source": [
    "Notice that we have to save the output of the sort here, since the `sort` function doesn't touch the `data` variable. Instead, it returns a new data frame that we need to assign to a new variable name. In other words,"
   ],
   "metadata": {}
  },
  {
   "cell_type": "code",
   "execution_count": 15,
   "source": [
    "data.head(10)"
   ],
   "outputs": [
    {
     "output_type": "execute_result",
     "data": {
      "text/plain": [
       "   item shape  carat cut color clarity polish symmetry  depth  table  \\\n",
       "0     1    PS   0.28   F     F     SI2     VG        G   61.6   50.0   \n",
       "1     2    PS   0.23   G     F     SI1     VG        G   67.5   51.0   \n",
       "2     3    EC   0.34   G     I     VS2     VG       VG   71.6   65.0   \n",
       "3     4    MQ   0.34   G     J     VS1      G        G   68.2   55.0   \n",
       "4     5    PS   0.23   G     D     SI1     VG       VG   55.0   58.0   \n",
       "5     6    MQ   0.23   F     G     VS2     VG        G   71.6   55.0   \n",
       "6     7    RA   0.37   F     I     SI2      G        G   79.0   76.0   \n",
       "7     8    EC   0.24  VG     E     SI1     VG       VG   68.6   65.0   \n",
       "8     9    RD   0.24   I     G     SI2     VG       VG   62.0   59.0   \n",
       "9    10    MQ   0.33   G     H     SI2      G        G   66.7   61.0   \n",
       "\n",
       "  fluorescence  price per carat culet  length to width ratio  \\\n",
       "0        Faint              864  None                   1.65   \n",
       "1         None             1057  None                   1.46   \n",
       "2        Faint              812  None                   1.40   \n",
       "3        Faint              818  None                   1.52   \n",
       "4         None             1235  None                   1.42   \n",
       "5         None             1248  None                   1.95   \n",
       "6         None              781  None                   1.03   \n",
       "7        Faint             1204  None                   1.34   \n",
       "8         None             1204  None                   1.01   \n",
       "9       Medium              888  None                   2.02   \n",
       "\n",
       "         delivery date  price  \n",
       "0   \\r\\nJul&nbsp;8\\r\\n  242.0  \n",
       "1   \\r\\nJul&nbsp;8\\r\\n  243.0  \n",
       "2  \\r\\nJul&nbsp;12\\r\\n  276.0  \n",
       "3   \\r\\nJul&nbsp;8\\r\\n  278.0  \n",
       "4  \\r\\nJul&nbsp;14\\r\\n  284.0  \n",
       "5   \\r\\nJul&nbsp;8\\r\\n  287.0  \n",
       "6   \\r\\nJul&nbsp;8\\r\\n  289.0  \n",
       "7   \\r\\nJul&nbsp;8\\r\\n  289.0  \n",
       "8   \\r\\nJul&nbsp;8\\r\\n  289.0  \n",
       "9   \\r\\nJul&nbsp;8\\r\\n  293.0  "
      ],
      "text/html": [
       "<div>\n",
       "<table border=\"1\" class=\"dataframe\">\n",
       "  <thead>\n",
       "    <tr style=\"text-align: right;\">\n",
       "      <th></th>\n",
       "      <th>item</th>\n",
       "      <th>shape</th>\n",
       "      <th>carat</th>\n",
       "      <th>cut</th>\n",
       "      <th>color</th>\n",
       "      <th>clarity</th>\n",
       "      <th>polish</th>\n",
       "      <th>symmetry</th>\n",
       "      <th>depth</th>\n",
       "      <th>table</th>\n",
       "      <th>fluorescence</th>\n",
       "      <th>price per carat</th>\n",
       "      <th>culet</th>\n",
       "      <th>length to width ratio</th>\n",
       "      <th>delivery date</th>\n",
       "      <th>price</th>\n",
       "    </tr>\n",
       "  </thead>\n",
       "  <tbody>\n",
       "    <tr>\n",
       "      <th>0</th>\n",
       "      <td>1</td>\n",
       "      <td>PS</td>\n",
       "      <td>0.28</td>\n",
       "      <td>F</td>\n",
       "      <td>F</td>\n",
       "      <td>SI2</td>\n",
       "      <td>VG</td>\n",
       "      <td>G</td>\n",
       "      <td>61.6</td>\n",
       "      <td>50.0</td>\n",
       "      <td>Faint</td>\n",
       "      <td>864</td>\n",
       "      <td>None</td>\n",
       "      <td>1.65</td>\n",
       "      <td>\\r\\nJul&amp;nbsp;8\\r\\n</td>\n",
       "      <td>242.0</td>\n",
       "    </tr>\n",
       "    <tr>\n",
       "      <th>1</th>\n",
       "      <td>2</td>\n",
       "      <td>PS</td>\n",
       "      <td>0.23</td>\n",
       "      <td>G</td>\n",
       "      <td>F</td>\n",
       "      <td>SI1</td>\n",
       "      <td>VG</td>\n",
       "      <td>G</td>\n",
       "      <td>67.5</td>\n",
       "      <td>51.0</td>\n",
       "      <td>None</td>\n",
       "      <td>1057</td>\n",
       "      <td>None</td>\n",
       "      <td>1.46</td>\n",
       "      <td>\\r\\nJul&amp;nbsp;8\\r\\n</td>\n",
       "      <td>243.0</td>\n",
       "    </tr>\n",
       "    <tr>\n",
       "      <th>2</th>\n",
       "      <td>3</td>\n",
       "      <td>EC</td>\n",
       "      <td>0.34</td>\n",
       "      <td>G</td>\n",
       "      <td>I</td>\n",
       "      <td>VS2</td>\n",
       "      <td>VG</td>\n",
       "      <td>VG</td>\n",
       "      <td>71.6</td>\n",
       "      <td>65.0</td>\n",
       "      <td>Faint</td>\n",
       "      <td>812</td>\n",
       "      <td>None</td>\n",
       "      <td>1.40</td>\n",
       "      <td>\\r\\nJul&amp;nbsp;12\\r\\n</td>\n",
       "      <td>276.0</td>\n",
       "    </tr>\n",
       "    <tr>\n",
       "      <th>3</th>\n",
       "      <td>4</td>\n",
       "      <td>MQ</td>\n",
       "      <td>0.34</td>\n",
       "      <td>G</td>\n",
       "      <td>J</td>\n",
       "      <td>VS1</td>\n",
       "      <td>G</td>\n",
       "      <td>G</td>\n",
       "      <td>68.2</td>\n",
       "      <td>55.0</td>\n",
       "      <td>Faint</td>\n",
       "      <td>818</td>\n",
       "      <td>None</td>\n",
       "      <td>1.52</td>\n",
       "      <td>\\r\\nJul&amp;nbsp;8\\r\\n</td>\n",
       "      <td>278.0</td>\n",
       "    </tr>\n",
       "    <tr>\n",
       "      <th>4</th>\n",
       "      <td>5</td>\n",
       "      <td>PS</td>\n",
       "      <td>0.23</td>\n",
       "      <td>G</td>\n",
       "      <td>D</td>\n",
       "      <td>SI1</td>\n",
       "      <td>VG</td>\n",
       "      <td>VG</td>\n",
       "      <td>55.0</td>\n",
       "      <td>58.0</td>\n",
       "      <td>None</td>\n",
       "      <td>1235</td>\n",
       "      <td>None</td>\n",
       "      <td>1.42</td>\n",
       "      <td>\\r\\nJul&amp;nbsp;14\\r\\n</td>\n",
       "      <td>284.0</td>\n",
       "    </tr>\n",
       "    <tr>\n",
       "      <th>5</th>\n",
       "      <td>6</td>\n",
       "      <td>MQ</td>\n",
       "      <td>0.23</td>\n",
       "      <td>F</td>\n",
       "      <td>G</td>\n",
       "      <td>VS2</td>\n",
       "      <td>VG</td>\n",
       "      <td>G</td>\n",
       "      <td>71.6</td>\n",
       "      <td>55.0</td>\n",
       "      <td>None</td>\n",
       "      <td>1248</td>\n",
       "      <td>None</td>\n",
       "      <td>1.95</td>\n",
       "      <td>\\r\\nJul&amp;nbsp;8\\r\\n</td>\n",
       "      <td>287.0</td>\n",
       "    </tr>\n",
       "    <tr>\n",
       "      <th>6</th>\n",
       "      <td>7</td>\n",
       "      <td>RA</td>\n",
       "      <td>0.37</td>\n",
       "      <td>F</td>\n",
       "      <td>I</td>\n",
       "      <td>SI2</td>\n",
       "      <td>G</td>\n",
       "      <td>G</td>\n",
       "      <td>79.0</td>\n",
       "      <td>76.0</td>\n",
       "      <td>None</td>\n",
       "      <td>781</td>\n",
       "      <td>None</td>\n",
       "      <td>1.03</td>\n",
       "      <td>\\r\\nJul&amp;nbsp;8\\r\\n</td>\n",
       "      <td>289.0</td>\n",
       "    </tr>\n",
       "    <tr>\n",
       "      <th>7</th>\n",
       "      <td>8</td>\n",
       "      <td>EC</td>\n",
       "      <td>0.24</td>\n",
       "      <td>VG</td>\n",
       "      <td>E</td>\n",
       "      <td>SI1</td>\n",
       "      <td>VG</td>\n",
       "      <td>VG</td>\n",
       "      <td>68.6</td>\n",
       "      <td>65.0</td>\n",
       "      <td>Faint</td>\n",
       "      <td>1204</td>\n",
       "      <td>None</td>\n",
       "      <td>1.34</td>\n",
       "      <td>\\r\\nJul&amp;nbsp;8\\r\\n</td>\n",
       "      <td>289.0</td>\n",
       "    </tr>\n",
       "    <tr>\n",
       "      <th>8</th>\n",
       "      <td>9</td>\n",
       "      <td>RD</td>\n",
       "      <td>0.24</td>\n",
       "      <td>I</td>\n",
       "      <td>G</td>\n",
       "      <td>SI2</td>\n",
       "      <td>VG</td>\n",
       "      <td>VG</td>\n",
       "      <td>62.0</td>\n",
       "      <td>59.0</td>\n",
       "      <td>None</td>\n",
       "      <td>1204</td>\n",
       "      <td>None</td>\n",
       "      <td>1.01</td>\n",
       "      <td>\\r\\nJul&amp;nbsp;8\\r\\n</td>\n",
       "      <td>289.0</td>\n",
       "    </tr>\n",
       "    <tr>\n",
       "      <th>9</th>\n",
       "      <td>10</td>\n",
       "      <td>MQ</td>\n",
       "      <td>0.33</td>\n",
       "      <td>G</td>\n",
       "      <td>H</td>\n",
       "      <td>SI2</td>\n",
       "      <td>G</td>\n",
       "      <td>G</td>\n",
       "      <td>66.7</td>\n",
       "      <td>61.0</td>\n",
       "      <td>Medium</td>\n",
       "      <td>888</td>\n",
       "      <td>None</td>\n",
       "      <td>2.02</td>\n",
       "      <td>\\r\\nJul&amp;nbsp;8\\r\\n</td>\n",
       "      <td>293.0</td>\n",
       "    </tr>\n",
       "  </tbody>\n",
       "</table>\n",
       "</div>"
      ]
     },
     "metadata": {},
     "execution_count": 15
    }
   ],
   "metadata": {
    "collapsed": false
   }
  },
  {
   "cell_type": "markdown",
   "source": [
    "looks the same as before, while"
   ],
   "metadata": {}
  },
  {
   "cell_type": "code",
   "execution_count": 16,
   "source": [
    "data_sorted.head(10)"
   ],
   "outputs": [
    {
     "output_type": "execute_result",
     "data": {
      "text/plain": [
       "    item shape  carat cut color clarity polish symmetry  depth  table  \\\n",
       "6      7    RA   0.37   F     I     SI2      G        G   79.0   76.0   \n",
       "2      3    EC   0.34   G     I     VS2     VG       VG   71.6   65.0   \n",
       "3      4    MQ   0.34   G     J     VS1      G        G   68.2   55.0   \n",
       "20    21    PS   0.39   G     J     VS1      G        G   54.2   66.0   \n",
       "11    12    PS   0.35   F     H     SI2      G        G   50.0   55.0   \n",
       "0      1    PS   0.28   F     F     SI2     VG        G   61.6   50.0   \n",
       "9     10    MQ   0.33   G     H     SI2      G        G   66.7   61.0   \n",
       "49    50    MQ   0.39  VG     I     SI1      G        G   64.9   61.0   \n",
       "48    49    PS   0.39   F     G     SI2      G        G   57.0   68.0   \n",
       "26    27    MQ   0.36  VG     G     SI2      G        G   64.9   60.0   \n",
       "\n",
       "   fluorescence  price per carat           culet  length to width ratio  \\\n",
       "6          None              781            None                   1.03   \n",
       "2         Faint              812            None                   1.40   \n",
       "3         Faint              818            None                   1.52   \n",
       "20         None              859  Slightly Large                   1.37   \n",
       "11         None              860           Small                   1.35   \n",
       "0         Faint              864            None                   1.65   \n",
       "9        Medium              888            None                   2.02   \n",
       "49        Faint              938            None                   1.73   \n",
       "48        Faint              938            None                   1.37   \n",
       "26         None              944           Small                   1.96   \n",
       "\n",
       "          delivery date  price  \n",
       "6    \\r\\nJul&nbsp;8\\r\\n  289.0  \n",
       "2   \\r\\nJul&nbsp;12\\r\\n  276.0  \n",
       "3    \\r\\nJul&nbsp;8\\r\\n  278.0  \n",
       "20   \\r\\nJul&nbsp;8\\r\\n  335.0  \n",
       "11   \\r\\nJul&nbsp;8\\r\\n  301.0  \n",
       "0    \\r\\nJul&nbsp;8\\r\\n  242.0  \n",
       "9    \\r\\nJul&nbsp;8\\r\\n  293.0  \n",
       "49   \\r\\nJul&nbsp;8\\r\\n  366.0  \n",
       "48   \\r\\nJul&nbsp;8\\r\\n  366.0  \n",
       "26   \\r\\nJul&nbsp;8\\r\\n  340.0  "
      ],
      "text/html": [
       "<div>\n",
       "<table border=\"1\" class=\"dataframe\">\n",
       "  <thead>\n",
       "    <tr style=\"text-align: right;\">\n",
       "      <th></th>\n",
       "      <th>item</th>\n",
       "      <th>shape</th>\n",
       "      <th>carat</th>\n",
       "      <th>cut</th>\n",
       "      <th>color</th>\n",
       "      <th>clarity</th>\n",
       "      <th>polish</th>\n",
       "      <th>symmetry</th>\n",
       "      <th>depth</th>\n",
       "      <th>table</th>\n",
       "      <th>fluorescence</th>\n",
       "      <th>price per carat</th>\n",
       "      <th>culet</th>\n",
       "      <th>length to width ratio</th>\n",
       "      <th>delivery date</th>\n",
       "      <th>price</th>\n",
       "    </tr>\n",
       "  </thead>\n",
       "  <tbody>\n",
       "    <tr>\n",
       "      <th>6</th>\n",
       "      <td>7</td>\n",
       "      <td>RA</td>\n",
       "      <td>0.37</td>\n",
       "      <td>F</td>\n",
       "      <td>I</td>\n",
       "      <td>SI2</td>\n",
       "      <td>G</td>\n",
       "      <td>G</td>\n",
       "      <td>79.0</td>\n",
       "      <td>76.0</td>\n",
       "      <td>None</td>\n",
       "      <td>781</td>\n",
       "      <td>None</td>\n",
       "      <td>1.03</td>\n",
       "      <td>\\r\\nJul&amp;nbsp;8\\r\\n</td>\n",
       "      <td>289.0</td>\n",
       "    </tr>\n",
       "    <tr>\n",
       "      <th>2</th>\n",
       "      <td>3</td>\n",
       "      <td>EC</td>\n",
       "      <td>0.34</td>\n",
       "      <td>G</td>\n",
       "      <td>I</td>\n",
       "      <td>VS2</td>\n",
       "      <td>VG</td>\n",
       "      <td>VG</td>\n",
       "      <td>71.6</td>\n",
       "      <td>65.0</td>\n",
       "      <td>Faint</td>\n",
       "      <td>812</td>\n",
       "      <td>None</td>\n",
       "      <td>1.40</td>\n",
       "      <td>\\r\\nJul&amp;nbsp;12\\r\\n</td>\n",
       "      <td>276.0</td>\n",
       "    </tr>\n",
       "    <tr>\n",
       "      <th>3</th>\n",
       "      <td>4</td>\n",
       "      <td>MQ</td>\n",
       "      <td>0.34</td>\n",
       "      <td>G</td>\n",
       "      <td>J</td>\n",
       "      <td>VS1</td>\n",
       "      <td>G</td>\n",
       "      <td>G</td>\n",
       "      <td>68.2</td>\n",
       "      <td>55.0</td>\n",
       "      <td>Faint</td>\n",
       "      <td>818</td>\n",
       "      <td>None</td>\n",
       "      <td>1.52</td>\n",
       "      <td>\\r\\nJul&amp;nbsp;8\\r\\n</td>\n",
       "      <td>278.0</td>\n",
       "    </tr>\n",
       "    <tr>\n",
       "      <th>20</th>\n",
       "      <td>21</td>\n",
       "      <td>PS</td>\n",
       "      <td>0.39</td>\n",
       "      <td>G</td>\n",
       "      <td>J</td>\n",
       "      <td>VS1</td>\n",
       "      <td>G</td>\n",
       "      <td>G</td>\n",
       "      <td>54.2</td>\n",
       "      <td>66.0</td>\n",
       "      <td>None</td>\n",
       "      <td>859</td>\n",
       "      <td>Slightly Large</td>\n",
       "      <td>1.37</td>\n",
       "      <td>\\r\\nJul&amp;nbsp;8\\r\\n</td>\n",
       "      <td>335.0</td>\n",
       "    </tr>\n",
       "    <tr>\n",
       "      <th>11</th>\n",
       "      <td>12</td>\n",
       "      <td>PS</td>\n",
       "      <td>0.35</td>\n",
       "      <td>F</td>\n",
       "      <td>H</td>\n",
       "      <td>SI2</td>\n",
       "      <td>G</td>\n",
       "      <td>G</td>\n",
       "      <td>50.0</td>\n",
       "      <td>55.0</td>\n",
       "      <td>None</td>\n",
       "      <td>860</td>\n",
       "      <td>Small</td>\n",
       "      <td>1.35</td>\n",
       "      <td>\\r\\nJul&amp;nbsp;8\\r\\n</td>\n",
       "      <td>301.0</td>\n",
       "    </tr>\n",
       "    <tr>\n",
       "      <th>0</th>\n",
       "      <td>1</td>\n",
       "      <td>PS</td>\n",
       "      <td>0.28</td>\n",
       "      <td>F</td>\n",
       "      <td>F</td>\n",
       "      <td>SI2</td>\n",
       "      <td>VG</td>\n",
       "      <td>G</td>\n",
       "      <td>61.6</td>\n",
       "      <td>50.0</td>\n",
       "      <td>Faint</td>\n",
       "      <td>864</td>\n",
       "      <td>None</td>\n",
       "      <td>1.65</td>\n",
       "      <td>\\r\\nJul&amp;nbsp;8\\r\\n</td>\n",
       "      <td>242.0</td>\n",
       "    </tr>\n",
       "    <tr>\n",
       "      <th>9</th>\n",
       "      <td>10</td>\n",
       "      <td>MQ</td>\n",
       "      <td>0.33</td>\n",
       "      <td>G</td>\n",
       "      <td>H</td>\n",
       "      <td>SI2</td>\n",
       "      <td>G</td>\n",
       "      <td>G</td>\n",
       "      <td>66.7</td>\n",
       "      <td>61.0</td>\n",
       "      <td>Medium</td>\n",
       "      <td>888</td>\n",
       "      <td>None</td>\n",
       "      <td>2.02</td>\n",
       "      <td>\\r\\nJul&amp;nbsp;8\\r\\n</td>\n",
       "      <td>293.0</td>\n",
       "    </tr>\n",
       "    <tr>\n",
       "      <th>49</th>\n",
       "      <td>50</td>\n",
       "      <td>MQ</td>\n",
       "      <td>0.39</td>\n",
       "      <td>VG</td>\n",
       "      <td>I</td>\n",
       "      <td>SI1</td>\n",
       "      <td>G</td>\n",
       "      <td>G</td>\n",
       "      <td>64.9</td>\n",
       "      <td>61.0</td>\n",
       "      <td>Faint</td>\n",
       "      <td>938</td>\n",
       "      <td>None</td>\n",
       "      <td>1.73</td>\n",
       "      <td>\\r\\nJul&amp;nbsp;8\\r\\n</td>\n",
       "      <td>366.0</td>\n",
       "    </tr>\n",
       "    <tr>\n",
       "      <th>48</th>\n",
       "      <td>49</td>\n",
       "      <td>PS</td>\n",
       "      <td>0.39</td>\n",
       "      <td>F</td>\n",
       "      <td>G</td>\n",
       "      <td>SI2</td>\n",
       "      <td>G</td>\n",
       "      <td>G</td>\n",
       "      <td>57.0</td>\n",
       "      <td>68.0</td>\n",
       "      <td>Faint</td>\n",
       "      <td>938</td>\n",
       "      <td>None</td>\n",
       "      <td>1.37</td>\n",
       "      <td>\\r\\nJul&amp;nbsp;8\\r\\n</td>\n",
       "      <td>366.0</td>\n",
       "    </tr>\n",
       "    <tr>\n",
       "      <th>26</th>\n",
       "      <td>27</td>\n",
       "      <td>MQ</td>\n",
       "      <td>0.36</td>\n",
       "      <td>VG</td>\n",
       "      <td>G</td>\n",
       "      <td>SI2</td>\n",
       "      <td>G</td>\n",
       "      <td>G</td>\n",
       "      <td>64.9</td>\n",
       "      <td>60.0</td>\n",
       "      <td>None</td>\n",
       "      <td>944</td>\n",
       "      <td>Small</td>\n",
       "      <td>1.96</td>\n",
       "      <td>\\r\\nJul&amp;nbsp;8\\r\\n</td>\n",
       "      <td>340.0</td>\n",
       "    </tr>\n",
       "  </tbody>\n",
       "</table>\n",
       "</div>"
      ]
     },
     "metadata": {},
     "execution_count": 16
    }
   ],
   "metadata": {
    "collapsed": false
   }
  },
  {
   "cell_type": "code",
   "execution_count": 17,
   "source": [
    "data_sorted.tail(10)"
   ],
   "outputs": [
    {
     "output_type": "execute_result",
     "data": {
      "text/plain": [
       "        item shape  carat cut color clarity polish symmetry  depth  table  \\\n",
       "65315  65316    RD   3.01   I     D      FL     EX       EX   61.8   58.0   \n",
       "65370  65371    CU   8.40   G     D      IF     VG        G   57.9   59.0   \n",
       "65374  65375    RD   9.19   I     E      IF     EX       EX   60.9   60.0   \n",
       "65359  65360    RD   4.83   I     D      IF     EX       EX   61.9   55.0   \n",
       "65367  65368    RD   6.02   I     D      FL     EX       EX   62.8   57.0   \n",
       "65368  65369    RD   6.54  VG     D    VVS1     VG       VG   58.0   64.0   \n",
       "65363  65364    RD   5.24   I     D      IF     VG       VG   62.6   54.0   \n",
       "65366  65367    RD   5.47   I     D      IF     EX       EX   62.4   54.0   \n",
       "65365  65366    RD   5.34   I     D      IF     EX       EX   61.6   57.0   \n",
       "65375  65376    RD  10.13   I     D      FL     EX       EX   62.5   57.0   \n",
       "\n",
       "      fluorescence  price per carat           culet  length to width ratio  \\\n",
       "65315         None           143063            None                   1.00   \n",
       "65370         None           144300  Slightly Large                   1.20   \n",
       "65374         None           150621            None                   1.00   \n",
       "65359         None           155322            None                   1.00   \n",
       "65367        Faint           168340            None                   1.01   \n",
       "65368         None           169873      Very Small                   1.01   \n",
       "65363         None           173186            None                   1.01   \n",
       "65366         None           183475            None                   1.00   \n",
       "65365         None           185328            None                   1.00   \n",
       "65375         None           256150            None                   1.00   \n",
       "\n",
       "             delivery date      price  \n",
       "65315  \\r\\nJul&nbsp;15\\r\\n   430619.0  \n",
       "65370   \\r\\nJul&nbsp;8\\r\\n  1212120.0  \n",
       "65374  \\r\\nJul&nbsp;13\\r\\n  1384207.0  \n",
       "65359  \\r\\nJul&nbsp;18\\r\\n   750205.0  \n",
       "65367  \\r\\nJul&nbsp;12\\r\\n  1013405.0  \n",
       "65368  \\r\\nJul&nbsp;13\\r\\n  1110971.0  \n",
       "65363   \\r\\nJul&nbsp;8\\r\\n   907494.0  \n",
       "65366  \\r\\nJul&nbsp;12\\r\\n  1003607.0  \n",
       "65365   \\r\\nJul&nbsp;8\\r\\n   989652.0  \n",
       "65375  \\r\\nJul&nbsp;12\\r\\n  2594800.0  "
      ],
      "text/html": [
       "<div>\n",
       "<table border=\"1\" class=\"dataframe\">\n",
       "  <thead>\n",
       "    <tr style=\"text-align: right;\">\n",
       "      <th></th>\n",
       "      <th>item</th>\n",
       "      <th>shape</th>\n",
       "      <th>carat</th>\n",
       "      <th>cut</th>\n",
       "      <th>color</th>\n",
       "      <th>clarity</th>\n",
       "      <th>polish</th>\n",
       "      <th>symmetry</th>\n",
       "      <th>depth</th>\n",
       "      <th>table</th>\n",
       "      <th>fluorescence</th>\n",
       "      <th>price per carat</th>\n",
       "      <th>culet</th>\n",
       "      <th>length to width ratio</th>\n",
       "      <th>delivery date</th>\n",
       "      <th>price</th>\n",
       "    </tr>\n",
       "  </thead>\n",
       "  <tbody>\n",
       "    <tr>\n",
       "      <th>65315</th>\n",
       "      <td>65316</td>\n",
       "      <td>RD</td>\n",
       "      <td>3.01</td>\n",
       "      <td>I</td>\n",
       "      <td>D</td>\n",
       "      <td>FL</td>\n",
       "      <td>EX</td>\n",
       "      <td>EX</td>\n",
       "      <td>61.8</td>\n",
       "      <td>58.0</td>\n",
       "      <td>None</td>\n",
       "      <td>143063</td>\n",
       "      <td>None</td>\n",
       "      <td>1.00</td>\n",
       "      <td>\\r\\nJul&amp;nbsp;15\\r\\n</td>\n",
       "      <td>430619.0</td>\n",
       "    </tr>\n",
       "    <tr>\n",
       "      <th>65370</th>\n",
       "      <td>65371</td>\n",
       "      <td>CU</td>\n",
       "      <td>8.40</td>\n",
       "      <td>G</td>\n",
       "      <td>D</td>\n",
       "      <td>IF</td>\n",
       "      <td>VG</td>\n",
       "      <td>G</td>\n",
       "      <td>57.9</td>\n",
       "      <td>59.0</td>\n",
       "      <td>None</td>\n",
       "      <td>144300</td>\n",
       "      <td>Slightly Large</td>\n",
       "      <td>1.20</td>\n",
       "      <td>\\r\\nJul&amp;nbsp;8\\r\\n</td>\n",
       "      <td>1212120.0</td>\n",
       "    </tr>\n",
       "    <tr>\n",
       "      <th>65374</th>\n",
       "      <td>65375</td>\n",
       "      <td>RD</td>\n",
       "      <td>9.19</td>\n",
       "      <td>I</td>\n",
       "      <td>E</td>\n",
       "      <td>IF</td>\n",
       "      <td>EX</td>\n",
       "      <td>EX</td>\n",
       "      <td>60.9</td>\n",
       "      <td>60.0</td>\n",
       "      <td>None</td>\n",
       "      <td>150621</td>\n",
       "      <td>None</td>\n",
       "      <td>1.00</td>\n",
       "      <td>\\r\\nJul&amp;nbsp;13\\r\\n</td>\n",
       "      <td>1384207.0</td>\n",
       "    </tr>\n",
       "    <tr>\n",
       "      <th>65359</th>\n",
       "      <td>65360</td>\n",
       "      <td>RD</td>\n",
       "      <td>4.83</td>\n",
       "      <td>I</td>\n",
       "      <td>D</td>\n",
       "      <td>IF</td>\n",
       "      <td>EX</td>\n",
       "      <td>EX</td>\n",
       "      <td>61.9</td>\n",
       "      <td>55.0</td>\n",
       "      <td>None</td>\n",
       "      <td>155322</td>\n",
       "      <td>None</td>\n",
       "      <td>1.00</td>\n",
       "      <td>\\r\\nJul&amp;nbsp;18\\r\\n</td>\n",
       "      <td>750205.0</td>\n",
       "    </tr>\n",
       "    <tr>\n",
       "      <th>65367</th>\n",
       "      <td>65368</td>\n",
       "      <td>RD</td>\n",
       "      <td>6.02</td>\n",
       "      <td>I</td>\n",
       "      <td>D</td>\n",
       "      <td>FL</td>\n",
       "      <td>EX</td>\n",
       "      <td>EX</td>\n",
       "      <td>62.8</td>\n",
       "      <td>57.0</td>\n",
       "      <td>Faint</td>\n",
       "      <td>168340</td>\n",
       "      <td>None</td>\n",
       "      <td>1.01</td>\n",
       "      <td>\\r\\nJul&amp;nbsp;12\\r\\n</td>\n",
       "      <td>1013405.0</td>\n",
       "    </tr>\n",
       "    <tr>\n",
       "      <th>65368</th>\n",
       "      <td>65369</td>\n",
       "      <td>RD</td>\n",
       "      <td>6.54</td>\n",
       "      <td>VG</td>\n",
       "      <td>D</td>\n",
       "      <td>VVS1</td>\n",
       "      <td>VG</td>\n",
       "      <td>VG</td>\n",
       "      <td>58.0</td>\n",
       "      <td>64.0</td>\n",
       "      <td>None</td>\n",
       "      <td>169873</td>\n",
       "      <td>Very Small</td>\n",
       "      <td>1.01</td>\n",
       "      <td>\\r\\nJul&amp;nbsp;13\\r\\n</td>\n",
       "      <td>1110971.0</td>\n",
       "    </tr>\n",
       "    <tr>\n",
       "      <th>65363</th>\n",
       "      <td>65364</td>\n",
       "      <td>RD</td>\n",
       "      <td>5.24</td>\n",
       "      <td>I</td>\n",
       "      <td>D</td>\n",
       "      <td>IF</td>\n",
       "      <td>VG</td>\n",
       "      <td>VG</td>\n",
       "      <td>62.6</td>\n",
       "      <td>54.0</td>\n",
       "      <td>None</td>\n",
       "      <td>173186</td>\n",
       "      <td>None</td>\n",
       "      <td>1.01</td>\n",
       "      <td>\\r\\nJul&amp;nbsp;8\\r\\n</td>\n",
       "      <td>907494.0</td>\n",
       "    </tr>\n",
       "    <tr>\n",
       "      <th>65366</th>\n",
       "      <td>65367</td>\n",
       "      <td>RD</td>\n",
       "      <td>5.47</td>\n",
       "      <td>I</td>\n",
       "      <td>D</td>\n",
       "      <td>IF</td>\n",
       "      <td>EX</td>\n",
       "      <td>EX</td>\n",
       "      <td>62.4</td>\n",
       "      <td>54.0</td>\n",
       "      <td>None</td>\n",
       "      <td>183475</td>\n",
       "      <td>None</td>\n",
       "      <td>1.00</td>\n",
       "      <td>\\r\\nJul&amp;nbsp;12\\r\\n</td>\n",
       "      <td>1003607.0</td>\n",
       "    </tr>\n",
       "    <tr>\n",
       "      <th>65365</th>\n",
       "      <td>65366</td>\n",
       "      <td>RD</td>\n",
       "      <td>5.34</td>\n",
       "      <td>I</td>\n",
       "      <td>D</td>\n",
       "      <td>IF</td>\n",
       "      <td>EX</td>\n",
       "      <td>EX</td>\n",
       "      <td>61.6</td>\n",
       "      <td>57.0</td>\n",
       "      <td>None</td>\n",
       "      <td>185328</td>\n",
       "      <td>None</td>\n",
       "      <td>1.00</td>\n",
       "      <td>\\r\\nJul&amp;nbsp;8\\r\\n</td>\n",
       "      <td>989652.0</td>\n",
       "    </tr>\n",
       "    <tr>\n",
       "      <th>65375</th>\n",
       "      <td>65376</td>\n",
       "      <td>RD</td>\n",
       "      <td>10.13</td>\n",
       "      <td>I</td>\n",
       "      <td>D</td>\n",
       "      <td>FL</td>\n",
       "      <td>EX</td>\n",
       "      <td>EX</td>\n",
       "      <td>62.5</td>\n",
       "      <td>57.0</td>\n",
       "      <td>None</td>\n",
       "      <td>256150</td>\n",
       "      <td>None</td>\n",
       "      <td>1.00</td>\n",
       "      <td>\\r\\nJul&amp;nbsp;12\\r\\n</td>\n",
       "      <td>2594800.0</td>\n",
       "    </tr>\n",
       "  </tbody>\n",
       "</table>\n",
       "</div>"
      ]
     },
     "metadata": {},
     "execution_count": 17
    }
   ],
   "metadata": {
    "collapsed": false
   }
  },
  {
   "cell_type": "markdown",
   "source": [
    "Looks like it worked!"
   ],
   "metadata": {}
  },
  {
   "cell_type": "markdown",
   "source": [
    "# Exercises"
   ],
   "metadata": {}
  },
  {
   "cell_type": "markdown",
   "source": [
    "## Question 1\n",
    "By default, the sort function sorts in ascending order (lowest to highest). Use Google-fu to figure out how to sort the data in descending order by carat."
   ],
   "metadata": {}
  },
  {
   "cell_type": "markdown",
   "source": [
    "## Question 2\n",
    "What happens if we sort by shape instead? What sort order is used?\n"
   ],
   "metadata": {}
  },
  {
   "cell_type": "markdown",
   "source": [
    "# Making the most of data frames"
   ],
   "metadata": {}
  },
  {
   "cell_type": "markdown",
   "source": [
    "So let's get down to some real data analysis.\n",
    "\n",
    "If we want to know what the columns in our data frame are (if, for instance, there are too many to fit onscreen, or we need the list of them to manipulate), we can do"
   ],
   "metadata": {}
  },
  {
   "cell_type": "code",
   "execution_count": 18,
   "source": [
    "data.columns"
   ],
   "outputs": [
    {
     "output_type": "execute_result",
     "data": {
      "text/plain": [
       "Index(['item', 'shape', 'carat', 'cut', 'color', 'clarity', 'polish',\n",
       "       'symmetry', 'depth', 'table', 'fluorescence', 'price per carat',\n",
       "       'culet', 'length to width ratio', 'delivery date', 'price'],\n",
       "      dtype='object')"
      ]
     },
     "metadata": {},
     "execution_count": 18
    }
   ],
   "metadata": {
    "collapsed": false
   }
  },
  {
   "cell_type": "markdown",
   "source": [
    "So we see columns is an attribute, not a method (the giveaway in this case is that we did not have to use parentheses afterward, as we would with a function/method).\n",
    "\n",
    "What type of object is this?"
   ],
   "metadata": {}
  },
  {
   "cell_type": "code",
   "execution_count": 19,
   "source": [
    "type(data.columns)"
   ],
   "outputs": [
    {
     "output_type": "execute_result",
     "data": {
      "text/plain": [
       "pandas.indexes.base.Index"
      ]
     },
     "metadata": {},
     "execution_count": 19
    }
   ],
   "metadata": {
    "collapsed": false
   }
  },
  {
   "cell_type": "markdown",
   "source": [
    "And what can we do with an Index?"
   ],
   "metadata": {}
  },
  {
   "cell_type": "code",
   "execution_count": 20,
   "source": [
    "dir(data.columns)"
   ],
   "outputs": [
    {
     "output_type": "execute_result",
     "data": {
      "text/plain": [
       "['T',\n",
       " '__abs__',\n",
       " '__add__',\n",
       " '__and__',\n",
       " '__array__',\n",
       " '__array_priority__',\n",
       " '__array_wrap__',\n",
       " '__bool__',\n",
       " '__bytes__',\n",
       " '__class__',\n",
       " '__contains__',\n",
       " '__copy__',\n",
       " '__deepcopy__',\n",
       " '__delattr__',\n",
       " '__dict__',\n",
       " '__dir__',\n",
       " '__doc__',\n",
       " '__eq__',\n",
       " '__floordiv__',\n",
       " '__format__',\n",
       " '__ge__',\n",
       " '__getattribute__',\n",
       " '__getitem__',\n",
       " '__gt__',\n",
       " '__hash__',\n",
       " '__iadd__',\n",
       " '__init__',\n",
       " '__inv__',\n",
       " '__iter__',\n",
       " '__le__',\n",
       " '__len__',\n",
       " '__lt__',\n",
       " '__module__',\n",
       " '__mul__',\n",
       " '__ne__',\n",
       " '__neg__',\n",
       " '__new__',\n",
       " '__nonzero__',\n",
       " '__or__',\n",
       " '__pos__',\n",
       " '__pow__',\n",
       " '__radd__',\n",
       " '__reduce__',\n",
       " '__reduce_ex__',\n",
       " '__repr__',\n",
       " '__rfloordiv__',\n",
       " '__rmul__',\n",
       " '__rpow__',\n",
       " '__rtruediv__',\n",
       " '__setattr__',\n",
       " '__setitem__',\n",
       " '__setstate__',\n",
       " '__sizeof__',\n",
       " '__str__',\n",
       " '__sub__',\n",
       " '__subclasshook__',\n",
       " '__truediv__',\n",
       " '__unicode__',\n",
       " '__weakref__',\n",
       " '__xor__',\n",
       " '_add_comparison_methods',\n",
       " '_add_logical_methods',\n",
       " '_add_logical_methods_disabled',\n",
       " '_add_numeric_methods',\n",
       " '_add_numeric_methods_binary',\n",
       " '_add_numeric_methods_disabled',\n",
       " '_add_numeric_methods_unary',\n",
       " '_add_numericlike_set_methods_disabled',\n",
       " '_allow_datetime_index_ops',\n",
       " '_allow_index_ops',\n",
       " '_allow_period_index_ops',\n",
       " '_arrmap',\n",
       " '_assert_can_do_op',\n",
       " '_assert_can_do_setop',\n",
       " '_assert_take_fillable',\n",
       " '_attributes',\n",
       " '_box_scalars',\n",
       " '_can_hold_na',\n",
       " '_can_reindex',\n",
       " '_cleanup',\n",
       " '_coerce_scalar_to_index',\n",
       " '_coerce_to_ndarray',\n",
       " '_comparables',\n",
       " '_constructor',\n",
       " '_convert_can_do_setop',\n",
       " '_convert_for_op',\n",
       " '_convert_list_indexer',\n",
       " '_convert_scalar_indexer',\n",
       " '_convert_slice_indexer',\n",
       " '_convert_tolerance',\n",
       " '_data',\n",
       " '_dir_additions',\n",
       " '_dir_deletions',\n",
       " '_engine',\n",
       " '_engine_type',\n",
       " '_ensure_compat_append',\n",
       " '_ensure_compat_concat',\n",
       " '_evaluate_with_datetime_like',\n",
       " '_evaluate_with_timedelta_like',\n",
       " '_evalute_compare',\n",
       " '_filter_indexer_tolerance',\n",
       " '_format_attrs',\n",
       " '_format_data',\n",
       " '_format_native_types',\n",
       " '_format_space',\n",
       " '_format_with_header',\n",
       " '_formatter_func',\n",
       " '_get_attributes_dict',\n",
       " '_get_consensus_name',\n",
       " '_get_duplicates',\n",
       " '_get_fill_indexer',\n",
       " '_get_fill_indexer_searchsorted',\n",
       " '_get_level_number',\n",
       " '_get_names',\n",
       " '_get_nearest_indexer',\n",
       " '_groupby',\n",
       " '_has_complex_internals',\n",
       " '_id',\n",
       " '_infer_as_myclass',\n",
       " '_inner_indexer',\n",
       " '_invalid_indexer',\n",
       " '_is_numeric_dtype',\n",
       " '_isnan',\n",
       " '_join_level',\n",
       " '_join_monotonic',\n",
       " '_join_multi',\n",
       " '_join_non_unique',\n",
       " '_join_precedence',\n",
       " '_left_indexer',\n",
       " '_left_indexer_unique',\n",
       " '_make_str_accessor',\n",
       " '_maybe_cast_indexer',\n",
       " '_maybe_cast_slice_bound',\n",
       " '_maybe_update_attributes',\n",
       " '_mpl_repr',\n",
       " '_na_value',\n",
       " '_nan_idxs',\n",
       " '_outer_indexer',\n",
       " '_possibly_promote',\n",
       " '_reduce',\n",
       " '_reindex_non_unique',\n",
       " '_reset_cache',\n",
       " '_reset_identity',\n",
       " '_scalar_data_error',\n",
       " '_searchsorted_monotonic',\n",
       " '_set_names',\n",
       " '_shallow_copy',\n",
       " '_shallow_copy_with_infer',\n",
       " '_simple_new',\n",
       " '_string_data_error',\n",
       " '_to_embed',\n",
       " '_to_safe_for_reshape',\n",
       " '_typ',\n",
       " '_unpickle_compat',\n",
       " '_update_inplace',\n",
       " '_validate_for_numeric_binop',\n",
       " '_validate_for_numeric_unaryop',\n",
       " '_validate_index_level',\n",
       " '_validate_indexer',\n",
       " '_values',\n",
       " '_wrap_joined_index',\n",
       " '_wrap_union_result',\n",
       " 'all',\n",
       " 'any',\n",
       " 'append',\n",
       " 'argmax',\n",
       " 'argmin',\n",
       " 'argsort',\n",
       " 'asi8',\n",
       " 'asof',\n",
       " 'asof_locs',\n",
       " 'astype',\n",
       " 'base',\n",
       " 'copy',\n",
       " 'data',\n",
       " 'delete',\n",
       " 'diff',\n",
       " 'difference',\n",
       " 'drop',\n",
       " 'drop_duplicates',\n",
       " 'dtype',\n",
       " 'dtype_str',\n",
       " 'duplicated',\n",
       " 'equals',\n",
       " 'factorize',\n",
       " 'fillna',\n",
       " 'flags',\n",
       " 'format',\n",
       " 'get_duplicates',\n",
       " 'get_indexer',\n",
       " 'get_indexer_for',\n",
       " 'get_indexer_non_unique',\n",
       " 'get_level_values',\n",
       " 'get_loc',\n",
       " 'get_slice_bound',\n",
       " 'get_value',\n",
       " 'get_values',\n",
       " 'groupby',\n",
       " 'has_duplicates',\n",
       " 'hasnans',\n",
       " 'holds_integer',\n",
       " 'identical',\n",
       " 'inferred_type',\n",
       " 'insert',\n",
       " 'intersection',\n",
       " 'is_',\n",
       " 'is_all_dates',\n",
       " 'is_boolean',\n",
       " 'is_categorical',\n",
       " 'is_floating',\n",
       " 'is_integer',\n",
       " 'is_lexsorted_for_tuple',\n",
       " 'is_mixed',\n",
       " 'is_monotonic',\n",
       " 'is_monotonic_decreasing',\n",
       " 'is_monotonic_increasing',\n",
       " 'is_numeric',\n",
       " 'is_object',\n",
       " 'is_type_compatible',\n",
       " 'is_unique',\n",
       " 'isin',\n",
       " 'item',\n",
       " 'itemsize',\n",
       " 'join',\n",
       " 'map',\n",
       " 'max',\n",
       " 'memory_usage',\n",
       " 'min',\n",
       " 'name',\n",
       " 'names',\n",
       " 'nbytes',\n",
       " 'ndim',\n",
       " 'nlevels',\n",
       " 'nunique',\n",
       " 'order',\n",
       " 'putmask',\n",
       " 'ravel',\n",
       " 'reindex',\n",
       " 'rename',\n",
       " 'repeat',\n",
       " 'searchsorted',\n",
       " 'set_names',\n",
       " 'set_value',\n",
       " 'shape',\n",
       " 'shift',\n",
       " 'size',\n",
       " 'slice_indexer',\n",
       " 'slice_locs',\n",
       " 'sort',\n",
       " 'sort_values',\n",
       " 'sortlevel',\n",
       " 'str',\n",
       " 'strides',\n",
       " 'summary',\n",
       " 'sym_diff',\n",
       " 'symmetric_difference',\n",
       " 'take',\n",
       " 'to_datetime',\n",
       " 'to_native_types',\n",
       " 'to_series',\n",
       " 'tolist',\n",
       " 'transpose',\n",
       " 'union',\n",
       " 'unique',\n",
       " 'value_counts',\n",
       " 'values',\n",
       " 'view']"
      ]
     },
     "metadata": {},
     "execution_count": 20
    }
   ],
   "metadata": {
    "collapsed": false
   }
  },
  {
   "cell_type": "markdown",
   "source": [
    "Oh, a lot.\n",
    "\n",
    "What will often be very useful to us is to get a single column out of the data frame. We can do this like so:"
   ],
   "metadata": {}
  },
  {
   "cell_type": "code",
   "execution_count": 21,
   "source": [
    "data.price"
   ],
   "outputs": [
    {
     "output_type": "execute_result",
     "data": {
      "text/plain": [
       "0            242.0\n",
       "1            243.0\n",
       "2            276.0\n",
       "3            278.0\n",
       "4            284.0\n",
       "5            287.0\n",
       "6            289.0\n",
       "7            289.0\n",
       "8            289.0\n",
       "9            293.0\n",
       "10           294.0\n",
       "11           301.0\n",
       "12           304.0\n",
       "13           304.0\n",
       "14           320.0\n",
       "15           322.0\n",
       "16           322.0\n",
       "17           328.0\n",
       "18           332.0\n",
       "19           334.0\n",
       "20           335.0\n",
       "21           336.0\n",
       "22           336.0\n",
       "23           339.0\n",
       "24           339.0\n",
       "25           339.0\n",
       "26           340.0\n",
       "27           344.0\n",
       "28           344.0\n",
       "29           345.0\n",
       "           ...    \n",
       "65346     615600.0\n",
       "65347     618498.0\n",
       "65348     622495.0\n",
       "65349     625741.0\n",
       "65350     639454.0\n",
       "65351     642772.0\n",
       "65352     654753.0\n",
       "65353     655899.0\n",
       "65354     662481.0\n",
       "65355     684911.0\n",
       "65356     699478.0\n",
       "65357     700352.0\n",
       "65358     734935.0\n",
       "65359     750205.0\n",
       "65360     784980.0\n",
       "65361     791635.0\n",
       "65362     896678.0\n",
       "65363     907494.0\n",
       "65364     965700.0\n",
       "65365     989652.0\n",
       "65366    1003607.0\n",
       "65367    1013405.0\n",
       "65368    1110971.0\n",
       "65369    1150413.0\n",
       "65370    1212120.0\n",
       "65371    1318034.0\n",
       "65372    1337035.0\n",
       "65373    1366679.0\n",
       "65374    1384207.0\n",
       "65375    2594800.0\n",
       "Name: price, dtype: float64"
      ]
     },
     "metadata": {},
     "execution_count": 21
    }
   ],
   "metadata": {
    "collapsed": false
   }
  },
  {
   "cell_type": "markdown",
   "source": [
    "or"
   ],
   "metadata": {}
  },
  {
   "cell_type": "code",
   "execution_count": 22,
   "source": [
    "data['price']"
   ],
   "outputs": [
    {
     "output_type": "execute_result",
     "data": {
      "text/plain": [
       "0            242.0\n",
       "1            243.0\n",
       "2            276.0\n",
       "3            278.0\n",
       "4            284.0\n",
       "5            287.0\n",
       "6            289.0\n",
       "7            289.0\n",
       "8            289.0\n",
       "9            293.0\n",
       "10           294.0\n",
       "11           301.0\n",
       "12           304.0\n",
       "13           304.0\n",
       "14           320.0\n",
       "15           322.0\n",
       "16           322.0\n",
       "17           328.0\n",
       "18           332.0\n",
       "19           334.0\n",
       "20           335.0\n",
       "21           336.0\n",
       "22           336.0\n",
       "23           339.0\n",
       "24           339.0\n",
       "25           339.0\n",
       "26           340.0\n",
       "27           344.0\n",
       "28           344.0\n",
       "29           345.0\n",
       "           ...    \n",
       "65346     615600.0\n",
       "65347     618498.0\n",
       "65348     622495.0\n",
       "65349     625741.0\n",
       "65350     639454.0\n",
       "65351     642772.0\n",
       "65352     654753.0\n",
       "65353     655899.0\n",
       "65354     662481.0\n",
       "65355     684911.0\n",
       "65356     699478.0\n",
       "65357     700352.0\n",
       "65358     734935.0\n",
       "65359     750205.0\n",
       "65360     784980.0\n",
       "65361     791635.0\n",
       "65362     896678.0\n",
       "65363     907494.0\n",
       "65364     965700.0\n",
       "65365     989652.0\n",
       "65366    1003607.0\n",
       "65367    1013405.0\n",
       "65368    1110971.0\n",
       "65369    1150413.0\n",
       "65370    1212120.0\n",
       "65371    1318034.0\n",
       "65372    1337035.0\n",
       "65373    1366679.0\n",
       "65374    1384207.0\n",
       "65375    2594800.0\n",
       "Name: price, dtype: float64"
      ]
     },
     "metadata": {},
     "execution_count": 22
    }
   ],
   "metadata": {
    "collapsed": false
   }
  },
  {
   "cell_type": "markdown",
   "source": [
    "The second method (but not the first) also works when the column name has spaces:"
   ],
   "metadata": {}
  },
  {
   "cell_type": "code",
   "execution_count": 23,
   "source": [
    "data['length to width ratio']"
   ],
   "outputs": [
    {
     "output_type": "execute_result",
     "data": {
      "text/plain": [
       "0        1.65\n",
       "1        1.46\n",
       "2        1.40\n",
       "3        1.52\n",
       "4        1.42\n",
       "5        1.95\n",
       "6        1.03\n",
       "7        1.34\n",
       "8        1.01\n",
       "9        2.02\n",
       "10       1.01\n",
       "11       1.35\n",
       "12       1.52\n",
       "13       1.00\n",
       "14       1.01\n",
       "15       1.11\n",
       "16       1.01\n",
       "17       1.08\n",
       "18       1.13\n",
       "19       1.15\n",
       "20       1.37\n",
       "21       1.35\n",
       "22       1.41\n",
       "23       1.09\n",
       "24       1.45\n",
       "25       1.10\n",
       "26       1.96\n",
       "27       1.30\n",
       "28       1.44\n",
       "29       1.35\n",
       "         ... \n",
       "65346    1.00\n",
       "65347    1.47\n",
       "65348    1.49\n",
       "65349    1.59\n",
       "65350    1.01\n",
       "65351    1.47\n",
       "65352    1.01\n",
       "65353    1.51\n",
       "65354    1.13\n",
       "65355    1.17\n",
       "65356    1.01\n",
       "65357    1.01\n",
       "65358    1.01\n",
       "65359    1.00\n",
       "65360    1.01\n",
       "65361    1.21\n",
       "65362    1.37\n",
       "65363    1.01\n",
       "65364    1.33\n",
       "65365    1.00\n",
       "65366    1.00\n",
       "65367    1.01\n",
       "65368    1.01\n",
       "65369    1.01\n",
       "65370    1.20\n",
       "65371    1.01\n",
       "65372    1.01\n",
       "65373    1.01\n",
       "65374    1.00\n",
       "65375    1.00\n",
       "Name: length to width ratio, dtype: float64"
      ]
     },
     "metadata": {},
     "execution_count": 23
    }
   ],
   "metadata": {
    "collapsed": false
   }
  },
  {
   "cell_type": "markdown",
   "source": [
    "Note that the result of this operation doesn't return a 1-column data frame, but a Series:"
   ],
   "metadata": {}
  },
  {
   "cell_type": "code",
   "execution_count": 24,
   "source": [
    "type(data['length to width ratio'])"
   ],
   "outputs": [
    {
     "output_type": "execute_result",
     "data": {
      "text/plain": [
       "pandas.core.series.Series"
      ]
     },
     "metadata": {},
     "execution_count": 24
    }
   ],
   "metadata": {
    "collapsed": false
   }
  },
  {
   "cell_type": "markdown",
   "source": [
    "What you might be able to guess here is that a DataFrame is an object that (more or less) contains a bunch of Series objects named in an Index."
   ],
   "metadata": {}
  },
  {
   "cell_type": "markdown",
   "source": [
    "Finally, we can get multiple columns at once:"
   ],
   "metadata": {}
  },
  {
   "cell_type": "code",
   "execution_count": 25,
   "source": [
    "data[['price', 'price per carat']]"
   ],
   "outputs": [
    {
     "output_type": "execute_result",
     "data": {
      "text/plain": [
       "           price  price per carat\n",
       "0          242.0              864\n",
       "1          243.0             1057\n",
       "2          276.0              812\n",
       "3          278.0              818\n",
       "4          284.0             1235\n",
       "5          287.0             1248\n",
       "6          289.0              781\n",
       "7          289.0             1204\n",
       "8          289.0             1204\n",
       "9          293.0              888\n",
       "10         294.0             1278\n",
       "11         301.0              860\n",
       "12         304.0             1322\n",
       "13         304.0             1216\n",
       "14         320.0             1280\n",
       "15         322.0              976\n",
       "16         322.0             1193\n",
       "17         328.0             1426\n",
       "18         332.0             1443\n",
       "19         334.0             1452\n",
       "20         335.0              859\n",
       "21         336.0             1461\n",
       "22         336.0             1018\n",
       "23         339.0             1474\n",
       "24         339.0             1059\n",
       "25         339.0             1059\n",
       "26         340.0              944\n",
       "27         344.0             1496\n",
       "28         344.0             1110\n",
       "29         345.0             1113\n",
       "...          ...              ...\n",
       "65346   615600.0           101250\n",
       "65347   618498.0           123700\n",
       "65348   622495.0            77715\n",
       "65349   625741.0            38295\n",
       "65350   639454.0            51862\n",
       "65351   642772.0           121968\n",
       "65352   654753.0            74829\n",
       "65353   655899.0           105450\n",
       "65354   662481.0            59629\n",
       "65355   684911.0            61372\n",
       "65356   699478.0           133488\n",
       "65357   700352.0           132894\n",
       "65358   734935.0           122082\n",
       "65359   750205.0           155322\n",
       "65360   784980.0           104247\n",
       "65361   791635.0            60384\n",
       "65362   896678.0            80420\n",
       "65363   907494.0           173186\n",
       "65364   965700.0           133200\n",
       "65365   989652.0           185328\n",
       "65366  1003607.0           183475\n",
       "65367  1013405.0           168340\n",
       "65368  1110971.0           169873\n",
       "65369  1150413.0           120336\n",
       "65370  1212120.0           144300\n",
       "65371  1318034.0           130112\n",
       "65372  1337035.0            66420\n",
       "65373  1366679.0           110662\n",
       "65374  1384207.0           150621\n",
       "65375  2594800.0           256150\n",
       "\n",
       "[65376 rows x 2 columns]"
      ],
      "text/html": [
       "<div>\n",
       "<table border=\"1\" class=\"dataframe\">\n",
       "  <thead>\n",
       "    <tr style=\"text-align: right;\">\n",
       "      <th></th>\n",
       "      <th>price</th>\n",
       "      <th>price per carat</th>\n",
       "    </tr>\n",
       "  </thead>\n",
       "  <tbody>\n",
       "    <tr>\n",
       "      <th>0</th>\n",
       "      <td>242.0</td>\n",
       "      <td>864</td>\n",
       "    </tr>\n",
       "    <tr>\n",
       "      <th>1</th>\n",
       "      <td>243.0</td>\n",
       "      <td>1057</td>\n",
       "    </tr>\n",
       "    <tr>\n",
       "      <th>2</th>\n",
       "      <td>276.0</td>\n",
       "      <td>812</td>\n",
       "    </tr>\n",
       "    <tr>\n",
       "      <th>3</th>\n",
       "      <td>278.0</td>\n",
       "      <td>818</td>\n",
       "    </tr>\n",
       "    <tr>\n",
       "      <th>4</th>\n",
       "      <td>284.0</td>\n",
       "      <td>1235</td>\n",
       "    </tr>\n",
       "    <tr>\n",
       "      <th>5</th>\n",
       "      <td>287.0</td>\n",
       "      <td>1248</td>\n",
       "    </tr>\n",
       "    <tr>\n",
       "      <th>6</th>\n",
       "      <td>289.0</td>\n",
       "      <td>781</td>\n",
       "    </tr>\n",
       "    <tr>\n",
       "      <th>7</th>\n",
       "      <td>289.0</td>\n",
       "      <td>1204</td>\n",
       "    </tr>\n",
       "    <tr>\n",
       "      <th>8</th>\n",
       "      <td>289.0</td>\n",
       "      <td>1204</td>\n",
       "    </tr>\n",
       "    <tr>\n",
       "      <th>9</th>\n",
       "      <td>293.0</td>\n",
       "      <td>888</td>\n",
       "    </tr>\n",
       "    <tr>\n",
       "      <th>10</th>\n",
       "      <td>294.0</td>\n",
       "      <td>1278</td>\n",
       "    </tr>\n",
       "    <tr>\n",
       "      <th>11</th>\n",
       "      <td>301.0</td>\n",
       "      <td>860</td>\n",
       "    </tr>\n",
       "    <tr>\n",
       "      <th>12</th>\n",
       "      <td>304.0</td>\n",
       "      <td>1322</td>\n",
       "    </tr>\n",
       "    <tr>\n",
       "      <th>13</th>\n",
       "      <td>304.0</td>\n",
       "      <td>1216</td>\n",
       "    </tr>\n",
       "    <tr>\n",
       "      <th>14</th>\n",
       "      <td>320.0</td>\n",
       "      <td>1280</td>\n",
       "    </tr>\n",
       "    <tr>\n",
       "      <th>15</th>\n",
       "      <td>322.0</td>\n",
       "      <td>976</td>\n",
       "    </tr>\n",
       "    <tr>\n",
       "      <th>16</th>\n",
       "      <td>322.0</td>\n",
       "      <td>1193</td>\n",
       "    </tr>\n",
       "    <tr>\n",
       "      <th>17</th>\n",
       "      <td>328.0</td>\n",
       "      <td>1426</td>\n",
       "    </tr>\n",
       "    <tr>\n",
       "      <th>18</th>\n",
       "      <td>332.0</td>\n",
       "      <td>1443</td>\n",
       "    </tr>\n",
       "    <tr>\n",
       "      <th>19</th>\n",
       "      <td>334.0</td>\n",
       "      <td>1452</td>\n",
       "    </tr>\n",
       "    <tr>\n",
       "      <th>20</th>\n",
       "      <td>335.0</td>\n",
       "      <td>859</td>\n",
       "    </tr>\n",
       "    <tr>\n",
       "      <th>21</th>\n",
       "      <td>336.0</td>\n",
       "      <td>1461</td>\n",
       "    </tr>\n",
       "    <tr>\n",
       "      <th>22</th>\n",
       "      <td>336.0</td>\n",
       "      <td>1018</td>\n",
       "    </tr>\n",
       "    <tr>\n",
       "      <th>23</th>\n",
       "      <td>339.0</td>\n",
       "      <td>1474</td>\n",
       "    </tr>\n",
       "    <tr>\n",
       "      <th>24</th>\n",
       "      <td>339.0</td>\n",
       "      <td>1059</td>\n",
       "    </tr>\n",
       "    <tr>\n",
       "      <th>25</th>\n",
       "      <td>339.0</td>\n",
       "      <td>1059</td>\n",
       "    </tr>\n",
       "    <tr>\n",
       "      <th>26</th>\n",
       "      <td>340.0</td>\n",
       "      <td>944</td>\n",
       "    </tr>\n",
       "    <tr>\n",
       "      <th>27</th>\n",
       "      <td>344.0</td>\n",
       "      <td>1496</td>\n",
       "    </tr>\n",
       "    <tr>\n",
       "      <th>28</th>\n",
       "      <td>344.0</td>\n",
       "      <td>1110</td>\n",
       "    </tr>\n",
       "    <tr>\n",
       "      <th>29</th>\n",
       "      <td>345.0</td>\n",
       "      <td>1113</td>\n",
       "    </tr>\n",
       "    <tr>\n",
       "      <th>...</th>\n",
       "      <td>...</td>\n",
       "      <td>...</td>\n",
       "    </tr>\n",
       "    <tr>\n",
       "      <th>65346</th>\n",
       "      <td>615600.0</td>\n",
       "      <td>101250</td>\n",
       "    </tr>\n",
       "    <tr>\n",
       "      <th>65347</th>\n",
       "      <td>618498.0</td>\n",
       "      <td>123700</td>\n",
       "    </tr>\n",
       "    <tr>\n",
       "      <th>65348</th>\n",
       "      <td>622495.0</td>\n",
       "      <td>77715</td>\n",
       "    </tr>\n",
       "    <tr>\n",
       "      <th>65349</th>\n",
       "      <td>625741.0</td>\n",
       "      <td>38295</td>\n",
       "    </tr>\n",
       "    <tr>\n",
       "      <th>65350</th>\n",
       "      <td>639454.0</td>\n",
       "      <td>51862</td>\n",
       "    </tr>\n",
       "    <tr>\n",
       "      <th>65351</th>\n",
       "      <td>642772.0</td>\n",
       "      <td>121968</td>\n",
       "    </tr>\n",
       "    <tr>\n",
       "      <th>65352</th>\n",
       "      <td>654753.0</td>\n",
       "      <td>74829</td>\n",
       "    </tr>\n",
       "    <tr>\n",
       "      <th>65353</th>\n",
       "      <td>655899.0</td>\n",
       "      <td>105450</td>\n",
       "    </tr>\n",
       "    <tr>\n",
       "      <th>65354</th>\n",
       "      <td>662481.0</td>\n",
       "      <td>59629</td>\n",
       "    </tr>\n",
       "    <tr>\n",
       "      <th>65355</th>\n",
       "      <td>684911.0</td>\n",
       "      <td>61372</td>\n",
       "    </tr>\n",
       "    <tr>\n",
       "      <th>65356</th>\n",
       "      <td>699478.0</td>\n",
       "      <td>133488</td>\n",
       "    </tr>\n",
       "    <tr>\n",
       "      <th>65357</th>\n",
       "      <td>700352.0</td>\n",
       "      <td>132894</td>\n",
       "    </tr>\n",
       "    <tr>\n",
       "      <th>65358</th>\n",
       "      <td>734935.0</td>\n",
       "      <td>122082</td>\n",
       "    </tr>\n",
       "    <tr>\n",
       "      <th>65359</th>\n",
       "      <td>750205.0</td>\n",
       "      <td>155322</td>\n",
       "    </tr>\n",
       "    <tr>\n",
       "      <th>65360</th>\n",
       "      <td>784980.0</td>\n",
       "      <td>104247</td>\n",
       "    </tr>\n",
       "    <tr>\n",
       "      <th>65361</th>\n",
       "      <td>791635.0</td>\n",
       "      <td>60384</td>\n",
       "    </tr>\n",
       "    <tr>\n",
       "      <th>65362</th>\n",
       "      <td>896678.0</td>\n",
       "      <td>80420</td>\n",
       "    </tr>\n",
       "    <tr>\n",
       "      <th>65363</th>\n",
       "      <td>907494.0</td>\n",
       "      <td>173186</td>\n",
       "    </tr>\n",
       "    <tr>\n",
       "      <th>65364</th>\n",
       "      <td>965700.0</td>\n",
       "      <td>133200</td>\n",
       "    </tr>\n",
       "    <tr>\n",
       "      <th>65365</th>\n",
       "      <td>989652.0</td>\n",
       "      <td>185328</td>\n",
       "    </tr>\n",
       "    <tr>\n",
       "      <th>65366</th>\n",
       "      <td>1003607.0</td>\n",
       "      <td>183475</td>\n",
       "    </tr>\n",
       "    <tr>\n",
       "      <th>65367</th>\n",
       "      <td>1013405.0</td>\n",
       "      <td>168340</td>\n",
       "    </tr>\n",
       "    <tr>\n",
       "      <th>65368</th>\n",
       "      <td>1110971.0</td>\n",
       "      <td>169873</td>\n",
       "    </tr>\n",
       "    <tr>\n",
       "      <th>65369</th>\n",
       "      <td>1150413.0</td>\n",
       "      <td>120336</td>\n",
       "    </tr>\n",
       "    <tr>\n",
       "      <th>65370</th>\n",
       "      <td>1212120.0</td>\n",
       "      <td>144300</td>\n",
       "    </tr>\n",
       "    <tr>\n",
       "      <th>65371</th>\n",
       "      <td>1318034.0</td>\n",
       "      <td>130112</td>\n",
       "    </tr>\n",
       "    <tr>\n",
       "      <th>65372</th>\n",
       "      <td>1337035.0</td>\n",
       "      <td>66420</td>\n",
       "    </tr>\n",
       "    <tr>\n",
       "      <th>65373</th>\n",
       "      <td>1366679.0</td>\n",
       "      <td>110662</td>\n",
       "    </tr>\n",
       "    <tr>\n",
       "      <th>65374</th>\n",
       "      <td>1384207.0</td>\n",
       "      <td>150621</td>\n",
       "    </tr>\n",
       "    <tr>\n",
       "      <th>65375</th>\n",
       "      <td>2594800.0</td>\n",
       "      <td>256150</td>\n",
       "    </tr>\n",
       "  </tbody>\n",
       "</table>\n",
       "<p>65376 rows × 2 columns</p>\n",
       "</div>"
      ]
     },
     "metadata": {},
     "execution_count": 25
    }
   ],
   "metadata": {
    "collapsed": false
   }
  },
  {
   "cell_type": "markdown",
   "source": [
    "This actually does return a data frame. Note that the expression we put between the brackets in this case was a comma-separated list of strings (things in quotes), also enclosed in brackets. This is a type of object called a list in Python:"
   ],
   "metadata": {}
  },
  {
   "cell_type": "code",
   "execution_count": 26,
   "source": [
    "mylist = [1, 'a string', 'another string', 6.7, True]\n",
    "type(mylist)"
   ],
   "outputs": [
    {
     "output_type": "execute_result",
     "data": {
      "text/plain": [
       "list"
      ]
     },
     "metadata": {},
     "execution_count": 26
    }
   ],
   "metadata": {
    "collapsed": false
   }
  },
  {
   "cell_type": "markdown",
   "source": [
    "Clearly, lists are pretty useful for holding, well, lists. And the items in the list don't have to be of the same type. You can learn about Python lists in any basic Python intro, and we'll do more with them, but the key idea is that Python has several data types like this that we can use as *collections of other objects*. As we meet the other types, including tuples and dictionaries, we will discuss when it's best to use one or another. "
   ],
   "metadata": {}
  },
  {
   "cell_type": "markdown",
   "source": [
    "Handily, `pandas` has some functions we can use to calculate basic statistics of our data:"
   ],
   "metadata": {}
  },
  {
   "cell_type": "code",
   "execution_count": 27,
   "source": [
    "# here, let's save these outputs to variable names to make the code cleaner\n",
    "ppc_mean = data['price per carat'].mean()\n",
    "ppc_std = data['price per carat'].std()\n",
    "\n",
    "# we can concatenate strings by using +, but first we have to use the str function to convert the numbers to strings\n",
    "print(\"The average price per carat is \" + str(ppc_mean))\n",
    "print(\"The standard deviation of price per carat is \" + str(ppc_std))\n",
    "print(\"The coefficient of variation (std / mean) is thus \" + str(ppc_mean / ppc_std))"
   ],
   "outputs": [
    {
     "output_type": "stream",
     "name": "stdout",
     "text": [
      "The average price per carat is 6282.785364659814\n",
      "The standard deviation of price per carat is 7198.173546249848\n",
      "The coefficient of variation (std / mean) is thus 0.8728304929426245\n"
     ]
    }
   ],
   "metadata": {
    "collapsed": false
   }
  },
  {
   "cell_type": "markdown",
   "source": [
    "In fact, these functions will work column-by-column where appropriate:"
   ],
   "metadata": {}
  },
  {
   "cell_type": "code",
   "execution_count": 28,
   "source": [
    "data.max()"
   ],
   "outputs": [
    {
     "output_type": "execute_result",
     "data": {
      "text/plain": [
       "item                                  65376\n",
       "shape                                    RD\n",
       "carat                                 20.13\n",
       "cut                                      VG\n",
       "color                                     J\n",
       "clarity                                VVS2\n",
       "polish                                   VG\n",
       "symmetry                                 VG\n",
       "depth                                    80\n",
       "table                                   555\n",
       "fluorescence               Very Strong Blue\n",
       "price per carat                      256150\n",
       "culet                            Very Small\n",
       "length to width ratio                  3.12\n",
       "delivery date            \\r\\nJul&nbsp;8\\r\\n\n",
       "price                            2.5948e+06\n",
       "dtype: object"
      ]
     },
     "metadata": {},
     "execution_count": 28
    }
   ],
   "metadata": {
    "collapsed": false
   }
  },
  {
   "cell_type": "markdown",
   "source": [
    "Finally, we might eventually want to take select subsets of our data, for which there are lots of methods described [here](http://pandas.pydata.org/pandas-docs/stable/indexing.html). \n",
    "\n",
    "For example, say we wanted to look only at diamonds between 1 and 2 carats. One of the nicest methods to select these data is to use the `query` method:"
   ],
   "metadata": {}
  },
  {
   "cell_type": "code",
   "execution_count": 29,
   "source": [
    "subset = data.query('(carat >= 1) & (carat <= 2)')\n",
    "print(\"The mean for the whole dataset is \" + str(data['price'].mean()))\n",
    "print(\"The mean for the subset is \" + str(subset['price'].mean()))"
   ],
   "outputs": [
    {
     "output_type": "stream",
     "name": "stdout",
     "text": [
      "The mean for the whole dataset is 9495.346426823298\n",
      "The mean for the subset is 11344.487346603253\n"
     ]
    }
   ],
   "metadata": {
    "collapsed": false
   }
  },
  {
   "cell_type": "markdown",
   "source": [
    "# Exercises"
   ],
   "metadata": {}
  },
  {
   "cell_type": "markdown",
   "source": [
    "## Question 1:\n",
    "Extract the subset of data with less than 1 carat and cut equal to Very Good (VG). (Hint: the double equals `==` operator tests for equality. The normal equals sign is only for assigning values to variables.)"
   ],
   "metadata": {}
  },
  {
   "cell_type": "markdown",
   "source": [
    "## Question 2:\n",
    "Extract the subset of data with color other than J. (Hint, if you have a query that would return all the rows you *don't* want, you can negate that query by putting `~` in front of it.)"
   ],
   "metadata": {}
  },
  {
   "cell_type": "markdown",
   "source": [
    "# Plotting"
   ],
   "metadata": {}
  },
  {
   "cell_type": "markdown",
   "source": [
    "Plotting is just fun. It is also, far and away, the best method for exploring your data."
   ],
   "metadata": {}
  },
  {
   "cell_type": "code",
   "execution_count": 30,
   "source": [
    "# this magic makes sure our plots appear in the browser\n",
    "%matplotlib inline"
   ],
   "outputs": [],
   "metadata": {
    "collapsed": false
   }
  },
  {
   "cell_type": "code",
   "execution_count": 31,
   "source": [
    "# let's look at some distributions of variables\n",
    "data['price'].plot(kind='hist')"
   ],
   "outputs": [
    {
     "output_type": "execute_result",
     "data": {
      "text/plain": [
       "<matplotlib.axes._subplots.AxesSubplot at 0x1164e3630>"
      ]
     },
     "metadata": {},
     "execution_count": 31
    },
    {
     "output_type": "display_data",
     "data": {
      "text/plain": [
       "<matplotlib.figure.Figure at 0x1164bf8d0>"
      ],
      "image/png": "[encoded data removed]"
     },
     "metadata": {}
    }
   ],
   "metadata": {
    "collapsed": false
   }
  },
  {
   "cell_type": "markdown",
   "source": [
    "Hmm. Let's fix two things:\n",
    "1. Let's plot the logarithm of price. That will make the scale more meaningful.\n",
    "2. Let's suppress the matplotlib.axes business (it's reflecting the object our plot command returns). We can do this by ending the line with a semicolon."
   ],
   "metadata": {}
  },
  {
   "cell_type": "code",
   "execution_count": 32,
   "source": [
    "#first, import numpy, which has the logarithm function. We'll also give it a nickname.\n",
    "import numpy as np\n",
    "\n",
    "# the apply method applies a function to every element of a data frame (or series in this case)\n",
    "# we will use this to create a new column in the data frame called log_price\n",
    "data['log_price'] = data['price'].apply(np.log10)\n",
    "data['log_price'].plot(kind='hist');"
   ],
   "outputs": [
    {
     "output_type": "display_data",
     "data": {
      "text/plain": [
       "<matplotlib.figure.Figure at 0x11433aef0>"
      ],
      "image/png": "[encoded data removed]"
     },
     "metadata": {}
    }
   ],
   "metadata": {
    "collapsed": false
   }
  },
  {
   "cell_type": "markdown",
   "source": [
    "But we can do so much better!"
   ],
   "metadata": {}
  },
  {
   "cell_type": "code",
   "execution_count": 33,
   "source": [
    "#let's pull out the big guns\n",
    "import matplotlib.pyplot as plt\n",
    "\n",
    "data['log_price'].plot(kind='hist', bins=100)\n",
    "plt.xlabel('Log_10 price (dollars)')\n",
    "plt.ylabel('Count');"
   ],
   "outputs": [
    {
     "output_type": "display_data",
     "data": {
      "text/plain": [
       "<matplotlib.figure.Figure at 0x1170e8048>"
      ],
      "image/png": "[encoded data removed]"
     },
     "metadata": {}
    }
   ],
   "metadata": {
    "collapsed": false
   }
  },
  {
   "cell_type": "markdown",
   "source": [
    "What about other types of plots?"
   ],
   "metadata": {}
  },
  {
   "cell_type": "code",
   "execution_count": 34,
   "source": [
    "# the value_counts() method counts the number of times each value occurs in the data['color'] series\n",
    "data['color'].value_counts().plot(kind='bar');"
   ],
   "outputs": [
    {
     "output_type": "display_data",
     "data": {
      "text/plain": [
       "<matplotlib.figure.Figure at 0x11a65efd0>"
      ],
      "image/png": "[encoded data removed]"
     },
     "metadata": {}
    }
   ],
   "metadata": {
    "collapsed": false
   }
  },
  {
   "cell_type": "markdown",
   "source": [
    "That's a bit ugly. Let's change plot styles."
   ],
   "metadata": {}
  },
  {
   "cell_type": "code",
   "execution_count": 35,
   "source": [
    "plt.style.use('ggplot')"
   ],
   "outputs": [],
   "metadata": {
    "collapsed": false
   }
  },
  {
   "cell_type": "code",
   "execution_count": 36,
   "source": [
    "# scatter plot the relationship between carat and price\n",
    "data.plot(kind='scatter', x='carat', y='price');\n",
    "\n",
    "# do the same thing, but plot y on a log scale\n",
    "data.plot(kind='scatter', x='carat', y='price', logy=True);"
   ],
   "outputs": [
    {
     "output_type": "display_data",
     "data": {
      "text/plain": [
       "<matplotlib.figure.Figure at 0x11a662128>"
      ],
      "image/png": "[encoded data removed]"
     },
     "metadata": {}
    },
    {
     "output_type": "display_data",
     "data": {
      "text/plain": [
       "<matplotlib.figure.Figure at 0x11a6629e8>"
      ],
      "image/png": "[encoded data removed]"
     },
     "metadata": {}
    }
   ],
   "metadata": {
    "collapsed": false
   }
  },
  {
   "cell_type": "code",
   "execution_count": 37,
   "source": [
    "data.boxplot(column='log_price', by='color');\n",
    "data.boxplot(column='log_price', by='cut');"
   ],
   "outputs": [
    {
     "output_type": "display_data",
     "data": {
      "text/plain": [
       "<matplotlib.figure.Figure at 0x116db0710>"
      ],
      "image/png": "[encoded data removed]"
     },
     "metadata": {}
    },
    {
     "output_type": "display_data",
     "data": {
      "text/plain": [
       "<matplotlib.figure.Figure at 0x116db00b8>"
      ],
      "image/png": "[encoded data removed]"
     },
     "metadata": {}
    }
   ],
   "metadata": {
    "collapsed": false
   }
  },
  {
   "cell_type": "markdown",
   "source": [
    "## Challenge Question:\n",
    "You can see from the above above that color and cut don't seem to matter much to price. Can you think of a reason why this might be?"
   ],
   "metadata": {}
  },
  {
   "cell_type": "code",
   "execution_count": 38,
   "source": [
    "data.boxplot(column='carat', by='color');\n",
    "plt.ylim(0, 3);\n",
    "data.boxplot(column='carat', by='cut');\n",
    "plt.ylim(0, 3);"
   ],
   "outputs": [
    {
     "output_type": "display_data",
     "data": {
      "text/plain": [
       "<matplotlib.figure.Figure at 0x11b60d198>"
      ],
      "image/png": "[encoded data removed]"
     },
     "metadata": {}
    },
    {
     "output_type": "display_data",
     "data": {
      "text/plain": [
       "<matplotlib.figure.Figure at 0x11b60d0b8>"
      ],
      "image/png": "[encoded data removed]"
     },
     "metadata": {}
    }
   ],
   "metadata": {
    "collapsed": false
   }
  },
  {
   "cell_type": "code",
   "execution_count": 39,
   "source": [
    "from pandas.plotting import scatter_matrix\n",
    "\n",
    "column_list = ['carat', 'price per carat', 'log_price']\n",
    "scatter_matrix(data[column_list]);"
   ],
   "outputs": [
    {
     "output_type": "display_data",
     "data": {
      "text/plain": [
       "<matplotlib.figure.Figure at 0x11680fc50>"
      ],
      "image/png": "[encoded data removed]"
     },
     "metadata": {}
    }
   ],
   "metadata": {
    "collapsed": false
   }
  },
  {
   "cell_type": "markdown",
   "source": [
    "# Final thoughts:"
   ],
   "metadata": {}
  },
  {
   "cell_type": "markdown",
   "source": [
    "There are lots and lots and lots of plotting libraries out there. \n",
    "- [Matplotlib](http://matplotlib.org/) is the standard (and most full-featured), but it's built to look and work like Matlab, which is not known for the prettiness of its plots. \n",
    "- There is an unofficial port of the excellent [ggplot2](https://ggplot2.tidyverse.org/) library from R to [Python](https://yhat.github.io/ggpy/). It lacks some features, but does follow ggplot's unique \"grammar of graphics\" approach.\n",
    "- [Seaborn](http://stanford.edu/~mwaskom/software/seaborn/) is what the cool kids seem to be using right now. ggplot-quality results, but with a more Python-y syntax. Focus on good-looking defaults relative to Matplotlib with less typing and swap-in stylesheets to give plots a consistent look and feel.\n",
    "- [Bokeh](http://bokeh.pydata.org/en/latest/) has a focus on web output and large or streaming datasets.\n",
    "- [plot.ly](https://plot.ly) has a focus on data sharing and collaboration. May not be best for quick and dirty data exploration, but nice for showing to colleagues.\n",
    "\n",
    "## Very important:\n",
    "Plotting is lots of fun to play around with, but almost no plot is going to be of publication quality without some tweaking. Once you pick a package, you will want to spend time learning how to get labels, spacing, tick marks, etc. right. All of the packages above are very powerful, but inevitably, you will want to do something that seems simple and turns out to be hard.\n",
    "\n",
    "Why not just take the plot that's easy to make and pretty it up in Adobe Illustrator? **Any plot that winds up in a paper will be revised many times in the course of revision and peer review. Learn to let the program do the hard work.** You want code that will get you 90 - 95% of the way to publication quality.\n",
    "\n",
    "Thankfully, it's very, very easy to learn how to do this. Because plotting routines present such nice visual feedback, there are lots and lots of examples on line with code that will show you how to make gorgeous plots. Here again, documentation and StackOverflow are your friends!"
   ],
   "metadata": {}
  },
  {
   "cell_type": "markdown",
   "source": [
    "# Case Study 2: Time allocation"
   ],
   "metadata": {
    "collapsed": false
   }
  },
  {
   "cell_type": "markdown",
   "source": [
    "Now let's practice some of what we learned by analyzing data from a very simple survey.\n",
    "\n",
    "I asked members of CCN and Neurobiology to answer the following question:\n",
    "![survey image](qualtrics.png)"
   ],
   "metadata": {}
  },
  {
   "cell_type": "code",
   "execution_count": null,
   "source": [
    "!wget -P \"$target_dir\" \"https://people.duke.edu/~jmp33/dibs/time_alloc.csv\" # download csv to data folder\n",
    "\n",
    "# if this doesn't work, manually download `time_alloc.csv` from https://people.duke.edu/~jmp33/dibs/ \n",
    "# to your local machine, and upload it to `data` folder"
   ],
   "outputs": [],
   "metadata": {}
  },
  {
   "cell_type": "code",
   "execution_count": 40,
   "source": [
    "dat = pd.read_csv('data/time_alloc.csv')"
   ],
   "outputs": [],
   "metadata": {
    "collapsed": true
   }
  },
  {
   "cell_type": "code",
   "execution_count": 41,
   "source": [
    "dat.head()"
   ],
   "outputs": [
    {
     "output_type": "execute_result",
     "data": {
      "text/plain": [
       "      Start Date       End Date  Progress  Duration (in seconds) Finished  \\\n",
       "0  8/30/16 10:41  8/30/16 10:43       100                     82     True   \n",
       "1   8/30/16 8:42   8/30/16 8:44       100                     99     True   \n",
       "2   8/30/16 4:47   8/30/16 4:51       100                    252     True   \n",
       "3  8/29/16 19:23  8/29/16 19:26       100                    161     True   \n",
       "4  8/29/16 18:13  8/29/16 18:15       100                    105     True   \n",
       "\n",
       "   Recorded Date        Response ID  Recipient Last Name  \\\n",
       "0  8/30/16 10:43  R_1kO0775KprWgA91                  NaN   \n",
       "1   8/30/16 8:44  R_2P4C0IepjotM86v                  NaN   \n",
       "2   8/30/16 4:51  R_6gGZesX5RTFq0Mh                  NaN   \n",
       "3  8/29/16 19:26  R_3iCkovXNWsaIlmc                  NaN   \n",
       "4  8/29/16 18:15  R_1I5jOg0c96ZUMsH                  NaN   \n",
       "\n",
       "   Recipient First Name  Recipient Email  External Reference  \\\n",
       "0                   NaN              NaN                 NaN   \n",
       "1                   NaN              NaN                 NaN   \n",
       "2                   NaN              NaN                 NaN   \n",
       "3                   NaN              NaN                 NaN   \n",
       "4                   NaN              NaN                 NaN   \n",
       "\n",
       "   LocationLatitude - Location Latitude  \\\n",
       "0                             35.995407   \n",
       "1                             52.516693   \n",
       "2                             52.516693   \n",
       "3                             35.946594   \n",
       "4                             35.995407   \n",
       "\n",
       "   LocationLongitude - Location Longitude  \\\n",
       "0                              -78.901901   \n",
       "1                               13.399994   \n",
       "2                               13.399994   \n",
       "3                              -78.797699   \n",
       "4                              -78.901901   \n",
       "\n",
       "  DistributionChannel - Distribution Channel  Q1_1 - Experimental design  \\\n",
       "0                                  anonymous                           5   \n",
       "1                                  anonymous                          12   \n",
       "2                                  anonymous                          11   \n",
       "3                                  anonymous                          20   \n",
       "4                                  anonymous                          40   \n",
       "\n",
       "   Q1_2 - Piloting  Q1_3 - Data collection  Q1_4 - Data analysis  \\\n",
       "0                5                      40                    30   \n",
       "1                4                      24                    38   \n",
       "2               10                       7                    59   \n",
       "3               10                      20                    20   \n",
       "4               25                      10                    10   \n",
       "\n",
       "   Q1_5 - Writing results  Q1_6 - Review process  \n",
       "0                      10                     10  \n",
       "1                      16                      6  \n",
       "2                      10                      3  \n",
       "3                      20                     10  \n",
       "4                      10                      5  "
      ],
      "text/html": [
       "<div>\n",
       "<table border=\"1\" class=\"dataframe\">\n",
       "  <thead>\n",
       "    <tr style=\"text-align: right;\">\n",
       "      <th></th>\n",
       "      <th>Start Date</th>\n",
       "      <th>End Date</th>\n",
       "      <th>Progress</th>\n",
       "      <th>Duration (in seconds)</th>\n",
       "      <th>Finished</th>\n",
       "      <th>Recorded Date</th>\n",
       "      <th>Response ID</th>\n",
       "      <th>Recipient Last Name</th>\n",
       "      <th>Recipient First Name</th>\n",
       "      <th>Recipient Email</th>\n",
       "      <th>External Reference</th>\n",
       "      <th>LocationLatitude - Location Latitude</th>\n",
       "      <th>LocationLongitude - Location Longitude</th>\n",
       "      <th>DistributionChannel - Distribution Channel</th>\n",
       "      <th>Q1_1 - Experimental design</th>\n",
       "      <th>Q1_2 - Piloting</th>\n",
       "      <th>Q1_3 - Data collection</th>\n",
       "      <th>Q1_4 - Data analysis</th>\n",
       "      <th>Q1_5 - Writing results</th>\n",
       "      <th>Q1_6 - Review process</th>\n",
       "    </tr>\n",
       "  </thead>\n",
       "  <tbody>\n",
       "    <tr>\n",
       "      <th>0</th>\n",
       "      <td>8/30/16 10:41</td>\n",
       "      <td>8/30/16 10:43</td>\n",
       "      <td>100</td>\n",
       "      <td>82</td>\n",
       "      <td>True</td>\n",
       "      <td>8/30/16 10:43</td>\n",
       "      <td>R_1kO0775KprWgA91</td>\n",
       "      <td>NaN</td>\n",
       "      <td>NaN</td>\n",
       "      <td>NaN</td>\n",
       "      <td>NaN</td>\n",
       "      <td>35.995407</td>\n",
       "      <td>-78.901901</td>\n",
       "      <td>anonymous</td>\n",
       "      <td>5</td>\n",
       "      <td>5</td>\n",
       "      <td>40</td>\n",
       "      <td>30</td>\n",
       "      <td>10</td>\n",
       "      <td>10</td>\n",
       "    </tr>\n",
       "    <tr>\n",
       "      <th>1</th>\n",
       "      <td>8/30/16 8:42</td>\n",
       "      <td>8/30/16 8:44</td>\n",
       "      <td>100</td>\n",
       "      <td>99</td>\n",
       "      <td>True</td>\n",
       "      <td>8/30/16 8:44</td>\n",
       "      <td>R_2P4C0IepjotM86v</td>\n",
       "      <td>NaN</td>\n",
       "      <td>NaN</td>\n",
       "      <td>NaN</td>\n",
       "      <td>NaN</td>\n",
       "      <td>52.516693</td>\n",
       "      <td>13.399994</td>\n",
       "      <td>anonymous</td>\n",
       "      <td>12</td>\n",
       "      <td>4</td>\n",
       "      <td>24</td>\n",
       "      <td>38</td>\n",
       "      <td>16</td>\n",
       "      <td>6</td>\n",
       "    </tr>\n",
       "    <tr>\n",
       "      <th>2</th>\n",
       "      <td>8/30/16 4:47</td>\n",
       "      <td>8/30/16 4:51</td>\n",
       "      <td>100</td>\n",
       "      <td>252</td>\n",
       "      <td>True</td>\n",
       "      <td>8/30/16 4:51</td>\n",
       "      <td>R_6gGZesX5RTFq0Mh</td>\n",
       "      <td>NaN</td>\n",
       "      <td>NaN</td>\n",
       "      <td>NaN</td>\n",
       "      <td>NaN</td>\n",
       "      <td>52.516693</td>\n",
       "      <td>13.399994</td>\n",
       "      <td>anonymous</td>\n",
       "      <td>11</td>\n",
       "      <td>10</td>\n",
       "      <td>7</td>\n",
       "      <td>59</td>\n",
       "      <td>10</td>\n",
       "      <td>3</td>\n",
       "    </tr>\n",
       "    <tr>\n",
       "      <th>3</th>\n",
       "      <td>8/29/16 19:23</td>\n",
       "      <td>8/29/16 19:26</td>\n",
       "      <td>100</td>\n",
       "      <td>161</td>\n",
       "      <td>True</td>\n",
       "      <td>8/29/16 19:26</td>\n",
       "      <td>R_3iCkovXNWsaIlmc</td>\n",
       "      <td>NaN</td>\n",
       "      <td>NaN</td>\n",
       "      <td>NaN</td>\n",
       "      <td>NaN</td>\n",
       "      <td>35.946594</td>\n",
       "      <td>-78.797699</td>\n",
       "      <td>anonymous</td>\n",
       "      <td>20</td>\n",
       "      <td>10</td>\n",
       "      <td>20</td>\n",
       "      <td>20</td>\n",
       "      <td>20</td>\n",
       "      <td>10</td>\n",
       "    </tr>\n",
       "    <tr>\n",
       "      <th>4</th>\n",
       "      <td>8/29/16 18:13</td>\n",
       "      <td>8/29/16 18:15</td>\n",
       "      <td>100</td>\n",
       "      <td>105</td>\n",
       "      <td>True</td>\n",
       "      <td>8/29/16 18:15</td>\n",
       "      <td>R_1I5jOg0c96ZUMsH</td>\n",
       "      <td>NaN</td>\n",
       "      <td>NaN</td>\n",
       "      <td>NaN</td>\n",
       "      <td>NaN</td>\n",
       "      <td>35.995407</td>\n",
       "      <td>-78.901901</td>\n",
       "      <td>anonymous</td>\n",
       "      <td>40</td>\n",
       "      <td>25</td>\n",
       "      <td>10</td>\n",
       "      <td>10</td>\n",
       "      <td>10</td>\n",
       "      <td>5</td>\n",
       "    </tr>\n",
       "  </tbody>\n",
       "</table>\n",
       "</div>"
      ]
     },
     "metadata": {},
     "execution_count": 41
    }
   ],
   "metadata": {
    "collapsed": false
   }
  },
  {
   "cell_type": "code",
   "execution_count": 42,
   "source": [
    "dat.columns"
   ],
   "outputs": [
    {
     "output_type": "execute_result",
     "data": {
      "text/plain": [
       "Index(['Start Date', 'End Date', 'Progress', 'Duration (in seconds)',\n",
       "       'Finished', 'Recorded Date', 'Response ID', 'Recipient Last Name',\n",
       "       'Recipient First Name', 'Recipient Email', 'External Reference',\n",
       "       'LocationLatitude - Location Latitude',\n",
       "       'LocationLongitude - Location Longitude',\n",
       "       'DistributionChannel - Distribution Channel',\n",
       "       'Q1_1 - Experimental design', 'Q1_2 - Piloting',\n",
       "       'Q1_3 - Data collection', 'Q1_4 - Data analysis',\n",
       "       'Q1_5 - Writing results', 'Q1_6 - Review process'],\n",
       "      dtype='object')"
      ]
     },
     "metadata": {},
     "execution_count": 42
    }
   ],
   "metadata": {
    "collapsed": false
   }
  },
  {
   "cell_type": "code",
   "execution_count": 43,
   "source": [
    "dat.shape"
   ],
   "outputs": [
    {
     "output_type": "execute_result",
     "data": {
      "text/plain": [
       "(96, 20)"
      ]
     },
     "metadata": {},
     "execution_count": 43
    }
   ],
   "metadata": {
    "collapsed": false
   }
  },
  {
   "cell_type": "markdown",
   "source": [
    "Let's just pull out the data we care about, the columns that start with ```'Q1_'```:"
   ],
   "metadata": {}
  },
  {
   "cell_type": "code",
   "execution_count": 44,
   "source": [
    "cols_to_extract = [c for c in dat.columns if 'Q1_' in c]\n",
    "print(cols_to_extract)"
   ],
   "outputs": [
    {
     "output_type": "stream",
     "name": "stdout",
     "text": [
      "['Q1_1 - Experimental design', 'Q1_2 - Piloting', 'Q1_3 - Data collection', 'Q1_4 - Data analysis', 'Q1_5 - Writing results', 'Q1_6 - Review process']\n"
     ]
    }
   ],
   "metadata": {
    "collapsed": false
   }
  },
  {
   "cell_type": "markdown",
   "source": [
    "Now we want to shorten the column names to just the descriptive part:"
   ],
   "metadata": {}
  },
  {
   "cell_type": "code",
   "execution_count": 45,
   "source": [
    "col_names = [n.split(' - ')[-1] for n in cols_to_extract]\n",
    "print(col_names)"
   ],
   "outputs": [
    {
     "output_type": "stream",
     "name": "stdout",
     "text": [
      "['Experimental design', 'Piloting', 'Data collection', 'Data analysis', 'Writing results', 'Review process']\n"
     ]
    }
   ],
   "metadata": {
    "collapsed": false
   }
  },
  {
   "cell_type": "markdown",
   "source": [
    "Finally, make a reduced dataset in which we drop the first row and get the columns we want. Set the column name to the \n",
    "description we extracted:"
   ],
   "metadata": {}
  },
  {
   "cell_type": "code",
   "execution_count": 46,
   "source": [
    "dat_red = dat[cols_to_extract]\n",
    "dat_red.columns = col_names\n",
    "dat_red.head()"
   ],
   "outputs": [
    {
     "output_type": "execute_result",
     "data": {
      "text/plain": [
       "   Experimental design  Piloting  Data collection  Data analysis  \\\n",
       "0                    5         5               40             30   \n",
       "1                   12         4               24             38   \n",
       "2                   11        10                7             59   \n",
       "3                   20        10               20             20   \n",
       "4                   40        25               10             10   \n",
       "\n",
       "   Writing results  Review process  \n",
       "0               10              10  \n",
       "1               16               6  \n",
       "2               10               3  \n",
       "3               20              10  \n",
       "4               10               5  "
      ],
      "text/html": [
       "<div>\n",
       "<table border=\"1\" class=\"dataframe\">\n",
       "  <thead>\n",
       "    <tr style=\"text-align: right;\">\n",
       "      <th></th>\n",
       "      <th>Experimental design</th>\n",
       "      <th>Piloting</th>\n",
       "      <th>Data collection</th>\n",
       "      <th>Data analysis</th>\n",
       "      <th>Writing results</th>\n",
       "      <th>Review process</th>\n",
       "    </tr>\n",
       "  </thead>\n",
       "  <tbody>\n",
       "    <tr>\n",
       "      <th>0</th>\n",
       "      <td>5</td>\n",
       "      <td>5</td>\n",
       "      <td>40</td>\n",
       "      <td>30</td>\n",
       "      <td>10</td>\n",
       "      <td>10</td>\n",
       "    </tr>\n",
       "    <tr>\n",
       "      <th>1</th>\n",
       "      <td>12</td>\n",
       "      <td>4</td>\n",
       "      <td>24</td>\n",
       "      <td>38</td>\n",
       "      <td>16</td>\n",
       "      <td>6</td>\n",
       "    </tr>\n",
       "    <tr>\n",
       "      <th>2</th>\n",
       "      <td>11</td>\n",
       "      <td>10</td>\n",
       "      <td>7</td>\n",
       "      <td>59</td>\n",
       "      <td>10</td>\n",
       "      <td>3</td>\n",
       "    </tr>\n",
       "    <tr>\n",
       "      <th>3</th>\n",
       "      <td>20</td>\n",
       "      <td>10</td>\n",
       "      <td>20</td>\n",
       "      <td>20</td>\n",
       "      <td>20</td>\n",
       "      <td>10</td>\n",
       "    </tr>\n",
       "    <tr>\n",
       "      <th>4</th>\n",
       "      <td>40</td>\n",
       "      <td>25</td>\n",
       "      <td>10</td>\n",
       "      <td>10</td>\n",
       "      <td>10</td>\n",
       "      <td>5</td>\n",
       "    </tr>\n",
       "  </tbody>\n",
       "</table>\n",
       "</div>"
      ]
     },
     "metadata": {},
     "execution_count": 46
    }
   ],
   "metadata": {
    "collapsed": false
   }
  },
  {
   "cell_type": "markdown",
   "source": [
    "Now, we can figure out the average percent time allocated to each aspect of a project:"
   ],
   "metadata": {}
  },
  {
   "cell_type": "code",
   "execution_count": 47,
   "source": [
    "dat_red.mean()"
   ],
   "outputs": [
    {
     "output_type": "execute_result",
     "data": {
      "text/plain": [
       "Experimental design    14.500000\n",
       "Piloting               10.729167\n",
       "Data collection        25.239583\n",
       "Data analysis          26.135417\n",
       "Writing results        14.197917\n",
       "Review process          9.197917\n",
       "dtype: float64"
      ]
     },
     "metadata": {},
     "execution_count": 47
    }
   ],
   "metadata": {
    "collapsed": false
   }
  },
  {
   "cell_type": "markdown",
   "source": [
    "And we can visualize this with a box plot:"
   ],
   "metadata": {}
  },
  {
   "cell_type": "code",
   "execution_count": 48,
   "source": [
    "import seaborn as sns"
   ],
   "outputs": [],
   "metadata": {
    "collapsed": true
   }
  },
  {
   "cell_type": "code",
   "execution_count": 49,
   "source": [
    "plt.figure(figsize=(10, 5))\n",
    "sns.boxplot(data=dat_red)"
   ],
   "outputs": [
    {
     "output_type": "execute_result",
     "data": {
      "text/plain": [
       "<matplotlib.axes._subplots.AxesSubplot at 0x11d190550>"
      ]
     },
     "metadata": {},
     "execution_count": 49
    },
    {
     "output_type": "display_data",
     "data": {
      "text/plain": [
       "<matplotlib.figure.Figure at 0x11d13aa20>"
      ],
      "image/png": "[encoded data removed]"
     },
     "metadata": {}
    }
   ],
   "metadata": {
    "collapsed": false
   }
  },
  {
   "cell_type": "code",
   "execution_count": 50,
   "source": [
    "plt.figure(figsize=(10, 5))\n",
    "sns.violinplot(data=dat_red)\n",
    "plt.ylim([0, 100])"
   ],
   "outputs": [
    {
     "output_type": "execute_result",
     "data": {
      "text/plain": [
       "(0, 100)"
      ]
     },
     "metadata": {},
     "execution_count": 50
    },
    {
     "output_type": "display_data",
     "data": {
      "text/plain": [
       "<matplotlib.figure.Figure at 0x11d13a860>"
      ],
      "image/png": "[encoded data removed]"
     },
     "metadata": {}
    }
   ],
   "metadata": {
    "collapsed": false
   }
  },
  {
   "cell_type": "markdown",
   "source": [
    "And we might want to know how these covary (bearing in mind that the values have to sum to 100):"
   ],
   "metadata": {}
  },
  {
   "cell_type": "code",
   "execution_count": 51,
   "source": [
    "dat_red.corr()"
   ],
   "outputs": [
    {
     "output_type": "execute_result",
     "data": {
      "text/plain": [
       "                     Experimental design  Piloting  Data collection  \\\n",
       "Experimental design             1.000000 -0.057772        -0.394450   \n",
       "Piloting                       -0.057772  1.000000        -0.116101   \n",
       "Data collection                -0.394450 -0.116101         1.000000   \n",
       "Data analysis                  -0.418189 -0.062659        -0.181762   \n",
       "Writing results                -0.149596 -0.332602        -0.395939   \n",
       "Review process                 -0.007290 -0.215466        -0.344578   \n",
       "\n",
       "                     Data analysis  Writing results  Review process  \n",
       "Experimental design      -0.418189        -0.149596       -0.007290  \n",
       "Piloting                 -0.062659        -0.332602       -0.215466  \n",
       "Data collection          -0.181762        -0.395939       -0.344578  \n",
       "Data analysis             1.000000        -0.146576       -0.340260  \n",
       "Writing results          -0.146576         1.000000        0.375177  \n",
       "Review process           -0.340260         0.375177        1.000000  "
      ],
      "text/html": [
       "<div>\n",
       "<table border=\"1\" class=\"dataframe\">\n",
       "  <thead>\n",
       "    <tr style=\"text-align: right;\">\n",
       "      <th></th>\n",
       "      <th>Experimental design</th>\n",
       "      <th>Piloting</th>\n",
       "      <th>Data collection</th>\n",
       "      <th>Data analysis</th>\n",
       "      <th>Writing results</th>\n",
       "      <th>Review process</th>\n",
       "    </tr>\n",
       "  </thead>\n",
       "  <tbody>\n",
       "    <tr>\n",
       "      <th>Experimental design</th>\n",
       "      <td>1.000000</td>\n",
       "      <td>-0.057772</td>\n",
       "      <td>-0.394450</td>\n",
       "      <td>-0.418189</td>\n",
       "      <td>-0.149596</td>\n",
       "      <td>-0.007290</td>\n",
       "    </tr>\n",
       "    <tr>\n",
       "      <th>Piloting</th>\n",
       "      <td>-0.057772</td>\n",
       "      <td>1.000000</td>\n",
       "      <td>-0.116101</td>\n",
       "      <td>-0.062659</td>\n",
       "      <td>-0.332602</td>\n",
       "      <td>-0.215466</td>\n",
       "    </tr>\n",
       "    <tr>\n",
       "      <th>Data collection</th>\n",
       "      <td>-0.394450</td>\n",
       "      <td>-0.116101</td>\n",
       "      <td>1.000000</td>\n",
       "      <td>-0.181762</td>\n",
       "      <td>-0.395939</td>\n",
       "      <td>-0.344578</td>\n",
       "    </tr>\n",
       "    <tr>\n",
       "      <th>Data analysis</th>\n",
       "      <td>-0.418189</td>\n",
       "      <td>-0.062659</td>\n",
       "      <td>-0.181762</td>\n",
       "      <td>1.000000</td>\n",
       "      <td>-0.146576</td>\n",
       "      <td>-0.340260</td>\n",
       "    </tr>\n",
       "    <tr>\n",
       "      <th>Writing results</th>\n",
       "      <td>-0.149596</td>\n",
       "      <td>-0.332602</td>\n",
       "      <td>-0.395939</td>\n",
       "      <td>-0.146576</td>\n",
       "      <td>1.000000</td>\n",
       "      <td>0.375177</td>\n",
       "    </tr>\n",
       "    <tr>\n",
       "      <th>Review process</th>\n",
       "      <td>-0.007290</td>\n",
       "      <td>-0.215466</td>\n",
       "      <td>-0.344578</td>\n",
       "      <td>-0.340260</td>\n",
       "      <td>0.375177</td>\n",
       "      <td>1.000000</td>\n",
       "    </tr>\n",
       "  </tbody>\n",
       "</table>\n",
       "</div>"
      ]
     },
     "metadata": {},
     "execution_count": 51
    }
   ],
   "metadata": {
    "collapsed": false
   }
  }
 ],
 "metadata": {
  "anaconda-cloud": {},
  "kernelspec": {
   "display_name": "Python [Root]",
   "language": "python",
   "name": "Python [Root]"
  },
  "language_info": {
   "codemirror_mode": {
    "name": "ipython",
    "version": 3
   },
   "file_extension": ".py",
   "mimetype": "text/x-python",
   "name": "python",
   "nbconvert_exporter": "python",
   "pygments_lexer": "ipython3",
   "version": "3.5.2"
  }
 },
 "nbformat": 4,
 "nbformat_minor": 2
}