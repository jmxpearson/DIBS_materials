{
 "metadata": {
  "name": "",
  "signature": "sha256:4d29c4d469a52c90d34879f4f83e31eea5d22f60f53eb0253e77d8e607fbf748"
 },
 "nbformat": 3,
 "nbformat_minor": 0,
 "worksheets": [
  {
   "cells": [
    {
     "cell_type": "heading",
     "level": 1,
     "metadata": {},
     "source": [
      "Basic Programming in Python:"
     ]
    },
    {
     "cell_type": "markdown",
     "metadata": {},
     "source": [
      "Up to now, most of our effort has been spent on using specialized packages like NumPy and Pandas, but at some point, you will need to do something those packages don't make particularly easy. Even when doing simple things, you will need to speak some basic Python. \n",
      "\n",
      "Today, we're going to cover the basics of data types in Python and use simple programming structures to repeat an analysis on multiple data sets. Lastly, we will learn about refactoring our code to make it easier to read and more reusable."
     ]
    },
    {
     "cell_type": "markdown",
     "metadata": {},
     "source": [
      "To illustrate these features, we'll be examining data from a comparative study of cognitive ability between macaques and lemurs [link](https://www.researchgate.net/publication/257075016_Lemurs_and_macaques_show_similar_numerical_sensitivity). Data are available [here](http://www.duke.edu/~jmp33/dibs/primates.tar.gz). We will assume that these data live in a directory ```data/primates``` inside the working directory."
     ]
    },
    {
     "cell_type": "heading",
     "level": 1,
     "metadata": {},
     "source": [
      "Part 1: The Python data Model:"
     ]
    },
    {
     "cell_type": "heading",
     "level": 2,
     "metadata": {},
     "source": [
      "Quick review:"
     ]
    },
    {
     "cell_type": "markdown",
     "metadata": {},
     "source": [
      "We've already worked with a few types of data in Python:\n",
      "\n",
      "- Pandas data frames are like spreadsheets\n",
      "    - they have named rows and columns\n",
      "    - they can contain data of different types\n",
      "    - they have lots of high-level methods for aggregating, analyzing, and plotting data\n",
      "- NumPy arrays are for efficiently storing lots of data of the same type\n",
      "    - can be more than 2d (remember the MRI image)\n",
      "    - all data must be of the same type\n",
      "    - can use advanced indexing/slicing methods to get subset of data\n",
      "    - fast numerical computations\n",
      "- lists are for general ordered collections\n",
      "    - a list of objects of any type\n",
      "    - can add or delete elements\n",
      "    - elements are ordered starting from 0\n",
      "    - use the square bracket (```[ ]```) notation both to make a list and retrieve elements\n",
      "    "
     ]
    },
    {
     "cell_type": "heading",
     "level": 2,
     "metadata": {},
     "source": [
      "Other data types:"
     ]
    },
    {
     "cell_type": "markdown",
     "metadata": {},
     "source": [
      "In addition to these, there are lots of other types of variables in Python. In fact, you can even define your own!\n",
      "\n",
      "One of the key features of Python, is that lots of different types of variables behave similarly. So learning a few key types of commands will carry us a long way."
     ]
    },
    {
     "cell_type": "heading",
     "level": 3,
     "metadata": {},
     "source": [
      "Tuples"
     ]
    },
    {
     "cell_type": "markdown",
     "metadata": {},
     "source": [
      "For example, let's take a look at **tuples**, which look a lot like lists without the square brackets:"
     ]
    },
    {
     "cell_type": "code",
     "collapsed": false,
     "input": [
      "mylist = ['a', 'b', 'c', 'd', 'e']\n",
      "mytup = 'a', 'b', 'c', 'd', 'e'\n",
      "\n",
      "print mylist\n",
      "print mytup"
     ],
     "language": "python",
     "metadata": {},
     "outputs": [
      {
       "output_type": "stream",
       "stream": "stdout",
       "text": [
        "['a', 'b', 'c', 'd', 'e']\n",
        "('a', 'b', 'c', 'd', 'e')\n"
       ]
      }
     ],
     "prompt_number": 2
    },
    {
     "cell_type": "markdown",
     "metadata": {},
     "source": [
      "You can see that tuples are printed with parentheses, which are not required, but make the syntax easier to read. In fact, we will often define tuples this way:"
     ]
    },
    {
     "cell_type": "code",
     "collapsed": false,
     "input": [
      "another_tup = (1, 2, 3)\n",
      "one_element_tuple = 'a',\n",
      "\n",
      "print another_tup\n",
      "print one_element_tuple"
     ],
     "language": "python",
     "metadata": {},
     "outputs": [
      {
       "output_type": "stream",
       "stream": "stdout",
       "text": [
        "(1, 2, 3)\n",
        "('a',)\n"
       ]
      }
     ],
     "prompt_number": 4
    },
    {
     "cell_type": "markdown",
     "metadata": {},
     "source": [
      "Lists and tuples behave a lot alike:"
     ]
    },
    {
     "cell_type": "code",
     "collapsed": false,
     "input": [
      "print len(mylist)\n",
      "print len(mytup)"
     ],
     "language": "python",
     "metadata": {},
     "outputs": [
      {
       "output_type": "stream",
       "stream": "stdout",
       "text": [
        "5\n",
        "5\n"
       ]
      }
     ],
     "prompt_number": 7
    },
    {
     "cell_type": "code",
     "collapsed": false,
     "input": [
      "print mylist[1]\n",
      "print mytup[1]\n",
      "\n",
      "mylist[1] == mytup[1]"
     ],
     "language": "python",
     "metadata": {},
     "outputs": [
      {
       "output_type": "stream",
       "stream": "stdout",
       "text": [
        "b\n",
        "b\n"
       ]
      },
      {
       "metadata": {},
       "output_type": "pyout",
       "prompt_number": 5,
       "text": [
        "True"
       ]
      }
     ],
     "prompt_number": 5
    },
    {
     "cell_type": "code",
     "collapsed": false,
     "input": [
      "print mylist[2:]\n",
      "print mytup[2:]"
     ],
     "language": "python",
     "metadata": {},
     "outputs": [
      {
       "output_type": "stream",
       "stream": "stdout",
       "text": [
        "['c', 'd', 'e']\n",
        "('c', 'd', 'e')\n"
       ]
      }
     ],
     "prompt_number": 6
    },
    {
     "cell_type": "markdown",
     "metadata": {},
     "source": [
      "But there is one important way in which tuples and lists differ: **tuples are immutable**. This means that you cannot add to, delete from, or change a tuple. Once created, its contents cannot be altered."
     ]
    },
    {
     "cell_type": "code",
     "collapsed": false,
     "input": [
      "mylist[-1] = 'egg'\n",
      "print mylist\n",
      "\n",
      "mytup[-1] = 'egg'\n",
      "print mytup"
     ],
     "language": "python",
     "metadata": {},
     "outputs": [
      {
       "output_type": "stream",
       "stream": "stdout",
       "text": [
        "['a', 'b', 'c', 'd', 'egg']\n"
       ]
      },
      {
       "ename": "TypeError",
       "evalue": "'tuple' object does not support item assignment",
       "output_type": "pyerr",
       "traceback": [
        "\u001b[0;31m---------------------------------------------------------------------------\u001b[0m\n\u001b[0;31mTypeError\u001b[0m                                 Traceback (most recent call last)",
        "\u001b[0;32m<ipython-input-8-23b998ebd353>\u001b[0m in \u001b[0;36m<module>\u001b[0;34m()\u001b[0m\n\u001b[1;32m      2\u001b[0m \u001b[0;32mprint\u001b[0m \u001b[0mmylist\u001b[0m\u001b[0;34m\u001b[0m\u001b[0m\n\u001b[1;32m      3\u001b[0m \u001b[0;34m\u001b[0m\u001b[0m\n\u001b[0;32m----> 4\u001b[0;31m \u001b[0mmytup\u001b[0m\u001b[0;34m[\u001b[0m\u001b[0;34m-\u001b[0m\u001b[0;36m1\u001b[0m\u001b[0;34m]\u001b[0m \u001b[0;34m=\u001b[0m \u001b[0;34m'egg'\u001b[0m\u001b[0;34m\u001b[0m\u001b[0m\n\u001b[0m\u001b[1;32m      5\u001b[0m \u001b[0;32mprint\u001b[0m \u001b[0mmytup\u001b[0m\u001b[0;34m\u001b[0m\u001b[0m\n",
        "\u001b[0;31mTypeError\u001b[0m: 'tuple' object does not support item assignment"
       ]
      }
     ],
     "prompt_number": 8
    },
    {
     "cell_type": "markdown",
     "metadata": {},
     "source": [
      "Among other things, this means that tuples cannot be sorted or reversed, though using the ```+``` operator still works, since it creates a new tuple:"
     ]
    },
    {
     "cell_type": "code",
     "collapsed": false,
     "input": [
      "print mylist + ['f', 'g', 'h']\n",
      "print mytup + ['f', 'g', 'h']"
     ],
     "language": "python",
     "metadata": {},
     "outputs": [
      {
       "output_type": "stream",
       "stream": "stdout",
       "text": [
        "['a', 'b', 'c', 'd', 'egg', 'f', 'g', 'h']\n"
       ]
      },
      {
       "ename": "TypeError",
       "evalue": "can only concatenate tuple (not \"list\") to tuple",
       "output_type": "pyerr",
       "traceback": [
        "\u001b[0;31m---------------------------------------------------------------------------\u001b[0m\n\u001b[0;31mTypeError\u001b[0m                                 Traceback (most recent call last)",
        "\u001b[0;32m<ipython-input-10-4ff5ed7c9f1d>\u001b[0m in \u001b[0;36m<module>\u001b[0;34m()\u001b[0m\n\u001b[1;32m      1\u001b[0m \u001b[0;32mprint\u001b[0m \u001b[0mmylist\u001b[0m \u001b[0;34m+\u001b[0m \u001b[0;34m[\u001b[0m\u001b[0;34m'f'\u001b[0m\u001b[0;34m,\u001b[0m \u001b[0;34m'g'\u001b[0m\u001b[0;34m,\u001b[0m \u001b[0;34m'h'\u001b[0m\u001b[0;34m]\u001b[0m\u001b[0;34m\u001b[0m\u001b[0m\n\u001b[0;32m----> 2\u001b[0;31m \u001b[0;32mprint\u001b[0m \u001b[0mmytup\u001b[0m \u001b[0;34m+\u001b[0m \u001b[0;34m[\u001b[0m\u001b[0;34m'f'\u001b[0m\u001b[0;34m,\u001b[0m \u001b[0;34m'g'\u001b[0m\u001b[0;34m,\u001b[0m \u001b[0;34m'h'\u001b[0m\u001b[0;34m]\u001b[0m\u001b[0;34m\u001b[0m\u001b[0m\n\u001b[0m",
        "\u001b[0;31mTypeError\u001b[0m: can only concatenate tuple (not \"list\") to tuple"
       ]
      }
     ],
     "prompt_number": 10
    },
    {
     "cell_type": "markdown",
     "metadata": {},
     "source": [
      "Of course, we can't add lists and tuples! Python wouldn't know what we wanted the result to be. But since lists and tuples are so similar, we can convert them to one another using their *constructors*:"
     ]
    },
    {
     "cell_type": "code",
     "collapsed": false,
     "input": [
      "print list(mytup)\n",
      "print tuple(mylist)\n",
      "\n",
      "print mytup + tuple(['f', 'g', 'h'])"
     ],
     "language": "python",
     "metadata": {},
     "outputs": [
      {
       "output_type": "stream",
       "stream": "stdout",
       "text": [
        "['a', 'b', 'c', 'd', 'e']\n",
        "('a', 'b', 'c', 'd', 'egg')\n",
        "('a', 'b', 'c', 'd', 'e', 'f', 'g', 'h')\n"
       ]
      }
     ],
     "prompt_number": 11
    },
    {
     "cell_type": "markdown",
     "metadata": {},
     "source": [
      "This will often be handy when we have some type of data that are a *sequence* (an ordered collection that we can iterate over (more on that below))."
     ]
    },
    {
     "cell_type": "heading",
     "level": 3,
     "metadata": {},
     "source": [
      "Strings"
     ]
    },
    {
     "cell_type": "markdown",
     "metadata": {},
     "source": [
      "Believe it or not, strings are also sequences in Python. They are a lot like both lists and tuples:"
     ]
    },
    {
     "cell_type": "code",
     "collapsed": false,
     "input": [
      "mystr = 'like a sir'\n",
      "print mystr"
     ],
     "language": "python",
     "metadata": {},
     "outputs": [
      {
       "output_type": "stream",
       "stream": "stdout",
       "text": [
        "like a sir\n"
       ]
      }
     ],
     "prompt_number": 12
    },
    {
     "cell_type": "code",
     "collapsed": false,
     "input": [
      "print mystr[5:]\n",
      "print list(mystr)"
     ],
     "language": "python",
     "metadata": {},
     "outputs": [
      {
       "output_type": "stream",
       "stream": "stdout",
       "text": [
        "a sir\n",
        "['l', 'i', 'k', 'e', ' ', 'a', ' ', 's', 'i', 'r']\n",
        "('a', 'b', 'c', 'd', 'e')\n"
       ]
      }
     ],
     "prompt_number": 30
    },
    {
     "cell_type": "markdown",
     "metadata": {},
     "source": [
      "In fact, we can think of a string as just like a list or tuple with some special functions attached that are particularly useful for strings:"
     ]
    },
    {
     "cell_type": "code",
     "collapsed": false,
     "input": [
      "print mystr.upper()\n",
      "print mystr.capitalize()\n",
      "print mystr.split(' ')  # that is, split the string on the spaces"
     ],
     "language": "python",
     "metadata": {},
     "outputs": [
      {
       "output_type": "stream",
       "stream": "stdout",
       "text": [
        "LIKE A SIR\n",
        "Like a sir\n",
        "['like', 'a', 'sir']\n"
       ]
      }
     ],
     "prompt_number": 20
    },
    {
     "cell_type": "markdown",
     "metadata": {},
     "source": [
      "But strings, like tuples, are immutable."
     ]
    },
    {
     "cell_type": "code",
     "collapsed": false,
     "input": [
      "mystr[-1] = 'n'"
     ],
     "language": "python",
     "metadata": {},
     "outputs": [
      {
       "ename": "TypeError",
       "evalue": "'str' object does not support item assignment",
       "output_type": "pyerr",
       "traceback": [
        "\u001b[0;31m---------------------------------------------------------------------------\u001b[0m\n\u001b[0;31mTypeError\u001b[0m                                 Traceback (most recent call last)",
        "\u001b[0;32m<ipython-input-23-a15f651a537d>\u001b[0m in \u001b[0;36m<module>\u001b[0;34m()\u001b[0m\n\u001b[0;32m----> 1\u001b[0;31m \u001b[0mmystr\u001b[0m\u001b[0;34m[\u001b[0m\u001b[0;34m-\u001b[0m\u001b[0;36m1\u001b[0m\u001b[0;34m]\u001b[0m \u001b[0;34m=\u001b[0m \u001b[0;34m'n'\u001b[0m\u001b[0;34m\u001b[0m\u001b[0m\n\u001b[0m",
        "\u001b[0;31mTypeError\u001b[0m: 'str' object does not support item assignment"
       ]
      }
     ],
     "prompt_number": 23
    },
    {
     "cell_type": "markdown",
     "metadata": {},
     "source": [
      "Even so, operations like reversing and sorting are supported (they just return a new string, leaving the old alone):"
     ]
    },
    {
     "cell_type": "code",
     "collapsed": false,
     "input": [
      "print mystr[::-1]\n",
      "print sorted(mystr)\n",
      "print ''.join(sorted(mystr))"
     ],
     "language": "python",
     "metadata": {},
     "outputs": [
      {
       "output_type": "stream",
       "stream": "stdout",
       "text": [
        "ris a ekil\n",
        "[' ', ' ', 'a', 'e', 'i', 'i', 'k', 'l', 'r', 's']\n",
        "  aeiiklrs\n"
       ]
      }
     ],
     "prompt_number": 32
    },
    {
     "cell_type": "markdown",
     "metadata": {},
     "source": [
      "*Digression*: If the ```join``` syntax looks funky to you, you're not alone. We might like to write\n",
      "\n",
      "~~~python\n",
      "print sorted(mystr).join('')\n",
      "~~~\n",
      "\n",
      "meaning we want to join the elements of the list with no space in between, but remember that we called \n",
      "\n",
      "~~~python\n",
      "mystr.split(' ')\n",
      "~~~\n",
      "\n",
      "and since ```split``` a thing we do to strings, ```join``` must be a thing we do to strings, not lists. As a result, the pattern for merging a list of strings is to call ```join``` on the string we want *in between* the elements of the list:"
     ]
    },
    {
     "cell_type": "code",
     "collapsed": false,
     "input": [
      "print '-'.join(['trick', 'or', 'treaters'])"
     ],
     "language": "python",
     "metadata": {},
     "outputs": [
      {
       "output_type": "stream",
       "stream": "stdout",
       "text": [
        "trick-or-treaters\n"
       ]
      }
     ],
     "prompt_number": 33
    },
    {
     "cell_type": "markdown",
     "metadata": {},
     "source": [
      "Go figure."
     ]
    },
    {
     "cell_type": "heading",
     "level": 3,
     "metadata": {},
     "source": [
      "Dictionaries"
     ]
    },
    {
     "cell_type": "markdown",
     "metadata": {},
     "source": [
      "There are times when we might want to store a collection of variables together, but there is no natural ordering for the variables. For instance, a row in a data frame might be converted to a list, but it would be more helpful to have the column name associated with each variable than to get the entries in any particular order. We would much prefer to get the value by the column name than by an index.\n",
      "\n",
      "This concept of storing not just values (as in a list or tuple), but as key-value *pairs* is realized by the Python dictionary variable type. Dictionaries in Python are the basis for objects, and so they are very efficient. As opposed to lists, **dicts** use curly braces:"
     ]
    },
    {
     "cell_type": "code",
     "collapsed": false,
     "input": [
      "mydict = {'a': 5, 'b': 7}\n",
      "print mydict"
     ],
     "language": "python",
     "metadata": {},
     "outputs": [
      {
       "output_type": "stream",
       "stream": "stdout",
       "text": [
        "{'a': 5, 'b': 7}\n"
       ]
      }
     ],
     "prompt_number": 34
    },
    {
     "cell_type": "markdown",
     "metadata": {},
     "source": [
      "Unlike lists or tuples, we get elements from a dictionary by providing a *key*, which returns the corresponding *value*:"
     ]
    },
    {
     "cell_type": "code",
     "collapsed": false,
     "input": [
      "print mydict['a']\n",
      "print mydict['b']"
     ],
     "language": "python",
     "metadata": {},
     "outputs": [
      {
       "output_type": "stream",
       "stream": "stdout",
       "text": [
        "5\n",
        "7\n"
       ]
      }
     ],
     "prompt_number": 35
    },
    {
     "cell_type": "markdown",
     "metadata": {},
     "source": [
      "Like lists, we can add to dictionaries. A dictionary key can be any object that cannot change (technically it must be \"hashable\"), and its corresponding value can be anything:"
     ]
    },
    {
     "cell_type": "code",
     "collapsed": false,
     "input": [
      "# we can add a key, value pair \n",
      "mydict[101] = ['a', 0.1, [4, 5, 7]]\n",
      "mydict[(1, 2)] = 10\n",
      "print mydict\n",
      "print len(mydict)"
     ],
     "language": "python",
     "metadata": {},
     "outputs": [
      {
       "output_type": "stream",
       "stream": "stdout",
       "text": [
        "{'a': 5, (1, 2): 10, 'b': 7, 101: ['a', 0.1, [4, 5, 7]]}\n",
        "4\n"
       ]
      }
     ],
     "prompt_number": 43
    },
    {
     "cell_type": "markdown",
     "metadata": {},
     "source": [
      "And because dicts are key, value pairs, we can make dicts from a tuple or list of 2-tuples:"
     ]
    },
    {
     "cell_type": "code",
     "collapsed": false,
     "input": [
      "print dict([('a', 0), ('b', 1), ('last', 'foo')])"
     ],
     "language": "python",
     "metadata": {},
     "outputs": [
      {
       "output_type": "stream",
       "stream": "stdout",
       "text": [
        "{'a': 0, 'b': 1, 'last': 'foo'}\n"
       ]
      }
     ],
     "prompt_number": 42
    },
    {
     "cell_type": "markdown",
     "metadata": {},
     "source": [
      "### However:\n",
      "- **Dicts are not ordered**\n",
      "- as a result, dicts can't be sliced, and we can't get an element by index\n",
      "- we can iterate over a dict (see below), but there are no guarantees about which keys come first or last"
     ]
    },
    {
     "cell_type": "heading",
     "level": 2,
     "metadata": {},
     "source": [
      "Containers and Iteration"
     ]
    },
    {
     "cell_type": "markdown",
     "metadata": {},
     "source": [
      "Among the most important commonalities that lists, strings, tuples, and dicts all have (and share with data frames and numpy arrays) are *containment* and *iteration*. This is one of the best examples of how very different data types in Python can behave very similarly, lessening our need to learn unique syntax for every type of data. "
     ]
    },
    {
     "cell_type": "markdown",
     "metadata": {},
     "source": [
      "### Containment\n",
      "In Python, we can check whether an element is in a collection with the ```in``` keyword:"
     ]
    },
    {
     "cell_type": "code",
     "collapsed": false,
     "input": [
      "print mytup\n",
      "print mylist\n",
      "print mystr\n",
      "print mydict"
     ],
     "language": "python",
     "metadata": {},
     "outputs": [
      {
       "output_type": "stream",
       "stream": "stdout",
       "text": [
        "('a', 'b', 'c', 'd', 'e')\n",
        "['a', 'b', 'c', 'd', 'egg']\n",
        "like a sir\n",
        "{'a': 5, (1, 2): 10, 'b': 7, 101: ['a', 0.1, [4, 5, 7]]}\n"
       ]
      }
     ],
     "prompt_number": 45
    },
    {
     "cell_type": "code",
     "collapsed": false,
     "input": [
      "print 'b' in mytup\n",
      "print 'egg' in mylist\n",
      "print 'sir' in mystr\n",
      "print 'ik' in mystr\n",
      "print 101 in mydict\n",
      "print 'a' in mydict"
     ],
     "language": "python",
     "metadata": {},
     "outputs": [
      {
       "output_type": "stream",
       "stream": "stdout",
       "text": [
        "True\n",
        "True\n",
        "True\n",
        "True\n",
        "True\n",
        "True\n"
       ]
      }
     ],
     "prompt_number": 50
    },
    {
     "cell_type": "markdown",
     "metadata": {},
     "source": [
      "Note that for dicts, containment checks for *keys* not values. That is, we can find out whether an entry is in the dictionary, but not its value."
     ]
    },
    {
     "cell_type": "markdown",
     "metadata": {},
     "source": [
      "### Iteration\n",
      "\n",
      "In many cases, we want to perform some logic for every element in a collection. To do so, we need a way of stepping through that collection, looking at one element at a time. In Python, this is done with the ```for``` keyword:"
     ]
    },
    {
     "cell_type": "code",
     "collapsed": false,
     "input": [
      "for elem in mylist:   # note: this line must end in a colon\n",
      "    print elem        # this line must be indented"
     ],
     "language": "python",
     "metadata": {},
     "outputs": [
      {
       "output_type": "stream",
       "stream": "stdout",
       "text": [
        "a\n",
        "b\n",
        "c\n",
        "d\n",
        "egg\n"
       ]
      }
     ],
     "prompt_number": 51
    },
    {
     "cell_type": "code",
     "collapsed": false,
     "input": [
      "for char in mystr:    # char is the variable name we give to each element as we step through\n",
      "    print char + '-letter'"
     ],
     "language": "python",
     "metadata": {},
     "outputs": [
      {
       "output_type": "stream",
       "stream": "stdout",
       "text": [
        "l-letter\n",
        "i-letter\n",
        "k-letter\n",
        "e-letter\n",
        " -letter\n",
        "a-letter\n",
        " -letter\n",
        "s-letter\n",
        "i-letter\n",
        "r-letter\n"
       ]
      }
     ],
     "prompt_number": 52
    },
    {
     "cell_type": "code",
     "collapsed": false,
     "input": [
      "for key in mydict:       # note: iterating over a dict gives us keys\n",
      "    print mydict[key]    # every indented line gets repeated\n",
      "    print '--------'\n",
      "print len(mydict)        # this line is not indented, so doesn't get repeated"
     ],
     "language": "python",
     "metadata": {},
     "outputs": [
      {
       "output_type": "stream",
       "stream": "stdout",
       "text": [
        "5\n",
        "--------\n",
        "10\n",
        "--------\n",
        "7\n",
        "--------\n",
        "['a', 0.1, [4, 5, 7]]\n",
        "--------\n",
        "4\n"
       ]
      }
     ],
     "prompt_number": 55
    },
    {
     "cell_type": "markdown",
     "metadata": {},
     "source": [
      "Almost every data structure in Python can be iterated over, and the ability to do this will allow us to repeat a block of code for each element of a collection. This ability to build code that works for a single element of a collection and easily repeat it is part of the essence of programming."
     ]
    },
    {
     "cell_type": "heading",
     "level": 2,
     "metadata": {},
     "source": [
      "Using Logic:"
     ]
    },
    {
     "cell_type": "markdown",
     "metadata": {},
     "source": [
      "It's pretty typical that we might want to decide whether or not to run a block of code based on some logical condition. The most basic conditional in Python is the ```if``` statement:"
     ]
    },
    {
     "cell_type": "code",
     "collapsed": false,
     "input": [
      "if len(mylist) > 2:\n",
      "    print mylist[2]"
     ],
     "language": "python",
     "metadata": {},
     "outputs": [
      {
       "output_type": "stream",
       "stream": "stdout",
       "text": [
        "c\n"
       ]
      }
     ],
     "prompt_number": 56
    },
    {
     "cell_type": "code",
     "collapsed": false,
     "input": [
      "testvar = mytup\n",
      "\n",
      "if isinstance(testvar, list):\n",
      "    print \"variable is a list\"\n",
      "elif isinstance(testvar, tuple):\n",
      "    print \"variable is a tuple\"\n",
      "else:\n",
      "    print \"variable is neither list nor tuple\""
     ],
     "language": "python",
     "metadata": {},
     "outputs": [
      {
       "output_type": "stream",
       "stream": "stdout",
       "text": [
        "variable is a tuple\n"
       ]
      }
     ],
     "prompt_number": 65
    },
    {
     "cell_type": "markdown",
     "metadata": {},
     "source": [
      "And we can combine conditions with logical operations:"
     ]
    },
    {
     "cell_type": "code",
     "collapsed": false,
     "input": [
      "sentence = 'it was the best of times, it was the worst of times'.split(' ')\n",
      "print sentence\n",
      "\n",
      "for word in sentence:\n",
      "    firstletter = word[0]\n",
      "    if firstletter in vowels or (len(word) > 4):\n",
      "        print word.upper()"
     ],
     "language": "python",
     "metadata": {},
     "outputs": [
      {
       "output_type": "stream",
       "stream": "stdout",
       "text": [
        "['it', 'was', 'the', 'best', 'of', 'times,', 'it', 'was', 'the', 'worst', 'of', 'times']\n",
        "IT\n",
        "OF\n",
        "TIMES,\n",
        "IT\n",
        "WORST\n",
        "OF\n",
        "TIMES\n"
       ]
      }
     ],
     "prompt_number": 71
    },
    {
     "cell_type": "heading",
     "level": 1,
     "metadata": {},
     "source": [
      "Things you should understand about Python:"
     ]
    },
    {
     "cell_type": "markdown",
     "metadata": {},
     "source": [
      "some things the students should understand by the end of class:\n",
      "\n",
      "## Part 1: the Python data model\n",
      "\n",
      "- variables in python are like sticky notes in memory\n",
      "- data come in a variety of types in python\n",
      "    - lists\n",
      "    - dicts\n",
      "    - tuples\n",
      "    - strings\n",
      "    - numpy arrays\n",
      "    - pandas dataframes\n",
      "- lots of data types behave similarly:\n",
      "    - len\n",
      "    - arithmetic (concatenation for strings)\n",
      "    - equality vs identity (```==``` vs ```is```)\n",
      "    - truthiness\n",
      "    - ```__contains__```\n",
      "    - ```__getitem__``` (i.e., collections)\n",
      "    - sequence (slicing)\n",
      "    - iteration\n",
      "- example: \n",
      "    - should use iteration to load data, analyze, and plot on an axis\n",
      "    - should need some logic (```if``` and ```and```)\n",
      "    - should be able to be built up\n",
      "    \n",
      "## Part 2: making your code make sense\n",
      "\n",
      "Goals:\n",
      "- to encapsulate behavior into functions\n",
      "- to put these functions into a module we can load\n",
      "- to illustrate the transition from interactive notebook work to reusable code\n",
      "\n",
      "### Desiderata:\n",
      "- function to load and munge data\n",
      "    - illustrate input variables, indentation, and return\n",
      "        - a function is a named code block with inputs and output\n",
      "        - illustrate giving a meaningful name to a function\n",
      "        - illustrate scope\n",
      "- function to do analysis 1 on data\n",
      "    - keywords and defaults\n",
      "    - returning tuples?\n",
      "- function 3?\n",
      "    - args and kwargs?\n",
      "    - function we wrote that calls another function we wrote?\n",
      "- **all function examples should be short and simple!!!**    \n",
      "    \n",
      "- loading and using our module"
     ]
    },
    {
     "cell_type": "code",
     "collapsed": false,
     "input": [],
     "language": "python",
     "metadata": {},
     "outputs": []
    }
   ],
   "metadata": {}
  }
 ]
}