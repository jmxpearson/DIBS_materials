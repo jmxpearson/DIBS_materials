{
 "metadata": {
  "name": "",
  "signature": "sha256:4df71bc887128b5d94cda6f8e0c4267fc139d5f5c9df51da422f04a475725e05"
 },
 "nbformat": 3,
 "nbformat_minor": 0,
 "worksheets": [
  {
   "cells": [
    {
     "cell_type": "heading",
     "level": 1,
     "metadata": {},
     "source": [
      "Basic Programming in Python:"
     ]
    },
    {
     "cell_type": "markdown",
     "metadata": {},
     "source": [
      "Up to now, most of our effort has been spent on using specialized packages like NumPy and Pandas, but at some point, you will need to do something those packages don't make particularly easy. Even when doing simple things, you will need to speak some basic Python. \n",
      "\n",
      "Today, we're going to cover the basics of data types in Python and use simple programming structures to repeat an analysis on multiple data sets. Lastly, we will learn about refactoring our code to make it easier to read and more reusable."
     ]
    },
    {
     "cell_type": "markdown",
     "metadata": {},
     "source": [
      "To illustrate these features, we'll be examining data from a comparative study of cognitive ability between macaques and lemurs [link](https://www.researchgate.net/publication/257075016_Lemurs_and_macaques_show_similar_numerical_sensitivity). Data are available [here](http://www.duke.edu/~jmp33/dibs/primates.tar.gz). We will assume that these data live in a directory ```data/primates``` inside the working directory."
     ]
    },
    {
     "cell_type": "heading",
     "level": 1,
     "metadata": {},
     "source": [
      "Part 1: The Python data Model:"
     ]
    },
    {
     "cell_type": "heading",
     "level": 2,
     "metadata": {},
     "source": [
      "Quick review:"
     ]
    },
    {
     "cell_type": "markdown",
     "metadata": {},
     "source": [
      "We've already worked with a few types of data in Python:\n",
      "\n",
      "- Pandas data frames are like spreadsheets\n",
      "    - they have named rows and columns\n",
      "    - they can contain data of different types\n",
      "    - they have lots of high-level methods for aggregating, analyzing, and plotting data\n",
      "- NumPy arrays are for efficiently storing lots of data of the same type\n",
      "    - can be more than 2d (remember the MRI image)\n",
      "    - all data must be of the same type\n",
      "    - can use advanced indexing/slicing methods to get subset of data\n",
      "    - fast numerical computations\n",
      "- lists are for general ordered collections\n",
      "    - a list of objects of any type\n",
      "    - can add or delete elements\n",
      "    - elements are ordered starting from 0\n",
      "    - use the square bracket (```[ ]```) notation both to make a list and retrieve elements\n",
      "    "
     ]
    },
    {
     "cell_type": "heading",
     "level": 2,
     "metadata": {},
     "source": [
      "Other data types:"
     ]
    },
    {
     "cell_type": "markdown",
     "metadata": {},
     "source": [
      "In addition to these, there are lots of other types of variables in Python. In fact, you can even define your own!\n",
      "\n",
      "One of the key features of Python, is that lots of different types of variables behave similarly. So learning a few key types of commands will carry us a long way."
     ]
    },
    {
     "cell_type": "heading",
     "level": 3,
     "metadata": {},
     "source": [
      "Tuples"
     ]
    },
    {
     "cell_type": "markdown",
     "metadata": {},
     "source": [
      "For example, let's take a look at **tuples**, which look a lot like lists without the square brackets:"
     ]
    },
    {
     "cell_type": "code",
     "collapsed": false,
     "input": [
      "mylist = ['a', 'b', 'c', 'd', 'e']\n",
      "mytup = 'a', 'b', 'c', 'd', 'e'\n",
      "\n",
      "print mylist\n",
      "print mytup"
     ],
     "language": "python",
     "metadata": {},
     "outputs": [
      {
       "output_type": "stream",
       "stream": "stdout",
       "text": [
        "['a', 'b', 'c', 'd', 'e']\n",
        "('a', 'b', 'c', 'd', 'e')\n"
       ]
      }
     ],
     "prompt_number": 1
    },
    {
     "cell_type": "markdown",
     "metadata": {},
     "source": [
      "You can see that tuples are printed with parentheses, which are not required, but make the syntax easier to read. In fact, we will often define tuples this way:"
     ]
    },
    {
     "cell_type": "code",
     "collapsed": false,
     "input": [
      "another_tup = (1, 2, 3)\n",
      "one_element_tuple = 'a',\n",
      "\n",
      "print another_tup\n",
      "print one_element_tuple"
     ],
     "language": "python",
     "metadata": {},
     "outputs": [
      {
       "output_type": "stream",
       "stream": "stdout",
       "text": [
        "(1, 2, 3)\n",
        "('a',)\n"
       ]
      }
     ],
     "prompt_number": 2
    },
    {
     "cell_type": "markdown",
     "metadata": {},
     "source": [
      "Lists and tuples behave a lot alike:"
     ]
    },
    {
     "cell_type": "code",
     "collapsed": false,
     "input": [
      "print len(mylist)\n",
      "print len(mytup)"
     ],
     "language": "python",
     "metadata": {},
     "outputs": [
      {
       "output_type": "stream",
       "stream": "stdout",
       "text": [
        "5\n",
        "5\n"
       ]
      }
     ],
     "prompt_number": 3
    },
    {
     "cell_type": "code",
     "collapsed": false,
     "input": [
      "print mylist[1]\n",
      "print mytup[1]\n",
      "\n",
      "mylist[1] == mytup[1]"
     ],
     "language": "python",
     "metadata": {},
     "outputs": [
      {
       "output_type": "stream",
       "stream": "stdout",
       "text": [
        "b\n",
        "b\n"
       ]
      },
      {
       "metadata": {},
       "output_type": "pyout",
       "prompt_number": 4,
       "text": [
        "True"
       ]
      }
     ],
     "prompt_number": 4
    },
    {
     "cell_type": "code",
     "collapsed": false,
     "input": [
      "print mylist[2:]\n",
      "print mytup[2:]"
     ],
     "language": "python",
     "metadata": {},
     "outputs": [
      {
       "output_type": "stream",
       "stream": "stdout",
       "text": [
        "['c', 'd', 'e']\n",
        "('c', 'd', 'e')\n"
       ]
      }
     ],
     "prompt_number": 5
    },
    {
     "cell_type": "markdown",
     "metadata": {},
     "source": [
      "But there is one important way in which tuples and lists differ: **tuples are immutable**. This means that you cannot add to, delete from, or change a tuple. Once created, its contents cannot be altered."
     ]
    },
    {
     "cell_type": "code",
     "collapsed": false,
     "input": [
      "mylist[-1] = 'egg'\n",
      "print mylist\n",
      "\n",
      "mytup[-1] = 'egg'\n",
      "print mytup"
     ],
     "language": "python",
     "metadata": {},
     "outputs": [
      {
       "output_type": "stream",
       "stream": "stdout",
       "text": [
        "['a', 'b', 'c', 'd', 'egg']\n"
       ]
      },
      {
       "ename": "TypeError",
       "evalue": "'tuple' object does not support item assignment",
       "output_type": "pyerr",
       "traceback": [
        "\u001b[0;31m---------------------------------------------------------------------------\u001b[0m\n\u001b[0;31mTypeError\u001b[0m                                 Traceback (most recent call last)",
        "\u001b[0;32m<ipython-input-6-23b998ebd353>\u001b[0m in \u001b[0;36m<module>\u001b[0;34m()\u001b[0m\n\u001b[1;32m      2\u001b[0m \u001b[0;32mprint\u001b[0m \u001b[0mmylist\u001b[0m\u001b[0;34m\u001b[0m\u001b[0m\n\u001b[1;32m      3\u001b[0m \u001b[0;34m\u001b[0m\u001b[0m\n\u001b[0;32m----> 4\u001b[0;31m \u001b[0mmytup\u001b[0m\u001b[0;34m[\u001b[0m\u001b[0;34m-\u001b[0m\u001b[0;36m1\u001b[0m\u001b[0;34m]\u001b[0m \u001b[0;34m=\u001b[0m \u001b[0;34m'egg'\u001b[0m\u001b[0;34m\u001b[0m\u001b[0m\n\u001b[0m\u001b[1;32m      5\u001b[0m \u001b[0;32mprint\u001b[0m \u001b[0mmytup\u001b[0m\u001b[0;34m\u001b[0m\u001b[0m\n",
        "\u001b[0;31mTypeError\u001b[0m: 'tuple' object does not support item assignment"
       ]
      }
     ],
     "prompt_number": 6
    },
    {
     "cell_type": "markdown",
     "metadata": {},
     "source": [
      "Among other things, this means that tuples cannot be sorted or reversed, though using the ```+``` operator still works, since it creates a new tuple:"
     ]
    },
    {
     "cell_type": "code",
     "collapsed": false,
     "input": [
      "print mylist + ['f', 'g', 'h']\n",
      "print mytup + ['f', 'g', 'h']"
     ],
     "language": "python",
     "metadata": {},
     "outputs": [
      {
       "output_type": "stream",
       "stream": "stdout",
       "text": [
        "['a', 'b', 'c', 'd', 'egg', 'f', 'g', 'h']\n"
       ]
      },
      {
       "ename": "TypeError",
       "evalue": "can only concatenate tuple (not \"list\") to tuple",
       "output_type": "pyerr",
       "traceback": [
        "\u001b[0;31m---------------------------------------------------------------------------\u001b[0m\n\u001b[0;31mTypeError\u001b[0m                                 Traceback (most recent call last)",
        "\u001b[0;32m<ipython-input-7-4ff5ed7c9f1d>\u001b[0m in \u001b[0;36m<module>\u001b[0;34m()\u001b[0m\n\u001b[1;32m      1\u001b[0m \u001b[0;32mprint\u001b[0m \u001b[0mmylist\u001b[0m \u001b[0;34m+\u001b[0m \u001b[0;34m[\u001b[0m\u001b[0;34m'f'\u001b[0m\u001b[0;34m,\u001b[0m \u001b[0;34m'g'\u001b[0m\u001b[0;34m,\u001b[0m \u001b[0;34m'h'\u001b[0m\u001b[0;34m]\u001b[0m\u001b[0;34m\u001b[0m\u001b[0m\n\u001b[0;32m----> 2\u001b[0;31m \u001b[0;32mprint\u001b[0m \u001b[0mmytup\u001b[0m \u001b[0;34m+\u001b[0m \u001b[0;34m[\u001b[0m\u001b[0;34m'f'\u001b[0m\u001b[0;34m,\u001b[0m \u001b[0;34m'g'\u001b[0m\u001b[0;34m,\u001b[0m \u001b[0;34m'h'\u001b[0m\u001b[0;34m]\u001b[0m\u001b[0;34m\u001b[0m\u001b[0m\n\u001b[0m",
        "\u001b[0;31mTypeError\u001b[0m: can only concatenate tuple (not \"list\") to tuple"
       ]
      }
     ],
     "prompt_number": 7
    },
    {
     "cell_type": "markdown",
     "metadata": {},
     "source": [
      "Of course, we can't add lists and tuples! Python wouldn't know what we wanted the result to be. But since lists and tuples are so similar, we can convert them to one another using their *constructors*:"
     ]
    },
    {
     "cell_type": "code",
     "collapsed": false,
     "input": [
      "print list(mytup)\n",
      "print tuple(mylist)\n",
      "\n",
      "print mytup + tuple(['f', 'g', 'h'])"
     ],
     "language": "python",
     "metadata": {},
     "outputs": [
      {
       "output_type": "stream",
       "stream": "stdout",
       "text": [
        "['a', 'b', 'c', 'd', 'e']\n",
        "('a', 'b', 'c', 'd', 'egg')\n",
        "('a', 'b', 'c', 'd', 'e', 'f', 'g', 'h')\n"
       ]
      }
     ],
     "prompt_number": 8
    },
    {
     "cell_type": "markdown",
     "metadata": {},
     "source": [
      "This will often be handy when we have some type of data that are a *sequence* (an ordered collection that we can iterate over (more on that below))."
     ]
    },
    {
     "cell_type": "heading",
     "level": 3,
     "metadata": {},
     "source": [
      "Strings"
     ]
    },
    {
     "cell_type": "markdown",
     "metadata": {},
     "source": [
      "Believe it or not, strings are also sequences in Python. They are a lot like both lists and tuples:"
     ]
    },
    {
     "cell_type": "code",
     "collapsed": false,
     "input": [
      "mystr = 'like a sir'\n",
      "print mystr"
     ],
     "language": "python",
     "metadata": {},
     "outputs": [
      {
       "output_type": "stream",
       "stream": "stdout",
       "text": [
        "like a sir\n"
       ]
      }
     ],
     "prompt_number": 9
    },
    {
     "cell_type": "code",
     "collapsed": false,
     "input": [
      "print mystr[5:]\n",
      "print list(mystr)"
     ],
     "language": "python",
     "metadata": {},
     "outputs": [
      {
       "output_type": "stream",
       "stream": "stdout",
       "text": [
        "a sir\n",
        "['l', 'i', 'k', 'e', ' ', 'a', ' ', 's', 'i', 'r']\n"
       ]
      }
     ],
     "prompt_number": 10
    },
    {
     "cell_type": "markdown",
     "metadata": {},
     "source": [
      "In fact, we can think of a string as just like a list or tuple with some special functions attached that are particularly useful for strings:"
     ]
    },
    {
     "cell_type": "code",
     "collapsed": false,
     "input": [
      "print mystr.upper()\n",
      "print mystr.capitalize()\n",
      "print mystr.split(' ')  # that is, split the string on the spaces"
     ],
     "language": "python",
     "metadata": {},
     "outputs": [
      {
       "output_type": "stream",
       "stream": "stdout",
       "text": [
        "LIKE A SIR\n",
        "Like a sir\n",
        "['like', 'a', 'sir']\n"
       ]
      }
     ],
     "prompt_number": 11
    },
    {
     "cell_type": "markdown",
     "metadata": {},
     "source": [
      "But strings, like tuples, are immutable."
     ]
    },
    {
     "cell_type": "code",
     "collapsed": false,
     "input": [
      "mystr[-1] = 'n'"
     ],
     "language": "python",
     "metadata": {},
     "outputs": [
      {
       "ename": "TypeError",
       "evalue": "'str' object does not support item assignment",
       "output_type": "pyerr",
       "traceback": [
        "\u001b[0;31m---------------------------------------------------------------------------\u001b[0m\n\u001b[0;31mTypeError\u001b[0m                                 Traceback (most recent call last)",
        "\u001b[0;32m<ipython-input-12-a15f651a537d>\u001b[0m in \u001b[0;36m<module>\u001b[0;34m()\u001b[0m\n\u001b[0;32m----> 1\u001b[0;31m \u001b[0mmystr\u001b[0m\u001b[0;34m[\u001b[0m\u001b[0;34m-\u001b[0m\u001b[0;36m1\u001b[0m\u001b[0;34m]\u001b[0m \u001b[0;34m=\u001b[0m \u001b[0;34m'n'\u001b[0m\u001b[0;34m\u001b[0m\u001b[0m\n\u001b[0m",
        "\u001b[0;31mTypeError\u001b[0m: 'str' object does not support item assignment"
       ]
      }
     ],
     "prompt_number": 12
    },
    {
     "cell_type": "markdown",
     "metadata": {},
     "source": [
      "Even so, operations like reversing and sorting are supported (they just return a new string, leaving the old alone):"
     ]
    },
    {
     "cell_type": "code",
     "collapsed": false,
     "input": [
      "print mystr[::-1]\n",
      "print sorted(mystr)\n",
      "print ''.join(sorted(mystr))"
     ],
     "language": "python",
     "metadata": {},
     "outputs": [
      {
       "output_type": "stream",
       "stream": "stdout",
       "text": [
        "ris a ekil\n",
        "[' ', ' ', 'a', 'e', 'i', 'i', 'k', 'l', 'r', 's']\n",
        "  aeiiklrs\n"
       ]
      }
     ],
     "prompt_number": 13
    },
    {
     "cell_type": "markdown",
     "metadata": {},
     "source": [
      "*Digression*: If the ```join``` syntax looks funky to you, you're not alone. We might like to write\n",
      "\n",
      "~~~python\n",
      "print sorted(mystr).join('')\n",
      "~~~\n",
      "\n",
      "meaning we want to join the elements of the list with no space in between, but remember that we called \n",
      "\n",
      "~~~python\n",
      "mystr.split(' ')\n",
      "~~~\n",
      "\n",
      "and since ```split``` a thing we do to strings, ```join``` must be a thing we do to strings, not lists. As a result, the pattern for merging a list of strings is to call ```join``` on the string we want *in between* the elements of the list:"
     ]
    },
    {
     "cell_type": "code",
     "collapsed": false,
     "input": [
      "print '-'.join(['trick', 'or', 'treaters'])"
     ],
     "language": "python",
     "metadata": {},
     "outputs": [
      {
       "output_type": "stream",
       "stream": "stdout",
       "text": [
        "trick-or-treaters\n"
       ]
      }
     ],
     "prompt_number": 14
    },
    {
     "cell_type": "markdown",
     "metadata": {},
     "source": [
      "Go figure."
     ]
    },
    {
     "cell_type": "heading",
     "level": 3,
     "metadata": {},
     "source": [
      "Dictionaries"
     ]
    },
    {
     "cell_type": "markdown",
     "metadata": {},
     "source": [
      "There are times when we might want to store a collection of variables together, but there is no natural ordering for the variables. For instance, a row in a data frame might be converted to a list, but it would be more helpful to have the column name associated with each variable than to get the entries in any particular order. We would much prefer to get the value by the column name than by an index.\n",
      "\n",
      "This concept of storing not just values (as in a list or tuple), but as key-value *pairs* is realized by the Python dictionary variable type. Dictionaries in Python are the basis for objects, and so they are very efficient. As opposed to lists, **dicts** use curly braces:"
     ]
    },
    {
     "cell_type": "code",
     "collapsed": false,
     "input": [
      "mydict = {'a': 5, 'b': 7}\n",
      "print mydict"
     ],
     "language": "python",
     "metadata": {},
     "outputs": [
      {
       "output_type": "stream",
       "stream": "stdout",
       "text": [
        "{'a': 5, 'b': 7}\n"
       ]
      }
     ],
     "prompt_number": 15
    },
    {
     "cell_type": "markdown",
     "metadata": {},
     "source": [
      "Unlike lists or tuples, we get elements from a dictionary by providing a *key*, which returns the corresponding *value*:"
     ]
    },
    {
     "cell_type": "code",
     "collapsed": false,
     "input": [
      "print mydict['a']\n",
      "print mydict['b']"
     ],
     "language": "python",
     "metadata": {},
     "outputs": [
      {
       "output_type": "stream",
       "stream": "stdout",
       "text": [
        "5\n",
        "7\n"
       ]
      }
     ],
     "prompt_number": 16
    },
    {
     "cell_type": "markdown",
     "metadata": {},
     "source": [
      "Like lists, we can add to dictionaries. A dictionary key can be any object that cannot change (technically it must be \"hashable\"), and its corresponding value can be anything:"
     ]
    },
    {
     "cell_type": "code",
     "collapsed": false,
     "input": [
      "# we can add a key, value pair \n",
      "mydict[101] = ['a', 0.1, [4, 5, 7]]\n",
      "mydict[(1, 2)] = 10\n",
      "print mydict\n",
      "print len(mydict)"
     ],
     "language": "python",
     "metadata": {},
     "outputs": [
      {
       "output_type": "stream",
       "stream": "stdout",
       "text": [
        "{'a': 5, (1, 2): 10, 'b': 7, 101: ['a', 0.1, [4, 5, 7]]}\n",
        "4\n"
       ]
      }
     ],
     "prompt_number": 17
    },
    {
     "cell_type": "markdown",
     "metadata": {},
     "source": [
      "And because dicts are key, value pairs, we can make dicts from a tuple or list of 2-tuples:"
     ]
    },
    {
     "cell_type": "code",
     "collapsed": false,
     "input": [
      "print dict([('a', 0), ('b', 1), ('last', 'foo')])"
     ],
     "language": "python",
     "metadata": {},
     "outputs": [
      {
       "output_type": "stream",
       "stream": "stdout",
       "text": [
        "{'a': 0, 'b': 1, 'last': 'foo'}\n"
       ]
      }
     ],
     "prompt_number": 18
    },
    {
     "cell_type": "markdown",
     "metadata": {},
     "source": [
      "### However:\n",
      "- **Dicts are not ordered**\n",
      "- as a result, dicts can't be sliced, and we can't get an element by index\n",
      "- we can iterate over a dict (see below), but there are no guarantees about which keys come first or last"
     ]
    },
    {
     "cell_type": "heading",
     "level": 2,
     "metadata": {},
     "source": [
      "Containers and Iteration"
     ]
    },
    {
     "cell_type": "markdown",
     "metadata": {},
     "source": [
      "Among the most important commonalities that lists, strings, tuples, and dicts all have (and share with data frames and numpy arrays) are *containment* and *iteration*. This is one of the best examples of how very different data types in Python can behave very similarly, lessening our need to learn unique syntax for every type of data. "
     ]
    },
    {
     "cell_type": "markdown",
     "metadata": {},
     "source": [
      "### Containment\n",
      "In Python, we can check whether an element is in a collection with the ```in``` keyword:"
     ]
    },
    {
     "cell_type": "code",
     "collapsed": false,
     "input": [
      "print mytup\n",
      "print mylist\n",
      "print mystr\n",
      "print mydict"
     ],
     "language": "python",
     "metadata": {},
     "outputs": [
      {
       "output_type": "stream",
       "stream": "stdout",
       "text": [
        "('a', 'b', 'c', 'd', 'e')\n",
        "['a', 'b', 'c', 'd', 'egg']\n",
        "like a sir\n",
        "{'a': 5, (1, 2): 10, 'b': 7, 101: ['a', 0.1, [4, 5, 7]]}\n"
       ]
      }
     ],
     "prompt_number": 19
    },
    {
     "cell_type": "code",
     "collapsed": false,
     "input": [
      "print 'b' in mytup\n",
      "print 'egg' in mylist\n",
      "print 'sir' in mystr\n",
      "print 'ik' in mystr\n",
      "print 101 in mydict\n",
      "print 'a' in mydict"
     ],
     "language": "python",
     "metadata": {},
     "outputs": [
      {
       "output_type": "stream",
       "stream": "stdout",
       "text": [
        "True\n",
        "True\n",
        "True\n",
        "True\n",
        "True\n",
        "True\n"
       ]
      }
     ],
     "prompt_number": 20
    },
    {
     "cell_type": "markdown",
     "metadata": {},
     "source": [
      "Note that for dicts, containment checks for *keys* not values. That is, we can find out whether an entry is in the dictionary, but not its value."
     ]
    },
    {
     "cell_type": "markdown",
     "metadata": {},
     "source": [
      "### Iteration\n",
      "\n",
      "In many cases, we want to perform some logic for every element in a collection. To do so, we need a way of stepping through that collection, looking at one element at a time. In Python, this is done with the ```for``` keyword:"
     ]
    },
    {
     "cell_type": "code",
     "collapsed": false,
     "input": [
      "for elem in mylist:   # note: this line must end in a colon\n",
      "    print elem        # this line must be indented"
     ],
     "language": "python",
     "metadata": {},
     "outputs": [
      {
       "output_type": "stream",
       "stream": "stdout",
       "text": [
        "a\n",
        "b\n",
        "c\n",
        "d\n",
        "egg\n"
       ]
      }
     ],
     "prompt_number": 21
    },
    {
     "cell_type": "code",
     "collapsed": false,
     "input": [
      "for char in mystr:    # char is the variable name we give to each element as we step through\n",
      "    print char + '-letter'"
     ],
     "language": "python",
     "metadata": {},
     "outputs": [
      {
       "output_type": "stream",
       "stream": "stdout",
       "text": [
        "l-letter\n",
        "i-letter\n",
        "k-letter\n",
        "e-letter\n",
        " -letter\n",
        "a-letter\n",
        " -letter\n",
        "s-letter\n",
        "i-letter\n",
        "r-letter\n"
       ]
      }
     ],
     "prompt_number": 22
    },
    {
     "cell_type": "code",
     "collapsed": false,
     "input": [
      "for key in mydict:       # note: iterating over a dict gives us keys\n",
      "    print mydict[key]    # every indented line gets repeated\n",
      "    print '--------'\n",
      "print len(mydict)        # this line is not indented, so doesn't get repeated"
     ],
     "language": "python",
     "metadata": {},
     "outputs": [
      {
       "output_type": "stream",
       "stream": "stdout",
       "text": [
        "5\n",
        "--------\n",
        "10\n",
        "--------\n",
        "7\n",
        "--------\n",
        "['a', 0.1, [4, 5, 7]]\n",
        "--------\n",
        "4\n"
       ]
      }
     ],
     "prompt_number": 23
    },
    {
     "cell_type": "markdown",
     "metadata": {},
     "source": [
      "Almost every data structure in Python can be iterated over, and the ability to do this will allow us to repeat a block of code for each element of a collection. This ability to build code that works for a single element of a collection and easily repeat it is part of the essence of programming."
     ]
    },
    {
     "cell_type": "heading",
     "level": 2,
     "metadata": {},
     "source": [
      "Using Logic:"
     ]
    },
    {
     "cell_type": "markdown",
     "metadata": {},
     "source": [
      "It's pretty typical that we might want to decide whether or not to run a block of code based on some logical condition. The most basic conditional in Python is the ```if``` statement:"
     ]
    },
    {
     "cell_type": "code",
     "collapsed": false,
     "input": [
      "if len(mylist) > 2:\n",
      "    print mylist[2]"
     ],
     "language": "python",
     "metadata": {},
     "outputs": [
      {
       "output_type": "stream",
       "stream": "stdout",
       "text": [
        "c\n"
       ]
      }
     ],
     "prompt_number": 24
    },
    {
     "cell_type": "code",
     "collapsed": false,
     "input": [
      "testvar = mytup\n",
      "\n",
      "if isinstance(testvar, list):\n",
      "    print \"variable is a list\"\n",
      "elif isinstance(testvar, tuple):\n",
      "    print \"variable is a tuple\"\n",
      "else:\n",
      "    print \"variable is neither list nor tuple\""
     ],
     "language": "python",
     "metadata": {},
     "outputs": [
      {
       "output_type": "stream",
       "stream": "stdout",
       "text": [
        "variable is a tuple\n"
       ]
      }
     ],
     "prompt_number": 25
    },
    {
     "cell_type": "markdown",
     "metadata": {},
     "source": [
      "And we can combine conditions with logical operations:"
     ]
    },
    {
     "cell_type": "code",
     "collapsed": false,
     "input": [
      "vowels = 'aeiou'\n",
      "sentence = 'it was the best of times, it was the worst of times'.split(' ')\n",
      "print sentence\n",
      "\n",
      "for word in sentence:\n",
      "    firstletter = word[0]\n",
      "    if firstletter in vowels or (len(word) > 4):\n",
      "        print word.upper()"
     ],
     "language": "python",
     "metadata": {},
     "outputs": [
      {
       "output_type": "stream",
       "stream": "stdout",
       "text": [
        "['it', 'was', 'the', 'best', 'of', 'times,', 'it', 'was', 'the', 'worst', 'of', 'times']\n",
        "IT\n",
        "OF\n",
        "TIMES,\n",
        "IT\n",
        "WORST\n",
        "OF\n",
        "TIMES\n"
       ]
      }
     ],
     "prompt_number": 26
    },
    {
     "cell_type": "heading",
     "level": 1,
     "metadata": {},
     "source": [
      "Handling multiple data sets:"
     ]
    },
    {
     "cell_type": "markdown",
     "metadata": {},
     "source": [
      "Normally, we could just use the `%ls` magic to get the list of files in a given directory:"
     ]
    },
    {
     "cell_type": "code",
     "collapsed": false,
     "input": [
      "%ls data/primates"
     ],
     "language": "python",
     "metadata": {},
     "outputs": [
      {
       "output_type": "stream",
       "stream": "stdout",
       "text": [
        "Black.csv            Macaque.csv          trained_Macaque.csv\r\n",
        "Catta.csv            Mongoose.csv\r\n"
       ]
      }
     ],
     "prompt_number": 27
    },
    {
     "cell_type": "markdown",
     "metadata": {},
     "source": [
      "But if we want to eventually moved over to pure Python, we need to use the `os` library, which gives us operating system commands."
     ]
    },
    {
     "cell_type": "code",
     "collapsed": false,
     "input": [
      "import os\n",
      "pathparts = ('data', 'primates')\n",
      "\n",
      "# this command will work on both Windows and Mac/Unix\n",
      "# the * expands the tuple, so it's as if we'd written os.path.join('data', 'primates')\n",
      "fullpath = os.path.join(*pathparts)\n",
      "\n",
      "print fullpath"
     ],
     "language": "python",
     "metadata": {},
     "outputs": [
      {
       "output_type": "stream",
       "stream": "stdout",
       "text": [
        "data/primates\n"
       ]
      }
     ],
     "prompt_number": 28
    },
    {
     "cell_type": "code",
     "collapsed": false,
     "input": [
      "datfiles = os.listdir(fullpath)\n",
      "print datfiles"
     ],
     "language": "python",
     "metadata": {},
     "outputs": [
      {
       "output_type": "stream",
       "stream": "stdout",
       "text": [
        "['Black.csv', 'Catta.csv', 'Macaque.csv', 'Mongoose.csv', 'trained_Macaque.csv']\n"
       ]
      }
     ],
     "prompt_number": 29
    },
    {
     "cell_type": "markdown",
     "metadata": {},
     "source": [
      "Our first order of business is to figure out our analysis from a single dataset:"
     ]
    },
    {
     "cell_type": "code",
     "collapsed": false,
     "input": [
      "fname = os.path.join(fullpath, datfiles[0])\n",
      "\n",
      "import pandas as pd\n",
      "# df is short for dataframe\n",
      "# in code with a lot of dataframes, we would choose a more descriptive name\n",
      "df = pd.read_csv(fname, index_col=0)  # index_col=0 says the first column of the file is row names\n",
      "\n",
      "df.head()"
     ],
     "language": "python",
     "metadata": {},
     "outputs": [
      {
       "html": [
        "<div style=\"max-height:1000px;max-width:1500px;overflow:auto;\">\n",
        "<table border=\"1\" class=\"dataframe\">\n",
        "  <thead>\n",
        "    <tr style=\"text-align: right;\">\n",
        "      <th></th>\n",
        "      <th>Sub</th>\n",
        "      <th>Species</th>\n",
        "      <th>Date</th>\n",
        "      <th>Block (approx 72 trials)</th>\n",
        "      <th>Trial</th>\n",
        "      <th>NumA</th>\n",
        "      <th>NumB</th>\n",
        "      <th>Accuracy</th>\n",
        "      <th>RT</th>\n",
        "      <th>Surface Area</th>\n",
        "    </tr>\n",
        "  </thead>\n",
        "  <tbody>\n",
        "    <tr>\n",
        "      <th>0</th>\n",
        "      <td> hopkins</td>\n",
        "      <td> Black</td>\n",
        "      <td> 9/3/08</td>\n",
        "      <td> 1</td>\n",
        "      <td> 1</td>\n",
        "      <td> 7</td>\n",
        "      <td> 8</td>\n",
        "      <td> 0</td>\n",
        "      <td> 1.317</td>\n",
        "      <td>     equal</td>\n",
        "    </tr>\n",
        "    <tr>\n",
        "      <th>1</th>\n",
        "      <td> hopkins</td>\n",
        "      <td> Black</td>\n",
        "      <td> 9/3/08</td>\n",
        "      <td> 1</td>\n",
        "      <td> 2</td>\n",
        "      <td> 4</td>\n",
        "      <td> 9</td>\n",
        "      <td> 1</td>\n",
        "      <td> 0.583</td>\n",
        "      <td>     equal</td>\n",
        "    </tr>\n",
        "    <tr>\n",
        "      <th>2</th>\n",
        "      <td> hopkins</td>\n",
        "      <td> Black</td>\n",
        "      <td> 9/3/08</td>\n",
        "      <td> 1</td>\n",
        "      <td> 3</td>\n",
        "      <td> 3</td>\n",
        "      <td> 9</td>\n",
        "      <td> 1</td>\n",
        "      <td> 0.700</td>\n",
        "      <td>     equal</td>\n",
        "    </tr>\n",
        "    <tr>\n",
        "      <th>3</th>\n",
        "      <td> hopkins</td>\n",
        "      <td> Black</td>\n",
        "      <td> 9/3/08</td>\n",
        "      <td> 1</td>\n",
        "      <td> 4</td>\n",
        "      <td> 1</td>\n",
        "      <td> 8</td>\n",
        "      <td> 1</td>\n",
        "      <td> 1.717</td>\n",
        "      <td> congruent</td>\n",
        "    </tr>\n",
        "    <tr>\n",
        "      <th>4</th>\n",
        "      <td> hopkins</td>\n",
        "      <td> Black</td>\n",
        "      <td> 9/3/08</td>\n",
        "      <td> 1</td>\n",
        "      <td> 5</td>\n",
        "      <td> 7</td>\n",
        "      <td> 9</td>\n",
        "      <td> 0</td>\n",
        "      <td> 0.800</td>\n",
        "      <td>     equal</td>\n",
        "    </tr>\n",
        "  </tbody>\n",
        "</table>\n",
        "</div>"
       ],
       "metadata": {},
       "output_type": "pyout",
       "prompt_number": 30,
       "text": [
        "       Sub Species    Date  Block (approx 72 trials)  Trial  NumA  NumB  \\\n",
        "0  hopkins   Black  9/3/08                         1      1     7     8   \n",
        "1  hopkins   Black  9/3/08                         1      2     4     9   \n",
        "2  hopkins   Black  9/3/08                         1      3     3     9   \n",
        "3  hopkins   Black  9/3/08                         1      4     1     8   \n",
        "4  hopkins   Black  9/3/08                         1      5     7     9   \n",
        "\n",
        "   Accuracy     RT Surface Area  \n",
        "0         0  1.317        equal  \n",
        "1         1  0.583        equal  \n",
        "2         1  0.700        equal  \n",
        "3         1  1.717    congruent  \n",
        "4         0  0.800        equal  "
       ]
      }
     ],
     "prompt_number": 30
    },
    {
     "cell_type": "markdown",
     "metadata": {},
     "source": [
      "We can find out some interesting things:"
     ]
    },
    {
     "cell_type": "code",
     "collapsed": false,
     "input": [
      "df['Sub'].unique()"
     ],
     "language": "python",
     "metadata": {},
     "outputs": [
      {
       "metadata": {},
       "output_type": "pyout",
       "prompt_number": 31,
       "text": [
        "array(['hopkins', 'quinn', 'redford', 'tarantino'], dtype=object)"
       ]
      }
     ],
     "prompt_number": 31
    },
    {
     "cell_type": "code",
     "collapsed": false,
     "input": [
      "df['Species'].unique(), df['Date'].unique()"
     ],
     "language": "python",
     "metadata": {},
     "outputs": [
      {
       "metadata": {},
       "output_type": "pyout",
       "prompt_number": 32,
       "text": [
        "(array(['Black'], dtype=object),\n",
        " array(['9/3/08', '9/4/08', '9/8/08', '9/9/08', '9/10/08', '9/11/08',\n",
        "        '9/12/08', '9/16/08', '9/17/08', '9/18/08', '9/19/08', '9/22/08',\n",
        "        '9/23/08', '9/30/08', '10/1/08', '9/7/10', '9/8/10', '9/9/10',\n",
        "        '9/10/10', '9/13/10', '9/14/10', '9/15/10', '9/16/10', '9/20/10',\n",
        "        '9/22/10', '9/23/10', '9/24/10', '9/27/10', '9/28/10', '9/29/10',\n",
        "        '1/5/10', '1/6/10', '1/7/10', '1/8/10', '1/11/10', '1/12/10',\n",
        "        '1/13/10', '1/14/10', '1/15/10', '1/19/10', '1/20/10', '1/22/10',\n",
        "        '1/23/10', '1/25/10', '1/26/10', '10/2/08', '10/3/08', '10/8/08'], dtype=object))"
       ]
      }
     ],
     "prompt_number": 32
    },
    {
     "cell_type": "heading",
     "level": 2,
     "metadata": {},
     "source": [
      "Groupby: Split-Apply-Combine:"
     ]
    },
    {
     "cell_type": "markdown",
     "metadata": {},
     "source": [
      "It's pretty typical in a dataset like this that we want to do some analysis for each subset of the data, however that subset is defined. Pandas makes this very easy:"
     ]
    },
    {
     "cell_type": "code",
     "collapsed": false,
     "input": [
      "df.groupby('Sub')[['Accuracy', 'RT']].mean()"
     ],
     "language": "python",
     "metadata": {},
     "outputs": [
      {
       "html": [
        "<div style=\"max-height:1000px;max-width:1500px;overflow:auto;\">\n",
        "<table border=\"1\" class=\"dataframe\">\n",
        "  <thead>\n",
        "    <tr style=\"text-align: right;\">\n",
        "      <th></th>\n",
        "      <th>Accuracy</th>\n",
        "      <th>RT</th>\n",
        "    </tr>\n",
        "    <tr>\n",
        "      <th>Sub</th>\n",
        "      <th></th>\n",
        "      <th></th>\n",
        "    </tr>\n",
        "  </thead>\n",
        "  <tbody>\n",
        "    <tr>\n",
        "      <th>hopkins</th>\n",
        "      <td> 0.700803</td>\n",
        "      <td> 2.023438</td>\n",
        "    </tr>\n",
        "    <tr>\n",
        "      <th>quinn</th>\n",
        "      <td> 0.749074</td>\n",
        "      <td> 1.345008</td>\n",
        "    </tr>\n",
        "    <tr>\n",
        "      <th>redford</th>\n",
        "      <td> 0.597222</td>\n",
        "      <td> 1.260423</td>\n",
        "    </tr>\n",
        "    <tr>\n",
        "      <th>tarantino</th>\n",
        "      <td> 0.725096</td>\n",
        "      <td> 1.687411</td>\n",
        "    </tr>\n",
        "  </tbody>\n",
        "</table>\n",
        "</div>"
       ],
       "metadata": {},
       "output_type": "pyout",
       "prompt_number": 33,
       "text": [
        "           Accuracy        RT\n",
        "Sub                          \n",
        "hopkins    0.700803  2.023438\n",
        "quinn      0.749074  1.345008\n",
        "redford    0.597222  1.260423\n",
        "tarantino  0.725096  1.687411"
       ]
      }
     ],
     "prompt_number": 33
    },
    {
     "cell_type": "code",
     "collapsed": false,
     "input": [
      "df.groupby(['Sub', 'Surface Area'])[['Accuracy', 'RT']].mean()"
     ],
     "language": "python",
     "metadata": {},
     "outputs": [
      {
       "html": [
        "<div style=\"max-height:1000px;max-width:1500px;overflow:auto;\">\n",
        "<table border=\"1\" class=\"dataframe\">\n",
        "  <thead>\n",
        "    <tr style=\"text-align: right;\">\n",
        "      <th></th>\n",
        "      <th></th>\n",
        "      <th>Accuracy</th>\n",
        "      <th>RT</th>\n",
        "    </tr>\n",
        "    <tr>\n",
        "      <th>Sub</th>\n",
        "      <th>Surface Area</th>\n",
        "      <th></th>\n",
        "      <th></th>\n",
        "    </tr>\n",
        "  </thead>\n",
        "  <tbody>\n",
        "    <tr>\n",
        "      <th rowspan=\"2\" valign=\"top\">hopkins</th>\n",
        "      <th>congruent</th>\n",
        "      <td> 0.700803</td>\n",
        "      <td> 1.988470</td>\n",
        "    </tr>\n",
        "    <tr>\n",
        "      <th>equal</th>\n",
        "      <td> 0.700803</td>\n",
        "      <td> 2.058406</td>\n",
        "    </tr>\n",
        "    <tr>\n",
        "      <th rowspan=\"2\" valign=\"top\">quinn</th>\n",
        "      <th>congruent</th>\n",
        "      <td> 0.757407</td>\n",
        "      <td> 1.280183</td>\n",
        "    </tr>\n",
        "    <tr>\n",
        "      <th>equal</th>\n",
        "      <td> 0.740741</td>\n",
        "      <td> 1.409833</td>\n",
        "    </tr>\n",
        "    <tr>\n",
        "      <th rowspan=\"2\" valign=\"top\">redford</th>\n",
        "      <th>congruent</th>\n",
        "      <td> 0.609259</td>\n",
        "      <td> 1.235722</td>\n",
        "    </tr>\n",
        "    <tr>\n",
        "      <th>equal</th>\n",
        "      <td> 0.585185</td>\n",
        "      <td> 1.285124</td>\n",
        "    </tr>\n",
        "    <tr>\n",
        "      <th rowspan=\"2\" valign=\"top\">tarantino</th>\n",
        "      <th>congruent</th>\n",
        "      <td> 0.727969</td>\n",
        "      <td> 1.757307</td>\n",
        "    </tr>\n",
        "    <tr>\n",
        "      <th>equal</th>\n",
        "      <td> 0.722222</td>\n",
        "      <td> 1.617515</td>\n",
        "    </tr>\n",
        "  </tbody>\n",
        "</table>\n",
        "</div>"
       ],
       "metadata": {},
       "output_type": "pyout",
       "prompt_number": 34,
       "text": [
        "                        Accuracy        RT\n",
        "Sub       Surface Area                    \n",
        "hopkins   congruent     0.700803  1.988470\n",
        "          equal         0.700803  2.058406\n",
        "quinn     congruent     0.757407  1.280183\n",
        "          equal         0.740741  1.409833\n",
        "redford   congruent     0.609259  1.235722\n",
        "          equal         0.585185  1.285124\n",
        "tarantino congruent     0.727969  1.757307\n",
        "          equal         0.722222  1.617515"
       ]
      }
     ],
     "prompt_number": 34
    },
    {
     "cell_type": "markdown",
     "metadata": {},
     "source": [
      "Groupby has much more sophisticated behavior than this (if you want to group by something other than a specific set of columns, you can supply your own criterion), which you can read about [here](http://pandas.pydata.org/pandas-docs/dev/groupby.html).\n",
      "\n",
      "In addition, we can plot things like reaction time distributions:"
     ]
    },
    {
     "cell_type": "code",
     "collapsed": false,
     "input": [
      "import matplotlib.pyplot as plt\n",
      "%matplotlib inline\n",
      "df[['Sub', 'RT']].boxplot(by='Sub');"
     ],
     "language": "python",
     "metadata": {},
     "outputs": [
      {
       "metadata": {},
       "output_type": "display_data",
       "png": "[encoded data removed]",
       "text": [
        "<matplotlib.figure.Figure at 0x10a56b550>"
       ]
      }
     ],
     "prompt_number": 35
    },
    {
     "cell_type": "code",
     "collapsed": false,
     "input": [
      "df['RT'].hist(by=df['Sub'], bins=100);"
     ],
     "language": "python",
     "metadata": {},
     "outputs": [
      {
       "metadata": {},
       "output_type": "display_data",
       "png": "[encoded data removed]",
       "text": [
        "<matplotlib.figure.Figure at 0x10a6a2410>"
       ]
      }
     ],
     "prompt_number": 36
    },
    {
     "cell_type": "markdown",
     "metadata": {},
     "source": [
      "Pandas plotting is sort of lame if we want to plot on the same axis. It's best for quick and dirty plots; if we want to do better, we need to dive more into Matplotlib or Seaborn.\n",
      "\n",
      "But we can plot all on the same axis if we simply tell Pandas which axis to plot into.\n",
      "\n",
      "So here's our strategy:\n",
      "- create an axis object to plot into (`gca` = get current axis)\n",
      "- split the RT portion of the dataframe into groups using `groubpy`\n",
      "- iterate over these groups (the iterator gives us a name and a dataframe for each group\n",
      "- call plot on each dataframe, passing the name as the label and the axis we want to reuse"
     ]
    },
    {
     "cell_type": "code",
     "collapsed": false,
     "input": [
      "ax = plt.figure().gca()\n",
      "\n",
      "for name, grp in df.groupby('Sub'):\n",
      "    grp['RT'].plot(kind='density', ax=ax, label=name.capitalize());\n",
      "\n",
      "plt.legend();  # draw plot legend\n",
      "\n",
      "# adjust x limits of plot\n",
      "plt.xlim(-1, 10);  "
     ],
     "language": "python",
     "metadata": {},
     "outputs": [
      {
       "metadata": {},
       "output_type": "display_data",
       "png": "[encoded data removed]",
       "text": [
        "<matplotlib.figure.Figure at 0x10a5c6090>"
       ]
      }
     ],
     "prompt_number": 37
    },
    {
     "cell_type": "markdown",
     "metadata": {},
     "source": [
      "So we've seen that we can do some neat things with this individual dataset. In fact, we'd like to do these analyses and *aggregate* across all datasets.\n",
      "\n",
      "Here's the plan:\n",
      "    - load each datset in turn\n",
      "    - get the average RT and Accuracy for each animal, store it in a dataframe\n",
      "    - plot the RT curve for each animal\n",
      "    - load the next dataset, repeat"
     ]
    },
    {
     "cell_type": "heading",
     "level": 2,
     "metadata": {},
     "source": [
      "Multiple datasets: pulling it together:"
     ]
    },
    {
     "cell_type": "markdown",
     "metadata": {},
     "source": [
      "Let's try to combine the above code into a single chunk of code. We'll iterate over data files and simply repeat the same code each time. (Note how we made a good decision in encoding the file name in a variable we can change instead of hard coding it.)"
     ]
    },
    {
     "cell_type": "code",
     "collapsed": false,
     "input": [
      "# make an empty piece to hold each dataframe\n",
      "df_pieces = []\n",
      "\n",
      "ax = plt.figure().gca()  # make a figure and get its current axis object\n",
      "\n",
      "# iterate over datfiles\n",
      "for f in datfiles:\n",
      "    fname = os.path.join(fullpath, f)\n",
      "    \n",
      "    df = pd.read_csv(fname, index_col=0)\n",
      "\n",
      "    mean_data = df.groupby('Sub')[['Accuracy', 'RT']].mean()\n",
      "    \n",
      "    df_pieces.append(mean_data)\n",
      "    \n",
      "    for name, grp in df.groupby('Sub'):\n",
      "        grp['RT'].plot(kind='density', ax=ax, label=name.capitalize());\n",
      "        \n",
      "plt.xlim(0, 6)\n",
      "\n",
      "plt.legend(bbox_to_anchor=(1.05, 1), loc=2, borderaxespad=0.);\n",
      "\n",
      "combined_data = pd.concat(df_pieces)\n",
      "\n",
      "combined_data.head()"
     ],
     "language": "python",
     "metadata": {},
     "outputs": [
      {
       "html": [
        "<div style=\"max-height:1000px;max-width:1500px;overflow:auto;\">\n",
        "<table border=\"1\" class=\"dataframe\">\n",
        "  <thead>\n",
        "    <tr style=\"text-align: right;\">\n",
        "      <th></th>\n",
        "      <th>Accuracy</th>\n",
        "      <th>RT</th>\n",
        "    </tr>\n",
        "    <tr>\n",
        "      <th>Sub</th>\n",
        "      <th></th>\n",
        "      <th></th>\n",
        "    </tr>\n",
        "  </thead>\n",
        "  <tbody>\n",
        "    <tr>\n",
        "      <th>hopkins</th>\n",
        "      <td> 0.700803</td>\n",
        "      <td> 2.023438</td>\n",
        "    </tr>\n",
        "    <tr>\n",
        "      <th>quinn</th>\n",
        "      <td> 0.749074</td>\n",
        "      <td> 1.345008</td>\n",
        "    </tr>\n",
        "    <tr>\n",
        "      <th>redford</th>\n",
        "      <td> 0.597222</td>\n",
        "      <td> 1.260423</td>\n",
        "    </tr>\n",
        "    <tr>\n",
        "      <th>tarantino</th>\n",
        "      <td> 0.725096</td>\n",
        "      <td> 1.687411</td>\n",
        "    </tr>\n",
        "    <tr>\n",
        "      <th>agathon</th>\n",
        "      <td> 0.725000</td>\n",
        "      <td> 3.105548</td>\n",
        "    </tr>\n",
        "  </tbody>\n",
        "</table>\n",
        "</div>"
       ],
       "metadata": {},
       "output_type": "pyout",
       "prompt_number": 38,
       "text": [
        "           Accuracy        RT\n",
        "Sub                          \n",
        "hopkins    0.700803  2.023438\n",
        "quinn      0.749074  1.345008\n",
        "redford    0.597222  1.260423\n",
        "tarantino  0.725096  1.687411\n",
        "agathon    0.725000  3.105548"
       ]
      },
      {
       "metadata": {},
       "output_type": "display_data",
       "png": "[encoded data removed]",
       "text": [
        "<matplotlib.figure.Figure at 0x10b289750>"
       ]
      }
     ],
     "prompt_number": 38
    },
    {
     "cell_type": "markdown",
     "metadata": {},
     "source": [
      "Note that we basically just copied over the code from before. (For the slick arguments to `legend` that put the box outside and to the right, see example [here](http://matplotlib.org/users/legend_guide.html)."
     ]
    },
    {
     "cell_type": "heading",
     "level": 1,
     "metadata": {},
     "source": [
      "Building code that lasts"
     ]
    },
    {
     "cell_type": "markdown",
     "metadata": {},
     "source": [
      "The above chunk of code is pretty nifty. It works, it produces good output, it's something we can back and run in six months to produce that figure.\n",
      "\n",
      "But how well will you understand that code in six months. What if you need to change it? What if we'd like to reuse the code elsewhere. Typically, researchers use a few approaches:\n",
      "- generate plots interactively when needed; don't bother with a script\n",
      "- modify this script as needed to produce new output\n",
      "- cut and paste from this script when you need to do something similar\n",
      "\n",
      "The first of these is a terrible idea. The others less so, but they have disadvantages:\n",
      "- if you modify this script, you need to remember what you modified and where so that you can produce the original figure again\n",
      "- if you cut and paste, and you later improve the code or find a bug, you need to remember all the places you cut and pasted, correct the code, and re-run\n",
      "- if you cut and paste, your code will contain lots of repetition; it will be harder to see how what you're doing differs across scripts\n",
      "    \n",
      "The strategy that good coders use to surmount these difficulties is *code reuse*. There are lots of ways to reuse code, but the oldest and arguably best is to modularize our code by writing functions. Modular code is built up from smaller subunits. Originally, these units were scripts, but over time, the preferred method is to create functions. Functions are like scripts in that they are named sections of code, but they have a few advantages over scripts, as we will see."
     ]
    },
    {
     "cell_type": "heading",
     "level": 2,
     "metadata": {},
     "source": [
      "Modularization: strategy"
     ]
    },
    {
     "cell_type": "markdown",
     "metadata": {},
     "source": [
      "For scientists, the path to modularization generally takes this form:\n",
      "- start by exploring data interactively in the console or a notebook\n",
      "- tidy up the code in a notebook that illustrates a particular analysis\n",
      "- when you start to see chunks of code that do a single (non-obvious) task, collect those chunks into functions\n",
      "- rewrite the analysis to call the functions\n",
      "- remove the functions from the notebook and put them into modules that can be imported\n",
      "\n",
      "The emphasis here is first on deciding what we want to do (exploring analyses), getting it working (illustrating in a notebook), and only lastly on making our code cleaner and more reusable. The same goes for making our code faster, which comes as a last step. As you become a better programmer, you will develop the ability to think about reuse and speed from the early stages, but even very good coders can be bad guessers at how best to design things early on."
     ]
    },
    {
     "cell_type": "heading",
     "level": 2,
     "metadata": {},
     "source": [
      "Making functions"
     ]
    },
    {
     "cell_type": "markdown",
     "metadata": {},
     "source": [
      "Functions are named blocks of code with inputs and a single output (though we can get around this restriction). To define a function, we can use the `def` keyword:"
     ]
    },
    {
     "cell_type": "code",
     "collapsed": false,
     "input": [
      "def myfunc(x):\n",
      "    print x + 1\n",
      "    return 2 * x\n",
      "\n",
      "print myfunc(4)\n",
      "y = myfunc(-7)\n",
      "print y"
     ],
     "language": "python",
     "metadata": {},
     "outputs": [
      {
       "output_type": "stream",
       "stream": "stdout",
       "text": [
        "5\n",
        "8\n",
        "-6\n",
        "-14\n"
       ]
      }
     ],
     "prompt_number": 39
    },
    {
     "cell_type": "markdown",
     "metadata": {},
     "source": [
      "Here, `def` says we are about to define a function. This keyword is followed by the name of the function and a list of its *arguments* in parentheses. Python has several neat features in the way arguments are defined, including the ability to take arguments by name, to leave the number of arguments unspecified, and to give default values to certain arguments. \n",
      "\n",
      "Finally, the `return` keyword specifies the output of the function. Note that, like `for`, the line defining the function ends in a colon and the entire function body is indented."
     ]
    },
    {
     "cell_type": "code",
     "collapsed": false,
     "input": [
      "def anotherfunc(x, y=2):  # y has the default value 2\n",
      "    z = x ** y  # x to the power y\n",
      "    return z / 2.0\n",
      "\n",
      "print anotherfunc(4, 0.5)  # here we specify both x and y\n",
      "print anotherfunc(4)  # here we specify only x, so y = 2"
     ],
     "language": "python",
     "metadata": {},
     "outputs": [
      {
       "output_type": "stream",
       "stream": "stdout",
       "text": [
        "1.0\n",
        "8.0\n"
       ]
      }
     ],
     "prompt_number": 40
    },
    {
     "cell_type": "markdown",
     "metadata": {},
     "source": [
      "### Very important:\n",
      "\n",
      "Functions are like *black boxes*. The information that gets passed into them is bound to the input variable name, but this variable only exists while the function is running. This is a tricky topic that goes under the name of *variable scoping*, but the following examples illustrate that you have to be careful about what information is and isn't being passed into a function."
     ]
    },
    {
     "cell_type": "code",
     "collapsed": false,
     "input": [
      "x = 'foo'\n",
      "print 'x = ' + x\n",
      "\n",
      "def reverser(x, appender=''):  # appending an empty string seems like a sensible default\n",
      "    \"\"\"\n",
      "    This is a docstring. It tells us what the function does. \n",
      "    This function reverses its input and appends its second argument to the end.\n",
      "    \"\"\"\n",
      "    print 'x = ' + x\n",
      "    return x[::-1] + appender\n",
      "\n",
      "print help(reverser)\n",
      "\n",
      "print reverser('bar')\n",
      "print reverser('elephant', ' monkey')\n",
      "\n",
      "print 'x = ' + x"
     ],
     "language": "python",
     "metadata": {},
     "outputs": [
      {
       "output_type": "stream",
       "stream": "stdout",
       "text": [
        "x = foo\n",
        "Help on function reverser in module __main__:\n",
        "\n",
        "reverser(x, appender='')\n",
        "    This is a docstring. It tells us what the function does. \n",
        "    This function reverses its input and appends its second argument to the end.\n",
        "\n",
        "None\n",
        "x = bar\n",
        "rab\n",
        "x = elephant\n",
        "tnahpele monkey\n",
        "x = foo\n"
       ]
      }
     ],
     "prompt_number": 41
    },
    {
     "cell_type": "markdown",
     "metadata": {},
     "source": [
      "Note that the value of `x` inside the function had nothing to do with the value of `x` outside the function. Within the function, `x` took on the value of whatever we passed in as the first argument of reverser. When the function returned, x was restored to its original value.\n",
      "\n",
      "This may seem confusing, but we actually want this behavior. The fact that variables defined within the function live and die inside the function means that we can use functions without worrying that they will overwrite variables we ourselves define. Imagine if you used a function that had an argument `x` or defined a variable `data`. You may well have these variables running around in your own code, and scoping makes sure that you don't need to worry about someone else's function overwriting them.\n",
      "\n",
      "Functions take inputs, perform their work, and return outputs. You don't have to know what they are doing under the hood, and your own functions should play nice in the same way."
     ]
    },
    {
     "cell_type": "heading",
     "level": 3,
     "metadata": {},
     "source": [
      "What makes a good function?"
     ]
    },
    {
     "cell_type": "markdown",
     "metadata": {},
     "source": [
      "Some things to consider:\n",
      "- functions do *one thing*\n",
      "- functions give us the chance to replace confusing behavior with clearly named behavior\n",
      "- functions allow us to obey the DRY principle (don't repeat yourself)\n",
      "- functions can call other functions\n",
      "\n",
      "So how about we rewrite some parts of the above code?"
     ]
    },
    {
     "cell_type": "code",
     "collapsed": false,
     "input": [
      "def get_data_files(pathparts):\n",
      "    \"\"\"\n",
      "    This function takes an iterable of path parts (directories), \n",
      "    finds all files in that directory, and returns a list of those files.\n",
      "    \"\"\"\n",
      "    \n",
      "    import os\n",
      "    \n",
      "    # here, we call tuple so that \n",
      "    fullpath = os.path.join(*pathparts)\n",
      "\n",
      "    datfiles = os.listdir(fullpath)\n",
      "    \n",
      "    # now add the fullpath to each of these file names so\n",
      "    # we output a list of absolute paths\n",
      "    \n",
      "    output_list = [os.path.join(fullpath, f) for f in datfiles]  # whoa!\n",
      "    \n",
      "    return output_list"
     ],
     "language": "python",
     "metadata": {},
     "outputs": [],
     "prompt_number": 42
    },
    {
     "cell_type": "code",
     "collapsed": false,
     "input": [
      "print get_data_files(pathparts)  # should work as before\n",
      "\n",
      "print get_data_files(list(pathparts))  # even works if the input is a list"
     ],
     "language": "python",
     "metadata": {},
     "outputs": [
      {
       "output_type": "stream",
       "stream": "stdout",
       "text": [
        "['data/primates/Black.csv', 'data/primates/Catta.csv', 'data/primates/Macaque.csv', 'data/primates/Mongoose.csv', 'data/primates/trained_Macaque.csv']\n",
        "['data/primates/Black.csv', 'data/primates/Catta.csv', 'data/primates/Macaque.csv', 'data/primates/Mongoose.csv', 'data/primates/trained_Macaque.csv']\n"
       ]
      }
     ],
     "prompt_number": 43
    },
    {
     "cell_type": "markdown",
     "metadata": {},
     "source": [
      "Note that Python is smart enough to use a list, since the `*` operator will convert any iterable object (one that can be stepped through) with a tuple and then unpack as normal.\n",
      "\n",
      "Also, we used a fancy trick inside called a [list comprehension](https://docs.python.org/2/tutorial/datastructures.html#list-comprehensions) that makes it easy to do some operations where we would normally have to iterate (i.e., use a `for` loop).\n",
      "\n",
      "And we can define a couple of other functions:"
     ]
    },
    {
     "cell_type": "code",
     "collapsed": false,
     "input": [
      "def extract_data(df):\n",
      "    \"\"\"\n",
      "    Calculate the mean RT and Accuracy per subject for the dataframe df. \n",
      "    Return result as a data frame.\n",
      "    \"\"\"\n",
      "    \n",
      "    groupvar = 'Sub'\n",
      "    colvars = ['Accuracy', 'RT']\n",
      "    \n",
      "    return df.groupby(groupvar)[colvars].mean()"
     ],
     "language": "python",
     "metadata": {},
     "outputs": [],
     "prompt_number": 44
    },
    {
     "cell_type": "code",
     "collapsed": false,
     "input": [
      "def plot_RT_dist(df, ax):\n",
      "    \"\"\"\n",
      "    Given a file name and axis object, plot the RT distribution for \n",
      "    each animal in the file into the axis object.\n",
      "    \"\"\"\n",
      "    \n",
      "    groupvar = 'Sub'\n",
      "    colvar = 'RT'\n",
      "    \n",
      "    for name, grp in df.groupby(groupvar):\n",
      "        grp[colvar].plot(kind='density', ax=ax, label=name.capitalize());\n",
      "        \n",
      "    return ax"
     ],
     "language": "python",
     "metadata": {},
     "outputs": [],
     "prompt_number": 45
    },
    {
     "cell_type": "code",
     "collapsed": false,
     "input": [
      "def do_all_analysis(files):\n",
      "    \"\"\"\n",
      "    This function plots the reaction time density for each subject in each file\n",
      "    contained in the iterable files. It also calculates the mean accuracy and \n",
      "    reaction time for each subject and returns these in a data frame.\n",
      "    Files should be full file paths.\n",
      "    \"\"\"\n",
      "    import matplotlib.pyplot as plt\n",
      "    import pandas as pd\n",
      "    \n",
      "    df_pieces = []\n",
      "    ax = plt.figure().gca()\n",
      "    \n",
      "    for f in files:\n",
      "        # read in data\n",
      "        df = pd.read_csv(f, index_col=0)\n",
      "        \n",
      "        # process summary data from df\n",
      "        summary_data = extract_data(df)\n",
      "        df_pieces.append(summary_data)\n",
      "        \n",
      "        # plot Reaction Time distribution\n",
      "        plot_RT_dist(df, ax)\n",
      "        \n",
      "    # add legend to figure\n",
      "    plt.legend(bbox_to_anchor=(1.05, 1), loc=2, borderaxespad=0.);\n",
      "    \n",
      "    # get figure corresponding to axis\n",
      "    fig = ax.get_figure()  \n",
      "    \n",
      "    # concatenate all extracted dataframe pieces into one\n",
      "    combined_data = pd.concat(df_pieces)\n",
      "    \n",
      "    # now return a tuple with the combined data frame and the figure object\n",
      "    return combined_data, fig "
     ],
     "language": "python",
     "metadata": {},
     "outputs": [],
     "prompt_number": 46
    },
    {
     "cell_type": "code",
     "collapsed": false,
     "input": [
      "flist = get_data_files(pathparts)\n",
      "\n",
      "summary_data, fig = do_all_analysis(flist)\n",
      "\n",
      "plt.xlim(0, 6);\n",
      "\n",
      "summary_data"
     ],
     "language": "python",
     "metadata": {},
     "outputs": [
      {
       "html": [
        "<div style=\"max-height:1000px;max-width:1500px;overflow:auto;\">\n",
        "<table border=\"1\" class=\"dataframe\">\n",
        "  <thead>\n",
        "    <tr style=\"text-align: right;\">\n",
        "      <th></th>\n",
        "      <th>Accuracy</th>\n",
        "      <th>RT</th>\n",
        "    </tr>\n",
        "    <tr>\n",
        "      <th>Sub</th>\n",
        "      <th></th>\n",
        "      <th></th>\n",
        "    </tr>\n",
        "  </thead>\n",
        "  <tbody>\n",
        "    <tr>\n",
        "      <th>hopkins</th>\n",
        "      <td> 0.700803</td>\n",
        "      <td> 2.023438</td>\n",
        "    </tr>\n",
        "    <tr>\n",
        "      <th>quinn</th>\n",
        "      <td> 0.749074</td>\n",
        "      <td> 1.345008</td>\n",
        "    </tr>\n",
        "    <tr>\n",
        "      <th>redford</th>\n",
        "      <td> 0.597222</td>\n",
        "      <td> 1.260423</td>\n",
        "    </tr>\n",
        "    <tr>\n",
        "      <th>tarantino</th>\n",
        "      <td> 0.725096</td>\n",
        "      <td> 1.687411</td>\n",
        "    </tr>\n",
        "    <tr>\n",
        "      <th>agathon</th>\n",
        "      <td> 0.725000</td>\n",
        "      <td> 3.105548</td>\n",
        "    </tr>\n",
        "    <tr>\n",
        "      <th>berisades</th>\n",
        "      <td> 0.727778</td>\n",
        "      <td> 0.798131</td>\n",
        "    </tr>\n",
        "    <tr>\n",
        "      <th>capnlee</th>\n",
        "      <td> 0.664193</td>\n",
        "      <td> 0.826445</td>\n",
        "    </tr>\n",
        "    <tr>\n",
        "      <th>licinius</th>\n",
        "      <td> 0.704630</td>\n",
        "      <td> 1.454208</td>\n",
        "    </tr>\n",
        "    <tr>\n",
        "      <th>broome</th>\n",
        "      <td> 0.751622</td>\n",
        "      <td> 0.825900</td>\n",
        "    </tr>\n",
        "    <tr>\n",
        "      <th>huxley</th>\n",
        "      <td> 0.738889</td>\n",
        "      <td> 2.045129</td>\n",
        "    </tr>\n",
        "    <tr>\n",
        "      <th>solly</th>\n",
        "      <td> 0.733333</td>\n",
        "      <td> 1.271243</td>\n",
        "    </tr>\n",
        "    <tr>\n",
        "      <th>yerkes</th>\n",
        "      <td> 0.636905</td>\n",
        "      <td> 0.770189</td>\n",
        "    </tr>\n",
        "    <tr>\n",
        "      <th>eduardo</th>\n",
        "      <td> 0.766854</td>\n",
        "      <td> 3.534282</td>\n",
        "    </tr>\n",
        "    <tr>\n",
        "      <th>felipe</th>\n",
        "      <td> 0.593519</td>\n",
        "      <td> 1.147807</td>\n",
        "    </tr>\n",
        "    <tr>\n",
        "      <th>pedro</th>\n",
        "      <td> 0.763109</td>\n",
        "      <td> 1.454616</td>\n",
        "    </tr>\n",
        "    <tr>\n",
        "      <th>sancho</th>\n",
        "      <td> 0.661111</td>\n",
        "      <td> 1.890181</td>\n",
        "    </tr>\n",
        "    <tr>\n",
        "      <th>feinstein</th>\n",
        "      <td> 0.910185</td>\n",
        "      <td> 0.843286</td>\n",
        "    </tr>\n",
        "    <tr>\n",
        "      <th>mikulski</th>\n",
        "      <td> 0.846296</td>\n",
        "      <td> 0.583694</td>\n",
        "    </tr>\n",
        "    <tr>\n",
        "      <th>schroeder</th>\n",
        "      <td> 0.726852</td>\n",
        "      <td> 0.978447</td>\n",
        "    </tr>\n",
        "  </tbody>\n",
        "</table>\n",
        "</div>"
       ],
       "metadata": {},
       "output_type": "pyout",
       "prompt_number": 47,
       "text": [
        "           Accuracy        RT\n",
        "Sub                          \n",
        "hopkins    0.700803  2.023438\n",
        "quinn      0.749074  1.345008\n",
        "redford    0.597222  1.260423\n",
        "tarantino  0.725096  1.687411\n",
        "agathon    0.725000  3.105548\n",
        "berisades  0.727778  0.798131\n",
        "capnlee    0.664193  0.826445\n",
        "licinius   0.704630  1.454208\n",
        "broome     0.751622  0.825900\n",
        "huxley     0.738889  2.045129\n",
        "solly      0.733333  1.271243\n",
        "yerkes     0.636905  0.770189\n",
        "eduardo    0.766854  3.534282\n",
        "felipe     0.593519  1.147807\n",
        "pedro      0.763109  1.454616\n",
        "sancho     0.661111  1.890181\n",
        "feinstein  0.910185  0.843286\n",
        "mikulski   0.846296  0.583694\n",
        "schroeder  0.726852  0.978447"
       ]
      },
      {
       "metadata": {},
       "output_type": "display_data",
       "png": "[encoded data removed]",
       "text": [
        "<matplotlib.figure.Figure at 0x10b2896d0>"
       ]
      }
     ],
     "prompt_number": 47
    },
    {
     "cell_type": "heading",
     "level": 1,
     "metadata": {},
     "source": [
      "Writing your own modules:"
     ]
    },
    {
     "cell_type": "markdown",
     "metadata": {},
     "source": [
      "In `lemurs.py`, I've extracted this code into its own standalone module. That is, I've excerpted the functions into their own file. There are at least three ways we can use this separate code file:\n",
      "\n",
      "1. Because the file has a line\n",
      "\n",
      "    ~~~python\n",
      "    if __name__ == '__main__':\n",
      "    ~~~\n",
      "    \n",
      "    the code will check to see if it is being run as a standalone module from the command line. In that case, the special variable `__name__` has the value `'__main__'`, and the code following the colon will execute. In that case, we can simply type\n",
      "    \n",
      "    ~~~\n",
      "    python lemurs.py\n",
      "    ~~~\n",
      "    \n",
      "    at the command line to load the module and run all the code that follows the `if` statement above.\n",
      "\n",
      "1. Similarly, we can use the `%run` magic function in the IPython notebook:\n",
      "\n",
      "    ~~~\n",
      "    %run lemurs\n",
      "    ~~~\n",
      "    \n",
      "    This will have the same effect, except we will be able to carry on at the end of the code with all the variables still intact. This is great if we want to pull part of our analysis into a separate file but try out new ideas in the notebook from the place the code left off.\n",
      "    \n",
      "1. Finally, if we just want to make use of some function in the module we can do\n",
      "    \n",
      "    ~~~python\n",
      "    import lemurs\n",
      "    ~~~\n",
      "    \n",
      "    which loads all of the definitions from the module into memory where we can call them. This is *exactly* what we did in importing pandas or numpy, but this time with our own code!"
     ]
    },
    {
     "cell_type": "code",
     "collapsed": false,
     "input": [
      "%run lemurs"
     ],
     "language": "python",
     "metadata": {},
     "outputs": [
      {
       "metadata": {},
       "output_type": "display_data",
       "png": "[encoded data removed]",
       "text": [
        "<matplotlib.figure.Figure at 0x1054e9b90>"
       ]
      }
     ],
     "prompt_number": 48
    },
    {
     "cell_type": "code",
     "collapsed": false,
     "input": [
      "import lemurs\n",
      "\n",
      "dir(lemurs)"
     ],
     "language": "python",
     "metadata": {},
     "outputs": [
      {
       "metadata": {},
       "output_type": "pyout",
       "prompt_number": 49,
       "text": [
        "['__builtins__',\n",
        " '__doc__',\n",
        " '__file__',\n",
        " '__name__',\n",
        " '__package__',\n",
        " 'do_all_analysis',\n",
        " 'extract_data',\n",
        " 'get_data_files',\n",
        " 'os',\n",
        " 'pd',\n",
        " 'plot_RT_dist',\n",
        " 'plt']"
       ]
      }
     ],
     "prompt_number": 49
    },
    {
     "cell_type": "code",
     "collapsed": false,
     "input": [
      "lemurs.get_data_files(pathparts)"
     ],
     "language": "python",
     "metadata": {},
     "outputs": [
      {
       "metadata": {},
       "output_type": "pyout",
       "prompt_number": 50,
       "text": [
        "['data/primates/Black.csv',\n",
        " 'data/primates/Catta.csv',\n",
        " 'data/primates/Macaque.csv',\n",
        " 'data/primates/Mongoose.csv',\n",
        " 'data/primates/trained_Macaque.csv']"
       ]
      }
     ],
     "prompt_number": 50
    },
    {
     "cell_type": "code",
     "collapsed": false,
     "input": [],
     "language": "python",
     "metadata": {},
     "outputs": []
    }
   ],
   "metadata": {}
  }
 ]
}