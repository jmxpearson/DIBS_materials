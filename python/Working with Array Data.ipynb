{
 "metadata": {
  "name": "",
  "signature": "sha256:55586499ad97ce96058523c361cf9aff52fb9bd1682448cdbe52f7886e3d8b53"
 },
 "nbformat": 3,
 "nbformat_minor": 0,
 "worksheets": [
  {
   "cells": [
    {
     "cell_type": "heading",
     "level": 1,
     "metadata": {},
     "source": [
      "Working with Array Data"
     ]
    },
    {
     "cell_type": "markdown",
     "metadata": {},
     "source": [
      "Data frames are a great choice when your data can be organized as a table (i.e., laid out in rows and columns), but what if your data are naturally multidimensional? What if you need to perform serious number crunching &mdash; matrix algebra, signal, or image processing &mdash; in order to get to a result? For these needs the NumPy package provides a general data type, the n-dimensional array or `ndarray`. This data type is so powerful that it forms the basis for most serious numerical processing in Python, including Pandas, SciPy, and image processing packages like scikit-image."
     ]
    },
    {
     "cell_type": "markdown",
     "metadata": {},
     "source": [
      "In this lesson, we'll get you used to working with arrays: how to learn about them, select sets of data within them, and plot them. Again, we'll only cover the basics, but the NumPy documentation is thorough and easy to search on the web."
     ]
    },
    {
     "cell_type": "heading",
     "level": 1,
     "metadata": {},
     "source": [
      "Loading data"
     ]
    },
    {
     "cell_type": "markdown",
     "metadata": {},
     "source": [
      "We'll start by getting some tools out of our toolbox and setting up for work:"
     ]
    },
    {
     "cell_type": "code",
     "collapsed": false,
     "input": [
      "import numpy as np  # this nickname (numpy = np) is so common as to be ubiquitous\n",
      "import matplotlib.pyplot as plt  # this is also common; pyplot contains most of the common functions\n",
      "%matplotlib inline  "
     ],
     "language": "python",
     "metadata": {},
     "outputs": [],
     "prompt_number": 2
    },
    {
     "cell_type": "markdown",
     "metadata": {},
     "source": [
      "Next, get the data from [here](http://people.duke.edu/~jmp33/dibs/arraydata.npy) and place it in a folder called `data` in your working directory."
     ]
    },
    {
     "cell_type": "markdown",
     "metadata": {},
     "source": [
      "These data are in `.npy` format, which is NumPy's native array format. Numpy is capable of saving arrays in compressed format (`.gz`) or in plain text (`.txt`) if arrays are 2-dimensional. Bear in mind that NumPy and SciPy can also be used to read in data from other common formats including those used by Matlab."
     ]
    },
    {
     "cell_type": "markdown",
     "metadata": {},
     "source": [
      "Now let's load the data"
     ]
    },
    {
     "cell_type": "code",
     "collapsed": false,
     "input": [
      "arr = np.load('data/arraydata.npy')"
     ],
     "language": "python",
     "metadata": {},
     "outputs": [],
     "prompt_number": 3
    },
    {
     "cell_type": "markdown",
     "metadata": {},
     "source": [
      "Well, that was easy!"
     ]
    },
    {
     "cell_type": "markdown",
     "metadata": {},
     "source": [
      "Let's see what we can learn about this variable we just loaded data into:"
     ]
    },
    {
     "cell_type": "code",
     "collapsed": false,
     "input": [
      "print type(arr)\n",
      "print arr.shape"
     ],
     "language": "python",
     "metadata": {},
     "outputs": [
      {
       "output_type": "stream",
       "stream": "stdout",
       "text": [
        "<type 'numpy.ndarray'>\n",
        "(128, 96, 24, 2)\n"
       ]
      }
     ],
     "prompt_number": 4
    },
    {
     "cell_type": "markdown",
     "metadata": {},
     "source": [
      "We see that this type of object is a `numpy.ndarray`, as expected, and that its shape is given by four numbers. That is, it's a *four-dimensional* array!"
     ]
    },
    {
     "cell_type": "markdown",
     "metadata": {},
     "source": [
      "What does it look like?"
     ]
    },
    {
     "cell_type": "code",
     "collapsed": false,
     "input": [
      "print arr"
     ],
     "language": "python",
     "metadata": {},
     "outputs": [
      {
       "output_type": "stream",
       "stream": "stdout",
       "text": [
        "[[[[0 0]\n",
        "   [0 0]\n",
        "   [0 0]\n",
        "   ..., \n",
        "   [0 0]\n",
        "   [0 0]\n",
        "   [0 0]]\n",
        "\n",
        "  [[0 0]\n",
        "   [0 0]\n",
        "   [0 0]\n",
        "   ..., \n",
        "   [0 0]\n",
        "   [0 0]\n",
        "   [0 0]]\n",
        "\n",
        "  [[0 0]\n",
        "   [0 0]\n",
        "   [0 0]\n",
        "   ..., \n",
        "   [0 0]\n",
        "   [0 0]\n",
        "   [0 0]]\n",
        "\n",
        "  ..., \n",
        "  [[0 0]\n",
        "   [0 0]\n",
        "   [0 0]\n",
        "   ..., \n",
        "   [0 0]\n",
        "   [0 0]\n",
        "   [0 0]]\n",
        "\n",
        "  [[0 0]\n",
        "   [0 0]\n",
        "   [0 0]\n",
        "   ..., \n",
        "   [0 0]\n",
        "   [0 0]\n",
        "   [0 0]]\n",
        "\n",
        "  [[0 0]\n",
        "   [0 0]\n",
        "   [0 0]\n",
        "   ..., \n",
        "   [0 0]\n",
        "   [0 0]\n",
        "   [0 0]]]\n",
        "\n",
        "\n",
        " [[[0 0]\n",
        "   [0 0]\n",
        "   [0 0]\n",
        "   ..., \n",
        "   [0 0]\n",
        "   [0 0]\n",
        "   [0 0]]\n",
        "\n",
        "  [[0 0]\n",
        "   [0 0]\n",
        "   [0 0]\n",
        "   ..., \n",
        "   [0 0]\n",
        "   [0 0]\n",
        "   [0 0]]\n",
        "\n",
        "  [[0 0]\n",
        "   [0 0]\n",
        "   [0 0]\n",
        "   ..., \n",
        "   [0 0]\n",
        "   [0 0]\n",
        "   [0 0]]\n",
        "\n",
        "  ..., \n",
        "  [[0 0]\n",
        "   [0 0]\n",
        "   [0 0]\n",
        "   ..., \n",
        "   [0 0]\n",
        "   [0 0]\n",
        "   [0 0]]\n",
        "\n",
        "  [[0 0]\n",
        "   [0 0]\n",
        "   [0 0]\n",
        "   ..., \n",
        "   [0 0]\n",
        "   [0 0]\n",
        "   [0 0]]\n",
        "\n",
        "  [[0 0]\n",
        "   [0 0]\n",
        "   [0 0]\n",
        "   ..., \n",
        "   [0 0]\n",
        "   [0 0]\n",
        "   [0 0]]]\n",
        "\n",
        "\n",
        " [[[0 0]\n",
        "   [0 0]\n",
        "   [0 0]\n",
        "   ..., \n",
        "   [0 0]\n",
        "   [0 0]\n",
        "   [0 0]]\n",
        "\n",
        "  [[0 0]\n",
        "   [0 0]\n",
        "   [0 0]\n",
        "   ..., \n",
        "   [0 0]\n",
        "   [0 0]\n",
        "   [0 0]]\n",
        "\n",
        "  [[0 0]\n",
        "   [0 0]\n",
        "   [0 0]\n",
        "   ..., \n",
        "   [0 0]\n",
        "   [0 0]\n",
        "   [0 0]]\n",
        "\n",
        "  ..., \n",
        "  [[0 0]\n",
        "   [0 0]\n",
        "   [0 0]\n",
        "   ..., \n",
        "   [0 0]\n",
        "   [0 0]\n",
        "   [0 0]]\n",
        "\n",
        "  [[0 0]\n",
        "   [0 0]\n",
        "   [0 0]\n",
        "   ..., \n",
        "   [0 0]\n",
        "   [0 0]\n",
        "   [0 0]]\n",
        "\n",
        "  [[0 0]\n",
        "   [0 0]\n",
        "   [0 0]\n",
        "   ..., \n",
        "   [0 0]\n",
        "   [0 0]\n",
        "   [0 0]]]\n",
        "\n",
        "\n",
        " ..., \n",
        " [[[0 0]\n",
        "   [0 0]\n",
        "   [0 0]\n",
        "   ..., \n",
        "   [0 0]\n",
        "   [0 0]\n",
        "   [0 0]]\n",
        "\n",
        "  [[0 0]\n",
        "   [0 0]\n",
        "   [0 0]\n",
        "   ..., \n",
        "   [0 0]\n",
        "   [0 0]\n",
        "   [0 0]]\n",
        "\n",
        "  [[0 0]\n",
        "   [0 0]\n",
        "   [0 0]\n",
        "   ..., \n",
        "   [0 0]\n",
        "   [0 0]\n",
        "   [0 0]]\n",
        "\n",
        "  ..., \n",
        "  [[0 0]\n",
        "   [0 0]\n",
        "   [0 0]\n",
        "   ..., \n",
        "   [0 0]\n",
        "   [0 0]\n",
        "   [0 0]]\n",
        "\n",
        "  [[0 0]\n",
        "   [0 0]\n",
        "   [0 0]\n",
        "   ..., \n",
        "   [0 0]\n",
        "   [0 0]\n",
        "   [0 0]]\n",
        "\n",
        "  [[0 0]\n",
        "   [0 0]\n",
        "   [0 0]\n",
        "   ..., \n",
        "   [0 0]\n",
        "   [0 0]\n",
        "   [0 0]]]\n",
        "\n",
        "\n",
        " [[[0 0]\n",
        "   [0 0]\n",
        "   [0 0]\n",
        "   ..., \n",
        "   [0 0]\n",
        "   [0 0]\n",
        "   [0 0]]\n",
        "\n",
        "  [[0 0]\n",
        "   [0 0]\n",
        "   [0 0]\n",
        "   ..., \n",
        "   [0 0]\n",
        "   [0 0]\n",
        "   [0 0]]\n",
        "\n",
        "  [[0 0]\n",
        "   [0 0]\n",
        "   [0 0]\n",
        "   ..., \n",
        "   [0 0]\n",
        "   [0 0]\n",
        "   [0 0]]\n",
        "\n",
        "  ..., \n",
        "  [[0 0]\n",
        "   [0 0]\n",
        "   [0 0]\n",
        "   ..., \n",
        "   [0 0]\n",
        "   [0 0]\n",
        "   [0 0]]\n",
        "\n",
        "  [[0 0]\n",
        "   [0 0]\n",
        "   [0 0]\n",
        "   ..., \n",
        "   [0 0]\n",
        "   [0 0]\n",
        "   [0 0]]\n",
        "\n",
        "  [[0 0]\n",
        "   [0 0]\n",
        "   [0 0]\n",
        "   ..., \n",
        "   [0 0]\n",
        "   [0 0]\n",
        "   [0 0]]]\n",
        "\n",
        "\n",
        " [[[0 0]\n",
        "   [0 0]\n",
        "   [0 0]\n",
        "   ..., \n",
        "   [0 0]\n",
        "   [0 0]\n",
        "   [0 0]]\n",
        "\n",
        "  [[0 0]\n",
        "   [0 0]\n",
        "   [0 0]\n",
        "   ..., \n",
        "   [0 0]\n",
        "   [0 0]\n",
        "   [0 0]]\n",
        "\n",
        "  [[0 0]\n",
        "   [0 0]\n",
        "   [0 0]\n",
        "   ..., \n",
        "   [0 0]\n",
        "   [0 0]\n",
        "   [0 0]]\n",
        "\n",
        "  ..., \n",
        "  [[0 0]\n",
        "   [0 0]\n",
        "   [0 0]\n",
        "   ..., \n",
        "   [0 0]\n",
        "   [0 0]\n",
        "   [0 0]]\n",
        "\n",
        "  [[0 0]\n",
        "   [0 0]\n",
        "   [0 0]\n",
        "   ..., \n",
        "   [0 0]\n",
        "   [0 0]\n",
        "   [0 0]]\n",
        "\n",
        "  [[0 0]\n",
        "   [0 0]\n",
        "   [0 0]\n",
        "   ..., \n",
        "   [0 0]\n",
        "   [0 0]\n",
        "   [0 0]]]]\n"
       ]
      }
     ],
     "prompt_number": 6
    },
    {
     "cell_type": "markdown",
     "metadata": {},
     "source": [
      "That probably doesn't seem very helpful. In general, with large arrays, we simply can't look at all the data. As usual, the way we will address this is by plotting. However, we can't plot all the dimensions of the array at once..."
     ]
    },
    {
     "cell_type": "heading",
     "level": 1,
     "metadata": {},
     "source": [
      "Plotting array data"
     ]
    },
    {
     "cell_type": "markdown",
     "metadata": {},
     "source": [
      "So we would like to plot our data (to see it better), but first, we need to select a subset of the data we can actually plot. The way we will do this is by taking *slices* through the data. For instance, if we do"
     ]
    },
    {
     "cell_type": "code",
     "collapsed": false,
     "input": [
      "slc = arr[64, :, :, 0]\n",
      "print slc.shape"
     ],
     "language": "python",
     "metadata": {},
     "outputs": [
      {
       "output_type": "stream",
       "stream": "stdout",
       "text": [
        "(96, 24)\n"
       ]
      }
     ],
     "prompt_number": 8
    },
    {
     "cell_type": "markdown",
     "metadata": {},
     "source": [
      "We've done a few interesting things:\n",
      "- Just like with Pandas, we've used square brackets `[ ]` to extract data from an object. One of the hallmarks of Python is its consistency: this notation of getting something from an object via brackets will work for almost any object in Python for which it makes sense, including lists, dictionaries, and tuples, as we shall see.\n",
      "- We have asked for the subset of the array at position 64 along axis 0 (remember, number starts at 0) and at position 0 along axis 3.\n",
      "- We have asked for `:` (read \"all\") entries along the first and second axes.\n",
      "\n",
      "The result of this is a two-dimensional array with shape (96, 24)!"
     ]
    },
    {
     "cell_type": "heading",
     "level": 2,
     "metadata": {},
     "source": [
      "The NumPy ndarray model:"
     ]
    },
    {
     "cell_type": "markdown",
     "metadata": {},
     "source": [
      "This business of axes can get a little confusing, so we need to spend some time understanding how arrays work mathematically and how NumPy maps this to code."
     ]
    },
    {
     "cell_type": "markdown",
     "metadata": {},
     "source": [
      "Let's assume we have an array, $A$, with three dimensions, perhaps corresponding to val"
     ]
    }
   ],
   "metadata": {}
  }
 ]
}