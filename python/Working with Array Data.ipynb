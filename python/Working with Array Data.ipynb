{
 "metadata": {
  "name": "",
  "signature": "sha256:b35a6f87f20df0e4708ac6f8cbb9768cbb2e871dc2c2e63d09160ee3de04242a"
 },
 "nbformat": 3,
 "nbformat_minor": 0,
 "worksheets": [
  {
   "cells": [
    {
     "cell_type": "heading",
     "level": 1,
     "metadata": {},
     "source": [
      "Working with Array Data"
     ]
    },
    {
     "cell_type": "markdown",
     "metadata": {},
     "source": [
      "Data frames are a great choice when your data can be organized as a table (i.e., laid out in rows and columns), but what if your data are naturally multidimensional? What if you need to perform serious number crunching &mdash; matrix algebra, signal, or image processing &mdash; in order to get to a result? For these needs the NumPy package provides a general data type, the n-dimensional array or `ndarray`. This data type is so powerful that it forms the basis for most serious numerical processing in Python, including Pandas, SciPy, and image processing packages like scikit-image."
     ]
    },
    {
     "cell_type": "markdown",
     "metadata": {},
     "source": [
      "In this lesson, we'll get you used to working with arrays: how to learn about them, select sets of data within them, and plot them. Again, we'll only cover the basics, but the NumPy documentation is thorough and easy to search on the web."
     ]
    },
    {
     "cell_type": "heading",
     "level": 1,
     "metadata": {},
     "source": [
      "Warm-up: Lists"
     ]
    },
    {
     "cell_type": "markdown",
     "metadata": {},
     "source": [
      "Lists are one of the fundamental data types in Python. A list is, well, a list of objects:"
     ]
    },
    {
     "cell_type": "code",
     "collapsed": false,
     "input": [
      "a = 1.5\n",
      "b = 'spam'\n",
      "mylist = [2, 7, a, 'eggs', b]\n",
      "print mylist"
     ],
     "language": "python",
     "metadata": {},
     "outputs": [
      {
       "output_type": "stream",
       "stream": "stdout",
       "text": [
        "[2, 7, 1.5, 'eggs', 'spam']\n"
       ]
      }
     ],
     "prompt_number": 9
    },
    {
     "cell_type": "markdown",
     "metadata": {},
     "source": [
      "Lists are defined with using square brackets, and can contain variables of any type, separated by commas. \n",
      "\n",
      "Again, elements of a list can be anything even other lists:"
     ]
    },
    {
     "cell_type": "code",
     "collapsed": false,
     "input": [
      "another_list = ['pooh', 'piglet']\n",
      "mylist.append(another_list)  # we can use this to append to a list (in-place)\n",
      "print mylist\n",
      "print len(mylist)\n",
      "\n",
      "mylist = mylist + [1, 1.7, -2]  # concatenation is easy!\n",
      "print mylist"
     ],
     "language": "python",
     "metadata": {},
     "outputs": [
      {
       "output_type": "stream",
       "stream": "stdout",
       "text": [
        "[2, 7, 1.5, 'eggs', 'spam', ['pooh', 'piglet'], ['pooh', 'piglet'], ['pooh', 'piglet']]\n",
        "8\n",
        "[2, 7, 1.5, 'eggs', 'spam', ['pooh', 'piglet'], ['pooh', 'piglet'], ['pooh', 'piglet'], 1, 1.7, -2]\n"
       ]
      }
     ],
     "prompt_number": 28
    },
    {
     "cell_type": "markdown",
     "metadata": {},
     "source": [
      "We can access the elements of a list using square brackets, just as we did with Pandas. Python is a very consistent language, so the pattern \"get an item using square brackets\" will show up over and over again."
     ]
    },
    {
     "cell_type": "code",
     "collapsed": false,
     "input": [
      "print mylist[0]  # first element\n",
      "print mylist[2]  # third element\n",
      "print mylist[-1]  # last element\n",
      "print mylist[-2]  # penultimate element"
     ],
     "language": "python",
     "metadata": {},
     "outputs": [
      {
       "output_type": "stream",
       "stream": "stdout",
       "text": [
        "2\n",
        "1.5\n",
        "['pooh', 'piglet']\n",
        "spam\n"
       ]
      }
     ],
     "prompt_number": 11
    },
    {
     "cell_type": "markdown",
     "metadata": {},
     "source": [
      "We can also use a technique called slicing to get subsequences from the list:"
     ]
    },
    {
     "cell_type": "code",
     "collapsed": false,
     "input": [
      "print mylist[:]  # all elements\n",
      "print mylist[1:3]  # elements >= 1 and < 3 (note that element 3 is *not* included)\n",
      "print mylist[:-1]  # all but last element\n",
      "print mylist[3:]  # elements 3 to end\n",
      "print mylist[::2]  # every other element"
     ],
     "language": "python",
     "metadata": {},
     "outputs": [
      {
       "output_type": "stream",
       "stream": "stdout",
       "text": [
        "[2, 7, 1.5, 'eggs', 'spam', ['pooh', 'piglet']]\n",
        "[7, 1.5]\n",
        "[2, 7, 1.5, 'eggs', 'spam']\n",
        "['eggs', 'spam', ['pooh', 'piglet']]\n",
        "[2, 1.5, 'spam']\n"
       ]
      }
     ],
     "prompt_number": 14
    },
    {
     "cell_type": "markdown",
     "metadata": {},
     "source": [
      "Note that we can use a *slice* object inside the brackets. This object is of the form `start:stop:step`. Note that the `start` element is included, but the `stop` element is not. Any of these arguments can be omitted, in which case \n",
      "* `start` is assumed to be 0\n",
      "* `stop` is assumed to be `len(mylist)`\n",
      "* `step` is assumed to be 1"
     ]
    },
    {
     "cell_type": "heading",
     "level": 1,
     "metadata": {},
     "source": [
      "Warm-up: Lists of lists"
     ]
    },
    {
     "cell_type": "markdown",
     "metadata": {},
     "source": [
      "In cases where we have a matrix of data we want to represent, a natural way to do that is as a list of lists:"
     ]
    },
    {
     "cell_type": "code",
     "collapsed": false,
     "input": [
      "mydata = [[1, 2, 3], [4, 5, 6]]\n",
      "print mydata\n",
      "print len(mydata)"
     ],
     "language": "python",
     "metadata": {},
     "outputs": [
      {
       "output_type": "stream",
       "stream": "stdout",
       "text": [
        "[[1, 2, 3], [4, 5, 6]]\n",
        "2\n"
       ]
      }
     ],
     "prompt_number": 21
    },
    {
     "cell_type": "markdown",
     "metadata": {},
     "source": [
      "This is a nested list. It has two elements:"
     ]
    },
    {
     "cell_type": "code",
     "collapsed": false,
     "input": [
      "mydata[0]"
     ],
     "language": "python",
     "metadata": {},
     "outputs": [
      {
       "metadata": {},
       "output_type": "pyout",
       "prompt_number": 25,
       "text": [
        "[1, 2, 3]"
       ]
      }
     ],
     "prompt_number": 25
    },
    {
     "cell_type": "markdown",
     "metadata": {},
     "source": [
      "and we can get individual data by accessing the list inside a list"
     ]
    },
    {
     "cell_type": "code",
     "collapsed": false,
     "input": [
      "print mydata[0][1]"
     ],
     "language": "python",
     "metadata": {},
     "outputs": [
      {
       "output_type": "stream",
       "stream": "stdout",
       "text": [
        "2\n"
       ]
      }
     ],
     "prompt_number": 26
    },
    {
     "cell_type": "markdown",
     "metadata": {},
     "source": [
      "We can think of this in analogy with a 2 x 3 matrix, where the first index gives the row, and the second index gives the column.\n",
      "\n",
      "In this case, `mydata[0][1]` instructs us to get the 0th element of `mydata` (the first row), and the 1st element from that (the second column)."
     ]
    },
    {
     "cell_type": "markdown",
     "metadata": {},
     "source": [
      "However, there are some drawbacks for using lists to represent large arrays of data:\n",
      "- Lists are flexible in that the elements of the list can be of any type, but this makes them slower and less memory-efficient than arrays where all the elements are of the same type (e.g., integer or decimal numbers).\n",
      "- It's pretty clear what `mydata[0][1]` does, but for arrays with many dimensions, we might like to write something simpler, like `mydata[0, 1]`. Doing this with lists gives an error.\n",
      "- We would also like to do math with matrices, but since lists can contain anything, Python lacks a notion of math operations on lists"
     ]
    },
    {
     "cell_type": "markdown",
     "metadata": {},
     "source": [
      "The NumPy package resolves these issues by defining the `ndarray`..."
     ]
    },
    {
     "cell_type": "heading",
     "level": 1,
     "metadata": {},
     "source": [
      "The NumPy array:"
     ]
    },
    {
     "cell_type": "markdown",
     "metadata": {},
     "source": [
      "If we already have a list of lists, NumPy gives us a clear way to convert it to an array:"
     ]
    },
    {
     "cell_type": "code",
     "collapsed": false,
     "input": [
      "import numpy as np  # this nickname (numpy = np) is so common as to be ubiquitous"
     ],
     "language": "python",
     "metadata": {},
     "outputs": [],
     "prompt_number": 29
    },
    {
     "cell_type": "code",
     "collapsed": false,
     "input": [
      "myarray = np.array(mydata)\n",
      "print myarray\n",
      "print type(myarray)"
     ],
     "language": "python",
     "metadata": {},
     "outputs": [
      {
       "output_type": "stream",
       "stream": "stdout",
       "text": [
        "[[1 2 3]\n",
        " [4 5 6]]\n",
        "<type 'numpy.ndarray'>\n"
       ]
      }
     ],
     "prompt_number": 32
    },
    {
     "cell_type": "markdown",
     "metadata": {},
     "source": [
      "Note that the `myarray` variable is a `numpy.ndarray`, and that it prints a little prettier than the list of lists, making clear that it's a 2 x 3 matrix. In fact, just like with Pandas, we can find out the dimensions of an array with the `shape` attribute (note again the consistency of syntax across data types in Python):"
     ]
    },
    {
     "cell_type": "code",
     "collapsed": false,
     "input": [
      "print myarray.shape"
     ],
     "language": "python",
     "metadata": {},
     "outputs": [
      {
       "output_type": "stream",
       "stream": "stdout",
       "text": [
        "(2, 3)\n"
       ]
      }
     ],
     "prompt_number": 33
    },
    {
     "cell_type": "markdown",
     "metadata": {},
     "source": [
      "We can use some of the same syntax as before:"
     ]
    },
    {
     "cell_type": "code",
     "collapsed": false,
     "input": [
      "print myarray[0]\n",
      "print myarray[0].shape"
     ],
     "language": "python",
     "metadata": {},
     "outputs": [
      {
       "output_type": "stream",
       "stream": "stdout",
       "text": [
        "[1 2 3]\n",
        "(3,)\n"
       ]
      }
     ],
     "prompt_number": 34
    },
    {
     "cell_type": "markdown",
     "metadata": {},
     "source": [
      "Just as before, the 0th element is the first row. In this case, however, the 0th element is an array of shape `(3,)`, a vector of length 3. We will see that selecting rows or columns from an array returns a *view* of that array, with dimensions correspondingly reduced.\n",
      "\n",
      "Along the same lines:"
     ]
    },
    {
     "cell_type": "code",
     "collapsed": false,
     "input": [
      "print myarray[1]\n",
      "print myarray[1][0]\n",
      "print myarray[1][1:]"
     ],
     "language": "python",
     "metadata": {},
     "outputs": [
      {
       "output_type": "stream",
       "stream": "stdout",
       "text": [
        "[4 5 6]\n",
        "4\n",
        "[5 6]\n"
       ]
      }
     ],
     "prompt_number": 36
    },
    {
     "cell_type": "markdown",
     "metadata": {},
     "source": [
      "But we can now use a more natural notation:"
     ]
    },
    {
     "cell_type": "code",
     "collapsed": false,
     "input": [
      "print myarray[1, 0]\n",
      "print myarray[1, 1:]\n",
      "print myarray[:, 0]"
     ],
     "language": "python",
     "metadata": {},
     "outputs": [
      {
       "output_type": "stream",
       "stream": "stdout",
       "text": [
        "4\n",
        "[5 6]\n",
        "[1 4]\n"
       ]
      }
     ],
     "prompt_number": 37
    },
    {
     "cell_type": "markdown",
     "metadata": {},
     "source": [
      "And this is just the tip of the iceberg. You can use slicing along any dimension of an array, arrays to index into arrays, and much more. See the [SciPy docs](http://docs.scipy.org/doc/numpy/user/basics.indexing.html) for details."
     ]
    },
    {
     "cell_type": "heading",
     "level": 1,
     "metadata": {},
     "source": [
      "Loading data"
     ]
    },
    {
     "cell_type": "markdown",
     "metadata": {},
     "source": [
      "But let's move on to a real example:"
     ]
    },
    {
     "cell_type": "markdown",
     "metadata": {},
     "source": [
      "Get the data from [here](http://people.duke.edu/~jmp33/dibs/arraydata.npy) and place it in a folder called `data` in your working directory."
     ]
    },
    {
     "cell_type": "markdown",
     "metadata": {},
     "source": [
      "These data are in `.npy` format, which is NumPy's native array format. Numpy is capable of saving arrays in compressed format (`.gz`) or in plain text (`.txt`) if arrays are 2-dimensional. Bear in mind that NumPy and SciPy can also be used to read in data from other common formats including those used by Matlab."
     ]
    },
    {
     "cell_type": "markdown",
     "metadata": {},
     "source": [
      "Now let's load the data"
     ]
    },
    {
     "cell_type": "code",
     "collapsed": false,
     "input": [
      "arr = np.load('data/arraydata.npy')"
     ],
     "language": "python",
     "metadata": {},
     "outputs": [],
     "prompt_number": 38
    },
    {
     "cell_type": "markdown",
     "metadata": {},
     "source": [
      "Well, that was easy!"
     ]
    },
    {
     "cell_type": "markdown",
     "metadata": {},
     "source": [
      "Let's see what we can learn about this variable we just loaded data into:"
     ]
    },
    {
     "cell_type": "code",
     "collapsed": false,
     "input": [
      "print type(arr)\n",
      "print arr.shape"
     ],
     "language": "python",
     "metadata": {},
     "outputs": [
      {
       "output_type": "stream",
       "stream": "stdout",
       "text": [
        "<type 'numpy.ndarray'>\n",
        "(128, 96, 24, 2)\n"
       ]
      }
     ],
     "prompt_number": 39
    },
    {
     "cell_type": "markdown",
     "metadata": {},
     "source": [
      "We see that this type of object is a `numpy.ndarray`, as expected, and that its shape is given by four numbers. That is, it's a *four-dimensional* array!"
     ]
    },
    {
     "cell_type": "markdown",
     "metadata": {},
     "source": [
      "What does it look like?"
     ]
    },
    {
     "cell_type": "code",
     "collapsed": false,
     "input": [
      "print arr"
     ],
     "language": "python",
     "metadata": {},
     "outputs": [
      {
       "output_type": "stream",
       "stream": "stdout",
       "text": [
        "[[[[0 0]\n",
        "   [0 0]\n",
        "   [0 0]\n",
        "   ..., \n",
        "   [0 0]\n",
        "   [0 0]\n",
        "   [0 0]]\n",
        "\n",
        "  [[0 0]\n",
        "   [0 0]\n",
        "   [0 0]\n",
        "   ..., \n",
        "   [0 0]\n",
        "   [0 0]\n",
        "   [0 0]]\n",
        "\n",
        "  [[0 0]\n",
        "   [0 0]\n",
        "   [0 0]\n",
        "   ..., \n",
        "   [0 0]\n",
        "   [0 0]\n",
        "   [0 0]]\n",
        "\n",
        "  ..., \n",
        "  [[0 0]\n",
        "   [0 0]\n",
        "   [0 0]\n",
        "   ..., \n",
        "   [0 0]\n",
        "   [0 0]\n",
        "   [0 0]]\n",
        "\n",
        "  [[0 0]\n",
        "   [0 0]\n",
        "   [0 0]\n",
        "   ..., \n",
        "   [0 0]\n",
        "   [0 0]\n",
        "   [0 0]]\n",
        "\n",
        "  [[0 0]\n",
        "   [0 0]\n",
        "   [0 0]\n",
        "   ..., \n",
        "   [0 0]\n",
        "   [0 0]\n",
        "   [0 0]]]\n",
        "\n",
        "\n",
        " [[[0 0]\n",
        "   [0 0]\n",
        "   [0 0]\n",
        "   ..., \n",
        "   [0 0]\n",
        "   [0 0]\n",
        "   [0 0]]\n",
        "\n",
        "  [[0 0]\n",
        "   [0 0]\n",
        "   [0 0]\n",
        "   ..., \n",
        "   [0 0]\n",
        "   [0 0]\n",
        "   [0 0]]\n",
        "\n",
        "  [[0 0]\n",
        "   [0 0]\n",
        "   [0 0]\n",
        "   ..., \n",
        "   [0 0]\n",
        "   [0 0]\n",
        "   [0 0]]\n",
        "\n",
        "  ..., \n",
        "  [[0 0]\n",
        "   [0 0]\n",
        "   [0 0]\n",
        "   ..., \n",
        "   [0 0]\n",
        "   [0 0]\n",
        "   [0 0]]\n",
        "\n",
        "  [[0 0]\n",
        "   [0 0]\n",
        "   [0 0]\n",
        "   ..., \n",
        "   [0 0]\n",
        "   [0 0]\n",
        "   [0 0]]\n",
        "\n",
        "  [[0 0]\n",
        "   [0 0]\n",
        "   [0 0]\n",
        "   ..., \n",
        "   [0 0]\n",
        "   [0 0]\n",
        "   [0 0]]]\n",
        "\n",
        "\n",
        " [[[0 0]\n",
        "   [0 0]\n",
        "   [0 0]\n",
        "   ..., \n",
        "   [0 0]\n",
        "   [0 0]\n",
        "   [0 0]]\n",
        "\n",
        "  [[0 0]\n",
        "   [0 0]\n",
        "   [0 0]\n",
        "   ..., \n",
        "   [0 0]\n",
        "   [0 0]\n",
        "   [0 0]]\n",
        "\n",
        "  [[0 0]\n",
        "   [0 0]\n",
        "   [0 0]\n",
        "   ..., \n",
        "   [0 0]\n",
        "   [0 0]\n",
        "   [0 0]]\n",
        "\n",
        "  ..., \n",
        "  [[0 0]\n",
        "   [0 0]\n",
        "   [0 0]\n",
        "   ..., \n",
        "   [0 0]\n",
        "   [0 0]\n",
        "   [0 0]]\n",
        "\n",
        "  [[0 0]\n",
        "   [0 0]\n",
        "   [0 0]\n",
        "   ..., \n",
        "   [0 0]\n",
        "   [0 0]\n",
        "   [0 0]]\n",
        "\n",
        "  [[0 0]\n",
        "   [0 0]\n",
        "   [0 0]\n",
        "   ..., \n",
        "   [0 0]\n",
        "   [0 0]\n",
        "   [0 0]]]\n",
        "\n",
        "\n",
        " ..., \n",
        " [[[0 0]\n",
        "   [0 0]\n",
        "   [0 0]\n",
        "   ..., \n",
        "   [0 0]\n",
        "   [0 0]\n",
        "   [0 0]]\n",
        "\n",
        "  [[0 0]\n",
        "   [0 0]\n",
        "   [0 0]\n",
        "   ..., \n",
        "   [0 0]\n",
        "   [0 0]\n",
        "   [0 0]]\n",
        "\n",
        "  [[0 0]\n",
        "   [0 0]\n",
        "   [0 0]\n",
        "   ..., \n",
        "   [0 0]\n",
        "   [0 0]\n",
        "   [0 0]]\n",
        "\n",
        "  ..., \n",
        "  [[0 0]\n",
        "   [0 0]\n",
        "   [0 0]\n",
        "   ..., \n",
        "   [0 0]\n",
        "   [0 0]\n",
        "   [0 0]]\n",
        "\n",
        "  [[0 0]\n",
        "   [0 0]\n",
        "   [0 0]\n",
        "   ..., \n",
        "   [0 0]\n",
        "   [0 0]\n",
        "   [0 0]]\n",
        "\n",
        "  [[0 0]\n",
        "   [0 0]\n",
        "   [0 0]\n",
        "   ..., \n",
        "   [0 0]\n",
        "   [0 0]\n",
        "   [0 0]]]\n",
        "\n",
        "\n",
        " [[[0 0]\n",
        "   [0 0]\n",
        "   [0 0]\n",
        "   ..., \n",
        "   [0 0]\n",
        "   [0 0]\n",
        "   [0 0]]\n",
        "\n",
        "  [[0 0]\n",
        "   [0 0]\n",
        "   [0 0]\n",
        "   ..., \n",
        "   [0 0]\n",
        "   [0 0]\n",
        "   [0 0]]\n",
        "\n",
        "  [[0 0]\n",
        "   [0 0]\n",
        "   [0 0]\n",
        "   ..., \n",
        "   [0 0]\n",
        "   [0 0]\n",
        "   [0 0]]\n",
        "\n",
        "  ..., \n",
        "  [[0 0]\n",
        "   [0 0]\n",
        "   [0 0]\n",
        "   ..., \n",
        "   [0 0]\n",
        "   [0 0]\n",
        "   [0 0]]\n",
        "\n",
        "  [[0 0]\n",
        "   [0 0]\n",
        "   [0 0]\n",
        "   ..., \n",
        "   [0 0]\n",
        "   [0 0]\n",
        "   [0 0]]\n",
        "\n",
        "  [[0 0]\n",
        "   [0 0]\n",
        "   [0 0]\n",
        "   ..., \n",
        "   [0 0]\n",
        "   [0 0]\n",
        "   [0 0]]]\n",
        "\n",
        "\n",
        " [[[0 0]\n",
        "   [0 0]\n",
        "   [0 0]\n",
        "   ..., \n",
        "   [0 0]\n",
        "   [0 0]\n",
        "   [0 0]]\n",
        "\n",
        "  [[0 0]\n",
        "   [0 0]\n",
        "   [0 0]\n",
        "   ..., \n",
        "   [0 0]\n",
        "   [0 0]\n",
        "   [0 0]]\n",
        "\n",
        "  [[0 0]\n",
        "   [0 0]\n",
        "   [0 0]\n",
        "   ..., \n",
        "   [0 0]\n",
        "   [0 0]\n",
        "   [0 0]]\n",
        "\n",
        "  ..., \n",
        "  [[0 0]\n",
        "   [0 0]\n",
        "   [0 0]\n",
        "   ..., \n",
        "   [0 0]\n",
        "   [0 0]\n",
        "   [0 0]]\n",
        "\n",
        "  [[0 0]\n",
        "   [0 0]\n",
        "   [0 0]\n",
        "   ..., \n",
        "   [0 0]\n",
        "   [0 0]\n",
        "   [0 0]]\n",
        "\n",
        "  [[0 0]\n",
        "   [0 0]\n",
        "   [0 0]\n",
        "   ..., \n",
        "   [0 0]\n",
        "   [0 0]\n",
        "   [0 0]]]]\n"
       ]
      }
     ],
     "prompt_number": 40
    },
    {
     "cell_type": "markdown",
     "metadata": {},
     "source": [
      "That probably doesn't seem very helpful. In general, with large arrays, we simply can't look at all the data. As usual, the way we will address this is by plotting. However, we can't plot all the dimensions of the array at once..."
     ]
    },
    {
     "cell_type": "heading",
     "level": 1,
     "metadata": {},
     "source": [
      "Plotting array data"
     ]
    },
    {
     "cell_type": "code",
     "collapsed": false,
     "input": [
      "import matplotlib.pyplot as plt  # this is also common; pyplot contains most of the common functions\n",
      "%matplotlib inline  "
     ],
     "language": "python",
     "metadata": {},
     "outputs": [],
     "prompt_number": 2
    },
    {
     "cell_type": "markdown",
     "metadata": {},
     "source": [
      "So we would like to plot our data (to see it better), but first, we need to select a subset of the data we can actually plot. The way we will do this is by taking *slices* through the data. For instance, if we do"
     ]
    },
    {
     "cell_type": "code",
     "collapsed": false,
     "input": [
      "slc = arr[64, :, :, 0]\n",
      "print slc.shape"
     ],
     "language": "python",
     "metadata": {},
     "outputs": [
      {
       "output_type": "stream",
       "stream": "stdout",
       "text": [
        "(96, 24)\n"
       ]
      }
     ],
     "prompt_number": 42
    },
    {
     "cell_type": "markdown",
     "metadata": {},
     "source": [
      "Just as before, we've asked for position 64 along axis 0, and position 0 along axis 3, with all elements in axes 1 and 2. Just as with a coordinate grid, fixing two coordinates has left us two coordinates unspecified, so the result is a 2d array."
     ]
    },
    {
     "cell_type": "markdown",
     "metadata": {},
     "source": [
      "To view this array, we can think of plotting it as an image, where the value of the array entry becomes an image intensity value:"
     ]
    },
    {
     "cell_type": "code",
     "collapsed": false,
     "input": [
      "# the matplotlib functiont to show a matrix is matshow\n",
      "plt.matshow(slc)"
     ],
     "language": "python",
     "metadata": {},
     "outputs": [
      {
       "metadata": {},
       "output_type": "pyout",
       "prompt_number": 44,
       "text": [
        "<matplotlib.image.AxesImage at 0x108beec10>"
       ]
      },
      {
       "metadata": {},
       "output_type": "display_data",
       "png": "[encoded data removed]",
       "text": [
        "<matplotlib.figure.Figure at 0x108b76310>"
       ]
      }
     ],
     "prompt_number": 44
    },
    {
     "cell_type": "markdown",
     "metadata": {},
     "source": [
      "Hmmmm. What if we instead plotted this as an image? (`matshow` is mostly for looking at matrices. The following command is better for visualizing data that are a gridded version of smooth information, like an image. You may often want to try this both ways.)"
     ]
    },
    {
     "cell_type": "code",
     "collapsed": false,
     "input": [
      "imgplot = plt.imshow(slc, cmap='gray')  # cmap is for colormap"
     ],
     "language": "python",
     "metadata": {},
     "outputs": [
      {
       "metadata": {},
       "output_type": "display_data",
       "png": "[encoded data removed]",
       "text": [
        "<matplotlib.figure.Figure at 0x10900ebd0>"
       ]
      }
     ],
     "prompt_number": 51
    },
    {
     "cell_type": "code",
     "collapsed": false,
     "input": [],
     "language": "python",
     "metadata": {},
     "outputs": []
    }
   ],
   "metadata": {}
  }
 ]
}